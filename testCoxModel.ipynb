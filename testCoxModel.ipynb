{
  "nbformat": 4,
  "nbformat_minor": 0,
  "metadata": {
    "colab": {
      "provenance": []
    },
    "kernelspec": {
      "name": "python3",
      "display_name": "Python 3"
    },
    "language_info": {
      "name": "python"
    },
    "accelerator": "GPU",
    "gpuClass": "standard"
  },
  "cells": [
    {
      "cell_type": "code",
      "execution_count": null,
      "metadata": {
        "id": "bd7EQRNYiup9"
      },
      "outputs": [],
      "source": [
        "pip install lifelines"
      ]
    },
    {
      "cell_type": "code",
      "source": [
        "import lifelines\n",
        "import numpy as np\n",
        "import pandas as pd\n",
        "from lifelines import CoxPHFitter"
      ],
      "metadata": {
        "id": "k50GP5fmjbN9"
      },
      "execution_count": null,
      "outputs": []
    },
    {
      "cell_type": "code",
      "source": [
        "df = pd.read_csv('training_data_bad_modified.csv')"
      ],
      "metadata": {
        "id": "kBzh9VjOlsxP"
      },
      "execution_count": null,
      "outputs": []
    },
    {
      "cell_type": "code",
      "source": [
        "def get_time(snapshot, mthcode):\n",
        "    snapshot = str(snapshot)\n",
        "    mthcode = str(mthcode)\n",
        "    x1 = int(snapshot[0:4])\n",
        "    x2 = int(snapshot[4:6])\n",
        "    y1 = int(mthcode[0:4])\n",
        "    y2 = int(mthcode[4:6])\n",
        "    time = (y1 - x1)*(12) - x2 + y2\n",
        "    return time\n",
        "\n",
        "df['time'] = df.apply(lambda row: get_time(row['snapshot'], row['mth_code']), axis=1)"
      ],
      "metadata": {
        "id": "hnqbxSeQnB5o"
      },
      "execution_count": null,
      "outputs": []
    },
    {
      "cell_type": "code",
      "source": [
        "df['time'] = df['time'].astype('float32')\n",
        "df['charge_off'] = df['charge_off'].astype('float32')"
      ],
      "metadata": {
        "id": "-4froY0bxKBt"
      },
      "execution_count": null,
      "outputs": []
    },
    {
      "cell_type": "code",
      "source": [
        "df['time'] = df['time'].to_frame()\n",
        "df['charge_off'] = df['charge_off'].to_frame()"
      ],
      "metadata": {
        "id": "xvZ0mlek4jnl"
      },
      "execution_count": null,
      "outputs": []
    },
    {
      "cell_type": "code",
      "source": [
        "df1 = pd.DataFrame(df[\"time\"], df[\"charge_off\"], columns=['time', 'charge_off'])\n",
        "df2 = pd.DataFrame()\n",
        "df2[\"time\"] = df['time']\n",
        "df2['charge_off'] = df[\"charge_off\"]\n",
        "df2['promotion_flag'] = df['promotion_flag']\n",
        "df2['variable_rate_index'] = df['variable_rate_index']\n",
        "df2.head()"
      ],
      "metadata": {
        "id": "8kcWJ_sY7eW2"
      },
      "execution_count": null,
      "outputs": []
    },
    {
      "cell_type": "code",
      "source": [
        "cph = CoxPHFitter()\n",
        "cph.fit(df2, duration_col='time', event_col='charge_off')\n",
        "\n",
        "cph.print_summary()"
      ],
      "metadata": {
        "id": "B_G5OHZ1wlKX"
      },
      "execution_count": null,
      "outputs": []
    },
    {
      "cell_type": "code",
      "source": [
        "cph.plot()"
      ],
      "metadata": {
        "id": "BvR8kP4KgHZm"
      },
      "execution_count": null,
      "outputs": []
    },
    {
      "cell_type": "code",
      "source": [
        "cph.plot_partial_effects_on_outcome(covariates=['promotion_flag', 'variable_rate_index'], values=[[0,1],[1,0],[1,1],[0,0]], cmap='coolwarm')"
      ],
      "metadata": {
        "colab": {
          "base_uri": "https://localhost:8080/",
          "height": 283
        },
        "id": "GI6rj498g7vE",
        "outputId": "084aedc6-441e-42ee-e3ff-5f99d08702f9"
      },
      "execution_count": null,
      "outputs": [
        {
          "output_type": "execute_result",
          "data": {
            "text/plain": [
              "<Axes: >"
            ]
          },
          "metadata": {},
          "execution_count": 25
        },
        {
          "output_type": "display_data",
          "data": {
            "text/plain": [
              "<Figure size 432x288 with 1 Axes>"
            ],
            "image/png": "[encoded data removed]"
          },
          "metadata": {
            "needs_background": "light"
          }
        }
      ]
    }
  ]
}