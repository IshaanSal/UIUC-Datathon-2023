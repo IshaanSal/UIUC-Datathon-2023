{
 "cells": [
  {
   "cell_type": "code",
   "execution_count": 99,
   "metadata": {},
   "outputs": [],
   "source": [
    "import pandas as pd\n",
    "import numpy as np\n",
    "import plotly.express as px\n",
    "import matplotlib.pyplot as plt"
   ]
  },
  {
   "cell_type": "code",
   "execution_count": 124,
   "metadata": {},
   "outputs": [
    {
     "name": "stderr",
     "output_type": "stream",
     "text": [
      "/var/folders/cy/zk4z3gfd61j8bl6zhmcvx7yw0000gn/T/ipykernel_58502/3840625447.py:3: DtypeWarning:\n",
      "\n",
      "Columns (51) have mixed types. Specify dtype option on import or set low_memory=False.\n",
      "\n"
     ]
    }
   ],
   "source": [
    "forecast = pd.read_csv(\"forecast_starting_data.csv\")\n",
    "#macro = pd.read_csv(\"macro_data.csv\")\n",
    "training = pd.read_csv(\"training_data.csv\")"
   ]
  },
  {
   "cell_type": "code",
   "execution_count": 62,
   "metadata": {},
   "outputs": [
    {
     "name": "stdout",
     "output_type": "stream",
     "text": [
      "(15698, 69) (1806, 69) (13892, 69)\n"
     ]
    }
   ],
   "source": [
    "#FINDING: BK AND AGE ARE LISTED IN CHARGED OFF\n",
    "\n",
    "charged_off = training[training[\"charge_off\"] == 1]\n",
    "x = charged_off.shape\n",
    "bk = charged_off.loc[charged_off[\"charge_off_bk\"] == 1]\n",
    "y = bk.shape\n",
    "age = charged_off.loc[charged_off[\"charge_off_aged\"] == 1]\n",
    "z = age.shape\n",
    "print(x, y, z)"
   ]
  },
  {
   "cell_type": "code",
   "execution_count": 63,
   "metadata": {},
   "outputs": [],
   "source": [
    "training[\"add\"] = training[\"closed\"] + training[\"active\"]\n",
    "training.drop([\"add\"], axis = 1, inplace = True)\n"
   ]
  },
  {
   "cell_type": "code",
   "execution_count": 64,
   "metadata": {},
   "outputs": [
    {
     "data": {
      "text/plain": [
       "(5758185, 69)"
      ]
     },
     "execution_count": 64,
     "metadata": {},
     "output_type": "execute_result"
    }
   ],
   "source": [
    "#POSSIBLE DATA ERROR: 38 were found to be active and closed at the same time\n",
    "closed = training[training[\"closed\"] == 0]\n",
    "active = closed[closed[\"active\"] == 0]\n",
    "active.shape\n",
    "closed.shape"
   ]
  },
  {
   "cell_type": "code",
   "execution_count": 65,
   "metadata": {},
   "outputs": [],
   "source": [
    "active = training[training[\"closed\"] == 0]"
   ]
  },
  {
   "attachments": {},
   "cell_type": "markdown",
   "metadata": {},
   "source": [
    "### DATA CLEANING AND PROCESSING - TRAINING"
   ]
  },
  {
   "cell_type": "code",
   "execution_count": 153,
   "metadata": {},
   "outputs": [
    {
     "data": {
      "text/plain": [
       "(5758223, 56)"
      ]
     },
     "execution_count": 153,
     "metadata": {},
     "output_type": "execute_result"
    }
   ],
   "source": [
    "#dropping redundencies and writeoffs because writeoffs are a post charge_off issue, thus unlikely to cause one\n",
    "training.drop([\"charge_off_aged\", \"charge_off_bk\", \"writeoff_type_bko\", \"writeoff_type_fraud_kiting\", \"writeoff_type_fraud_synthetic\", \"writeoff_type_other\", \"writeoff_type_aged\", \"writeoff_type_settlement\", \"writeoff_type_fraud_other\", \"writeoff_type_repo\", \"writeoff_type_null\", 'writeoff_type_deceased'], axis = 1, inplace= True)\n",
    "#Checking whether or not writeoffs are correct\n",
    "\n",
    "\n",
    "\n",
    "#only two reason codes, but we don't know what they mean so uneeded for analysis(dropped)\n",
    "sample = training[\"charge_off_reason_code\"].dropna()\n",
    "sample.unique()\n",
    "training.drop([\"charge_off_reason_code\"], axis = 1, inplace = True)\n",
    "training.shape\n",
    "\n"
   ]
  },
  {
   "cell_type": "code",
   "execution_count": 154,
   "metadata": {},
   "outputs": [],
   "source": [
    "def get_time(snapshot, mthcode):\n",
    "    snapshot = str(snapshot)\n",
    "    mthcode = str(mthcode)\n",
    "    x1 = int(snapshot[0:4])\n",
    "    x2 = int(snapshot[4:6])\n",
    "    y1 = int(mthcode[0:4])\n",
    "    y2 = int(mthcode[4:6])\n",
    "    time = (y1 - x1)*(12) - x2 + y2\n",
    "    return time\n",
    "training['time'] = training.apply(lambda row: get_time(row['snapshot'], row['mth_code']), axis=1)\n",
    "training.drop([\"mth_code\"], axis = 1, inplace = True)"
   ]
  },
  {
   "cell_type": "code",
   "execution_count": 155,
   "metadata": {},
   "outputs": [],
   "source": [
    "#training[\"estimated_charge_off\"] = training[\"aged_writeoff_amt\"] + training['bankruptcy_writeoff_amt'] + training['fraud_writeoff_amt'] + training[\"other_writeoff_amt\"]\n",
    "training.drop([\"total_writeoff_amt\", \"aged_writeoff_amt\", 'bankruptcy_writeoff_amt', 'fraud_writeoff_amt', \"other_writeoff_amt\", \"writeoff_date\"], axis = 1, inplace = True)"
   ]
  },
  {
   "cell_type": "code",
   "execution_count": 156,
   "metadata": {},
   "outputs": [],
   "source": [
    "# training.columns.get_loc(\"charge_off\")\n",
    "# for i in range(training_correlation.shape[1]):\n",
    "#     print(training_correlation[i][20])\n",
    "sample = pd.get_dummies(training[\"net_payment_behaviour_tripd\"])\n",
    "training = training.join(sample)\n",
    "training.drop([\"net_payment_behaviour_tripd\"], axis = 1, inplace = True)\n",
    "training[\"net_payment_behaviour_tripd\"] = training[\"T\"] + 2*training[\"R\"] + 3*training[\"I\"] + 4*training[\"P\"] + 5*training[\"D\"]\n"
   ]
  },
  {
   "cell_type": "code",
   "execution_count": 157,
   "metadata": {},
   "outputs": [],
   "source": [
    "training.drop([\"T\", \"R\", \"I\", \"P\", \"D\", \"C\"], axis = 1, inplace = True)\n",
    "training.drop([\"due_balance_2\", \"due_balance_3\", \"due_balance_4\", \"due_balance_5\", \"due_balance_6\", \"due_balance_7\", \"due_balance_8\"], axis = 1, inplace = True)"
   ]
  },
  {
   "cell_type": "code",
   "execution_count": 158,
   "metadata": {},
   "outputs": [
    {
     "data": {
      "text/plain": [
       "array(['I 0-6', 'I 7-12', 'A', 'I 13-24', 'I 25+', 'Recovery', 'W',\n",
       "       'MonthEnd', 'Clchange'], dtype=object)"
      ]
     },
     "execution_count": 158,
     "metadata": {},
     "output_type": "execute_result"
    }
   ],
   "source": [
    "training.account_status_code.unique()"
   ]
  },
  {
   "cell_type": "code",
   "execution_count": 159,
   "metadata": {},
   "outputs": [],
   "source": [
    "sample = pd.get_dummies(training[\"account_status_code\"])\n",
    "training = training.join(sample)\n",
    "training[\"account_status_code\"] = training['I 0-6'] + 2*training['I 7-12'] + 3*training['A'] + 4*training['I 13-24'] + 5*training['I 25+'] + 6*training['Recovery'] + 7*training['W'] + 8*training['MonthEnd'] + 9*training['Clchange']\n",
    "training.drop(['I 0-6', 'I 7-12', 'A', 'I 13-24', 'I 25+', 'Recovery', 'W',\n",
    "       'MonthEnd', 'Clchange'], axis = 1, inplace = True)"
   ]
  },
  {
   "cell_type": "code",
   "execution_count": 160,
   "metadata": {},
   "outputs": [
    {
     "data": {
      "text/plain": [
       "array(['581-600', '721-740', '761+', '661-680', '601-620', '701-720',\n",
       "       '621-640', '561-580', '641-660', '741-760', '681-700', '<= 560',\n",
       "       'Exception', 'Missing'], dtype=object)"
      ]
     },
     "execution_count": 160,
     "metadata": {},
     "output_type": "execute_result"
    }
   ],
   "source": [
    "training.bank_fico_buckets_20.unique()"
   ]
  },
  {
   "cell_type": "code",
   "execution_count": 161,
   "metadata": {},
   "outputs": [],
   "source": [
    "sample = pd.get_dummies(training[\"bank_fico_buckets_20\"])\n",
    "training = training.join(sample)\n",
    "training[\"bank_fico_buckets_20\"] = training['581-600'] + 2*training['721-740'] + 3*training['761+'] + 4*training['661-680'] + 5*training['601-620'] + 6*training['701-720'] + 7*training['621-640'] + 8*training['561-580'] + 9*training['641-660'] + 10*training['741-760'] + 11*training['681-700'] + 12*training['<= 560'] + 13*training['Exception'] + 14 *training['Missing']\n",
    "training.drop(['581-600', '721-740', '761+', '661-680', '601-620', '701-720',\n",
    "       '621-640', '561-580', '641-660', '741-760', '681-700', '<= 560',\n",
    "       'Exception', 'Missing'], axis = 1, inplace = True)"
   ]
  },
  {
   "cell_type": "code",
   "execution_count": 162,
   "metadata": {},
   "outputs": [
    {
     "data": {
      "text/html": [
       "<div>\n",
       "<style scoped>\n",
       "    .dataframe tbody tr th:only-of-type {\n",
       "        vertical-align: middle;\n",
       "    }\n",
       "\n",
       "    .dataframe tbody tr th {\n",
       "        vertical-align: top;\n",
       "    }\n",
       "\n",
       "    .dataframe thead th {\n",
       "        text-align: right;\n",
       "    }\n",
       "</style>\n",
       "<table border=\"1\" class=\"dataframe\">\n",
       "  <thead>\n",
       "    <tr style=\"text-align: right;\">\n",
       "      <th></th>\n",
       "      <th>financial_active</th>\n",
       "      <th>promotion_flag</th>\n",
       "      <th>variable_rate_index</th>\n",
       "      <th>account_status_code</th>\n",
       "      <th>active_12_mths</th>\n",
       "      <th>bank_fico_buckets_20</th>\n",
       "      <th>mob</th>\n",
       "      <th>open_closed_flag</th>\n",
       "      <th>ever_delinquent_flg</th>\n",
       "      <th>nbr_mths_due</th>\n",
       "      <th>...</th>\n",
       "      <th>due_account_3</th>\n",
       "      <th>due_account_4</th>\n",
       "      <th>due_account_5</th>\n",
       "      <th>due_account_6</th>\n",
       "      <th>due_account_7</th>\n",
       "      <th>due_account_8</th>\n",
       "      <th>snapshot</th>\n",
       "      <th>industry</th>\n",
       "      <th>time</th>\n",
       "      <th>net_payment_behaviour_tripd</th>\n",
       "    </tr>\n",
       "  </thead>\n",
       "  <tbody>\n",
       "    <tr>\n",
       "      <th>337775</th>\n",
       "      <td>1.0</td>\n",
       "      <td>1</td>\n",
       "      <td>1</td>\n",
       "      <td>3</td>\n",
       "      <td>1.0</td>\n",
       "      <td>9</td>\n",
       "      <td>8</td>\n",
       "      <td>1.0</td>\n",
       "      <td>0.0</td>\n",
       "      <td>2.0</td>\n",
       "      <td>...</td>\n",
       "      <td>0.0</td>\n",
       "      <td>0.0</td>\n",
       "      <td>0.0</td>\n",
       "      <td>0.0</td>\n",
       "      <td>0.0</td>\n",
       "      <td>0.0</td>\n",
       "      <td>201801</td>\n",
       "      <td>C</td>\n",
       "      <td>1</td>\n",
       "      <td>5</td>\n",
       "    </tr>\n",
       "    <tr>\n",
       "      <th>337776</th>\n",
       "      <td>1.0</td>\n",
       "      <td>1</td>\n",
       "      <td>0</td>\n",
       "      <td>3</td>\n",
       "      <td>1.0</td>\n",
       "      <td>12</td>\n",
       "      <td>13</td>\n",
       "      <td>1.0</td>\n",
       "      <td>0.0</td>\n",
       "      <td>3.0</td>\n",
       "      <td>...</td>\n",
       "      <td>0.0</td>\n",
       "      <td>0.0</td>\n",
       "      <td>0.0</td>\n",
       "      <td>0.0</td>\n",
       "      <td>0.0</td>\n",
       "      <td>0.0</td>\n",
       "      <td>201801</td>\n",
       "      <td>A</td>\n",
       "      <td>14</td>\n",
       "      <td>4</td>\n",
       "    </tr>\n",
       "    <tr>\n",
       "      <th>337777</th>\n",
       "      <td>1.0</td>\n",
       "      <td>0</td>\n",
       "      <td>0</td>\n",
       "      <td>1</td>\n",
       "      <td>1.0</td>\n",
       "      <td>9</td>\n",
       "      <td>27</td>\n",
       "      <td>0.0</td>\n",
       "      <td>1.0</td>\n",
       "      <td>2.0</td>\n",
       "      <td>...</td>\n",
       "      <td>0.0</td>\n",
       "      <td>0.0</td>\n",
       "      <td>0.0</td>\n",
       "      <td>0.0</td>\n",
       "      <td>0.0</td>\n",
       "      <td>0.0</td>\n",
       "      <td>201801</td>\n",
       "      <td>A</td>\n",
       "      <td>15</td>\n",
       "      <td>5</td>\n",
       "    </tr>\n",
       "    <tr>\n",
       "      <th>337778</th>\n",
       "      <td>0.0</td>\n",
       "      <td>1</td>\n",
       "      <td>0</td>\n",
       "      <td>3</td>\n",
       "      <td>1.0</td>\n",
       "      <td>7</td>\n",
       "      <td>2</td>\n",
       "      <td>0.0</td>\n",
       "      <td>0.0</td>\n",
       "      <td>0.0</td>\n",
       "      <td>...</td>\n",
       "      <td>0.0</td>\n",
       "      <td>0.0</td>\n",
       "      <td>0.0</td>\n",
       "      <td>0.0</td>\n",
       "      <td>0.0</td>\n",
       "      <td>0.0</td>\n",
       "      <td>201801</td>\n",
       "      <td>C</td>\n",
       "      <td>2</td>\n",
       "      <td>5</td>\n",
       "    </tr>\n",
       "    <tr>\n",
       "      <th>337779</th>\n",
       "      <td>1.0</td>\n",
       "      <td>0</td>\n",
       "      <td>0</td>\n",
       "      <td>3</td>\n",
       "      <td>1.0</td>\n",
       "      <td>12</td>\n",
       "      <td>20</td>\n",
       "      <td>1.0</td>\n",
       "      <td>0.0</td>\n",
       "      <td>2.0</td>\n",
       "      <td>...</td>\n",
       "      <td>0.0</td>\n",
       "      <td>0.0</td>\n",
       "      <td>0.0</td>\n",
       "      <td>0.0</td>\n",
       "      <td>0.0</td>\n",
       "      <td>0.0</td>\n",
       "      <td>201801</td>\n",
       "      <td>B</td>\n",
       "      <td>7</td>\n",
       "      <td>5</td>\n",
       "    </tr>\n",
       "    <tr>\n",
       "      <th>...</th>\n",
       "      <td>...</td>\n",
       "      <td>...</td>\n",
       "      <td>...</td>\n",
       "      <td>...</td>\n",
       "      <td>...</td>\n",
       "      <td>...</td>\n",
       "      <td>...</td>\n",
       "      <td>...</td>\n",
       "      <td>...</td>\n",
       "      <td>...</td>\n",
       "      <td>...</td>\n",
       "      <td>...</td>\n",
       "      <td>...</td>\n",
       "      <td>...</td>\n",
       "      <td>...</td>\n",
       "      <td>...</td>\n",
       "      <td>...</td>\n",
       "      <td>...</td>\n",
       "      <td>...</td>\n",
       "      <td>...</td>\n",
       "      <td>...</td>\n",
       "    </tr>\n",
       "    <tr>\n",
       "      <th>5726233</th>\n",
       "      <td>1.0</td>\n",
       "      <td>1</td>\n",
       "      <td>0</td>\n",
       "      <td>3</td>\n",
       "      <td>1.0</td>\n",
       "      <td>8</td>\n",
       "      <td>56</td>\n",
       "      <td>0.0</td>\n",
       "      <td>0.0</td>\n",
       "      <td>0.0</td>\n",
       "      <td>...</td>\n",
       "      <td>0.0</td>\n",
       "      <td>0.0</td>\n",
       "      <td>0.0</td>\n",
       "      <td>0.0</td>\n",
       "      <td>0.0</td>\n",
       "      <td>0.0</td>\n",
       "      <td>201911</td>\n",
       "      <td>A</td>\n",
       "      <td>1</td>\n",
       "      <td>5</td>\n",
       "    </tr>\n",
       "    <tr>\n",
       "      <th>5726234</th>\n",
       "      <td>1.0</td>\n",
       "      <td>0</td>\n",
       "      <td>0</td>\n",
       "      <td>3</td>\n",
       "      <td>1.0</td>\n",
       "      <td>1</td>\n",
       "      <td>230</td>\n",
       "      <td>0.0</td>\n",
       "      <td>0.0</td>\n",
       "      <td>2.0</td>\n",
       "      <td>...</td>\n",
       "      <td>0.0</td>\n",
       "      <td>0.0</td>\n",
       "      <td>0.0</td>\n",
       "      <td>0.0</td>\n",
       "      <td>0.0</td>\n",
       "      <td>0.0</td>\n",
       "      <td>201911</td>\n",
       "      <td>C</td>\n",
       "      <td>1</td>\n",
       "      <td>5</td>\n",
       "    </tr>\n",
       "    <tr>\n",
       "      <th>5726235</th>\n",
       "      <td>1.0</td>\n",
       "      <td>0</td>\n",
       "      <td>0</td>\n",
       "      <td>3</td>\n",
       "      <td>1.0</td>\n",
       "      <td>8</td>\n",
       "      <td>60</td>\n",
       "      <td>0.0</td>\n",
       "      <td>0.0</td>\n",
       "      <td>6.0</td>\n",
       "      <td>...</td>\n",
       "      <td>0.0</td>\n",
       "      <td>0.0</td>\n",
       "      <td>0.0</td>\n",
       "      <td>0.0</td>\n",
       "      <td>0.0</td>\n",
       "      <td>0.0</td>\n",
       "      <td>201911</td>\n",
       "      <td>B</td>\n",
       "      <td>1</td>\n",
       "      <td>5</td>\n",
       "    </tr>\n",
       "    <tr>\n",
       "      <th>5726236</th>\n",
       "      <td>1.0</td>\n",
       "      <td>1</td>\n",
       "      <td>0</td>\n",
       "      <td>3</td>\n",
       "      <td>1.0</td>\n",
       "      <td>12</td>\n",
       "      <td>121</td>\n",
       "      <td>0.0</td>\n",
       "      <td>1.0</td>\n",
       "      <td>3.0</td>\n",
       "      <td>...</td>\n",
       "      <td>0.0</td>\n",
       "      <td>0.0</td>\n",
       "      <td>0.0</td>\n",
       "      <td>0.0</td>\n",
       "      <td>0.0</td>\n",
       "      <td>0.0</td>\n",
       "      <td>201911</td>\n",
       "      <td>A</td>\n",
       "      <td>1</td>\n",
       "      <td>5</td>\n",
       "    </tr>\n",
       "    <tr>\n",
       "      <th>5726237</th>\n",
       "      <td>1.0</td>\n",
       "      <td>1</td>\n",
       "      <td>0</td>\n",
       "      <td>3</td>\n",
       "      <td>1.0</td>\n",
       "      <td>12</td>\n",
       "      <td>59</td>\n",
       "      <td>0.0</td>\n",
       "      <td>1.0</td>\n",
       "      <td>7.0</td>\n",
       "      <td>...</td>\n",
       "      <td>0.0</td>\n",
       "      <td>0.0</td>\n",
       "      <td>0.0</td>\n",
       "      <td>0.0</td>\n",
       "      <td>0.0</td>\n",
       "      <td>0.0</td>\n",
       "      <td>201911</td>\n",
       "      <td>C</td>\n",
       "      <td>1</td>\n",
       "      <td>5</td>\n",
       "    </tr>\n",
       "  </tbody>\n",
       "</table>\n",
       "<p>15698 rows × 43 columns</p>\n",
       "</div>"
      ],
      "text/plain": [
       "         financial_active  promotion_flag  variable_rate_index  \\\n",
       "337775                1.0               1                    1   \n",
       "337776                1.0               1                    0   \n",
       "337777                1.0               0                    0   \n",
       "337778                0.0               1                    0   \n",
       "337779                1.0               0                    0   \n",
       "...                   ...             ...                  ...   \n",
       "5726233               1.0               1                    0   \n",
       "5726234               1.0               0                    0   \n",
       "5726235               1.0               0                    0   \n",
       "5726236               1.0               1                    0   \n",
       "5726237               1.0               1                    0   \n",
       "\n",
       "         account_status_code  active_12_mths  bank_fico_buckets_20  mob  \\\n",
       "337775                     3             1.0                     9    8   \n",
       "337776                     3             1.0                    12   13   \n",
       "337777                     1             1.0                     9   27   \n",
       "337778                     3             1.0                     7    2   \n",
       "337779                     3             1.0                    12   20   \n",
       "...                      ...             ...                   ...  ...   \n",
       "5726233                    3             1.0                     8   56   \n",
       "5726234                    3             1.0                     1  230   \n",
       "5726235                    3             1.0                     8   60   \n",
       "5726236                    3             1.0                    12  121   \n",
       "5726237                    3             1.0                    12   59   \n",
       "\n",
       "         open_closed_flag  ever_delinquent_flg  nbr_mths_due  ...  \\\n",
       "337775                1.0                  0.0           2.0  ...   \n",
       "337776                1.0                  0.0           3.0  ...   \n",
       "337777                0.0                  1.0           2.0  ...   \n",
       "337778                0.0                  0.0           0.0  ...   \n",
       "337779                1.0                  0.0           2.0  ...   \n",
       "...                   ...                  ...           ...  ...   \n",
       "5726233               0.0                  0.0           0.0  ...   \n",
       "5726234               0.0                  0.0           2.0  ...   \n",
       "5726235               0.0                  0.0           6.0  ...   \n",
       "5726236               0.0                  1.0           3.0  ...   \n",
       "5726237               0.0                  1.0           7.0  ...   \n",
       "\n",
       "         due_account_3  due_account_4  due_account_5  due_account_6  \\\n",
       "337775             0.0            0.0            0.0            0.0   \n",
       "337776             0.0            0.0            0.0            0.0   \n",
       "337777             0.0            0.0            0.0            0.0   \n",
       "337778             0.0            0.0            0.0            0.0   \n",
       "337779             0.0            0.0            0.0            0.0   \n",
       "...                ...            ...            ...            ...   \n",
       "5726233            0.0            0.0            0.0            0.0   \n",
       "5726234            0.0            0.0            0.0            0.0   \n",
       "5726235            0.0            0.0            0.0            0.0   \n",
       "5726236            0.0            0.0            0.0            0.0   \n",
       "5726237            0.0            0.0            0.0            0.0   \n",
       "\n",
       "         due_account_7  due_account_8  snapshot  industry  time  \\\n",
       "337775             0.0            0.0    201801         C     1   \n",
       "337776             0.0            0.0    201801         A    14   \n",
       "337777             0.0            0.0    201801         A    15   \n",
       "337778             0.0            0.0    201801         C     2   \n",
       "337779             0.0            0.0    201801         B     7   \n",
       "...                ...            ...       ...       ...   ...   \n",
       "5726233            0.0            0.0    201911         A     1   \n",
       "5726234            0.0            0.0    201911         C     1   \n",
       "5726235            0.0            0.0    201911         B     1   \n",
       "5726236            0.0            0.0    201911         A     1   \n",
       "5726237            0.0            0.0    201911         C     1   \n",
       "\n",
       "         net_payment_behaviour_tripd  \n",
       "337775                             5  \n",
       "337776                             4  \n",
       "337777                             5  \n",
       "337778                             5  \n",
       "337779                             5  \n",
       "...                              ...  \n",
       "5726233                            5  \n",
       "5726234                            5  \n",
       "5726235                            5  \n",
       "5726236                            5  \n",
       "5726237                            5  \n",
       "\n",
       "[15698 rows x 43 columns]"
      ]
     },
     "execution_count": 162,
     "metadata": {},
     "output_type": "execute_result"
    }
   ],
   "source": [
    "training.loc[training[\"charge_off\"] == 1]"
   ]
  },
  {
   "cell_type": "code",
   "execution_count": 163,
   "metadata": {},
   "outputs": [
    {
     "data": {
      "application/vnd.plotly.v1+json": {
       "config": {
        "plotlyServerURL": "https://plot.ly"
       },
       "data": [
        {
         "coloraxis": "coloraxis",
         "hovertemplate": "x: %{x}<br>y: %{y}<br>color: %{z}<extra></extra>",
         "name": "0",
         "texttemplate": "%{z}",
         "type": "heatmap",
         "x": [
          "financial_active",
          "promotion_flag",
          "variable_rate_index",
          "account_status_code",
          "active_12_mths",
          "bank_fico_buckets_20",
          "mob",
          "open_closed_flag",
          "ever_delinquent_flg",
          "nbr_mths_due",
          "variable_rate_margin",
          "stmt_balance",
          "prev_balance",
          "net_sales",
          "net_payments",
          "purchase_active",
          "credit_limit_amt",
          "credit_limit_pa",
          "closed",
          "active",
          "charge_off",
          "principal_amt",
          "principal_amt_chrg_off",
          "fee_chg_off_reversal_amt",
          "net_finance_charge",
          "non_principal_amount_gross",
          "non_principal_amount_net",
          "non_principal_amount_stmt",
          "fc_reversals",
          "fee_reversals",
          "promo_bal_amt",
          "recovery_amt",
          "due_account_2",
          "due_account_3",
          "due_account_4",
          "due_account_5",
          "due_account_6",
          "due_account_7",
          "due_account_8",
          "snapshot",
          "time",
          "net_payment_behaviour_tripd"
         ],
         "xaxis": "x",
         "y": [
          "financial_active",
          "promotion_flag",
          "variable_rate_index",
          "account_status_code",
          "active_12_mths",
          "bank_fico_buckets_20",
          "mob",
          "open_closed_flag",
          "ever_delinquent_flg",
          "nbr_mths_due",
          "variable_rate_margin",
          "stmt_balance",
          "prev_balance",
          "net_sales",
          "net_payments",
          "purchase_active",
          "credit_limit_amt",
          "credit_limit_pa",
          "closed",
          "active",
          "charge_off",
          "principal_amt",
          "principal_amt_chrg_off",
          "fee_chg_off_reversal_amt",
          "net_finance_charge",
          "non_principal_amount_gross",
          "non_principal_amount_net",
          "non_principal_amount_stmt",
          "fc_reversals",
          "fee_reversals",
          "promo_bal_amt",
          "recovery_amt",
          "due_account_2",
          "due_account_3",
          "due_account_4",
          "due_account_5",
          "due_account_6",
          "due_account_7",
          "due_account_8",
          "snapshot",
          "time",
          "net_payment_behaviour_tripd"
         ],
         "yaxis": "y",
         "z": [
          [
           1,
           0.002916369788054198,
           0.0028849986969799474,
           -0.0054547096568758596,
           0.009092613438410245,
           0.002315406029033748,
           0.0004167283611393707,
           -0.0021914574460174317,
           0.0007049658344560992,
           0.00789658556525105,
           0.00198458080422591,
           -0.0007991618240433762,
           0.0012391707217024783,
           0.00027641918380603124,
           -0.0003012784025384836,
           0.0008391151803183179,
           -0.0020322357661400974,
           0.000997789723383243,
           -0.00016568886843253545,
           -0.03783081713824053,
           0.037884615576988676,
           -0.00012106772448260932,
           0.02305348476885626,
           0.026048940174882216,
           -0.000028331417800393224,
           0.0003918125138079536,
           0.0005836070148319499,
           0.0009512453150125336,
           0.0200070632313292,
           0.03083658514881709,
           -0.001744221460611426,
           0.005691218248414199,
           -0.0005896910038099651,
           0.0006609914883087626,
           0.0004589505596091964,
           -0.000004448775683841335,
           0.0008281170523977459,
           0.0008359620474934396,
           -0.0004100950811295149,
           -0.06470416311742162,
           0.03793346512400564,
           0.001311721180444221
          ],
          [
           0.002916369788054198,
           1,
           0.0019079968736248937,
           -0.002596471740993558,
           0.005211939874418188,
           0.001147255591477591,
           -0.0004752436188632516,
           -0.00166610498154422,
           0.00017863777680983116,
           0.003677274383255544,
           0.0001261927729559194,
           -0.0007339794971194249,
           0.0007293201339700367,
           0.0001636968390264902,
           0.00020285790145077384,
           0.00022008741492824315,
           -0.001635587600859168,
           0.00009669775781239548,
           0.0000960096962664678,
           -0.022386936520967085,
           0.02243766484037901,
           -0.00042754693532321694,
           0.013488300188353997,
           0.01499983865398152,
           0.0005190375254511504,
           0.0004947016433146434,
           0.00044974360082581006,
           -0.00017212719324549415,
           0.01233547401426458,
           0.018395716835690704,
           -0.0011955059662673813,
           0.004152753750475692,
           -0.00006612408289221653,
           0.0002726025873816028,
           0.00015651088106799225,
           0.00031870573442756745,
           0.0009007278454821414,
           0.0001461553262425921,
           0.0005273063171255626,
           -0.031784536779614674,
           0.017962752164548127,
           0.0005748367060333051
          ],
          [
           0.0028849986969799474,
           0.0019079968736248937,
           1,
           -0.0024681860129524796,
           0.0042849209608767005,
           0.0006481319961075313,
           0.00042181896682936805,
           0.0024099549264013863,
           0.0009895966396509988,
           -0.0015311192915022575,
           0.0007398201547171419,
           0.0005616627657923252,
           -0.00030525458617973423,
           0.0003424614763523339,
           0.00002082390363054175,
           0.0013398523590574414,
           -0.0001409071614202383,
           0.00132676110951795,
           0.0002704160087313156,
           0.005652971921154812,
           -0.00565809390995501,
           0.0003461993488196969,
           -0.0034738546193276427,
           -0.0036374637262190914,
           -0.000016253615232286637,
           0.0009183910474050333,
           0.0009493770839857671,
           0.00041381476946271737,
           -0.0029690446459756255,
           -0.004711602972826472,
           -0.00028504238577648975,
           -0.0012351879119450672,
           -0.000026955254762144407,
           0.00010583623570642327,
           0.00027395798125538984,
           0.00014137392191407766,
           -0.0008181095274438506,
           0.0004150539245337758,
           0.00010453320582959985,
           -0.030438082145961682,
           0.01884965759061317,
           0.00013406643432717274
          ],
          [
           -0.0054547096568758596,
           -0.002596471740993558,
           -0.0024681860129524796,
           1,
           -0.008994970645688348,
           -0.0005655498063605812,
           -0.0006504985359903165,
           -0.0032150754977978524,
           -0.0005071672919032706,
           0.0025258345109333905,
           -0.0004445015835386431,
           -0.0007946335470948171,
           -0.00020080242599213898,
           -0.0007269892839770159,
           -0.000139082947679848,
           -0.0017841500004291012,
           0.00023570081043683684,
           -0.0013464630733920967,
           0.00036014830490344344,
           -0.007998672675247656,
           0.00803139496268653,
           -0.0001685069375536126,
           0.00483942129383867,
           0.00553495130415856,
           -0.00033973960746734415,
           -0.001607530092370947,
           -0.001253056130210331,
           -0.001122070149060241,
           0.004132657196811192,
           0.006459885571086608,
           0.0012495273982512925,
           0.001912152873778566,
           0.0005793351617540012,
           0.00034155903622649355,
           -0.0009908424014302194,
           -0.00028367960396335465,
           0.0004958308370282124,
           -0.00007115384187416606,
           -0.0008428662460943092,
           0.06592509516236773,
           -0.037308063454552294,
           0.0011649988716554368
          ],
          [
           0.009092613438410245,
           0.005211939874418188,
           0.0042849209608767005,
           -0.008994970645688348,
           1,
           0.002133999628469014,
           0.00025105528818754677,
           0.0007606609570890661,
           0.001888368881891382,
           0.0032673521421241296,
           0.0010457062819772996,
           -0.0006340041658544472,
           0.0012868817470515711,
           0.0005961049984289508,
           -0.00005590314573745512,
           0.002616311040591245,
           -0.003347976615043844,
           0.0018997076303010616,
           -0.0004421667229440927,
           -0.021355182359155345,
           0.021349761630195183,
           0.00016689407527230082,
           0.012707220501446024,
           0.01451249244107316,
           0.0006024441169595373,
           0.0016411826121549404,
           0.0008496257915030387,
           0.001261472351948793,
           0.011277204807130469,
           0.017314530061129704,
           -0.0023829175641619372,
           0.003442508051342679,
           -0.0006033032219306261,
           0.00026493971970648793,
           -0.0003447071889123749,
           0.00020721092290517485,
           -0.000022443806615607757,
           0.0002592276474294633,
           -0.0003088343495834085,
           -0.10035586158058127,
           0.057054006410874845,
           0.0004208567850527741
          ],
          [
           0.002315406029033748,
           0.001147255591477591,
           0.0006481319961075313,
           -0.0005655498063605812,
           0.002133999628469014,
           1,
           -0.0010271894070536909,
           -0.005586958483310916,
           0.0005833252658665894,
           0.008947861652430023,
           -0.0008085764477956729,
           -0.0000910865616666375,
           0.002630677717436799,
           -0.0003310363165393209,
           -0.0002487632808458006,
           -0.0010922859391324805,
           -0.0025334826909288034,
           -0.00008647266641215627,
           -0.0004276098444897163,
           -0.04203223637296946,
           0.04208134765796827,
           -0.00027636248848533253,
           0.02529295953548858,
           0.028861608871982296,
           -0.00007818470742791284,
           -0.0006119448006192832,
           -0.00007595112060687696,
           -0.001175709099084726,
           0.022501270576504546,
           0.03452722866871722,
           -0.0008783716665011939,
           0.00658652147597274,
           0.00012492793146404608,
           -0.00003700845811525797,
           0.00009338525996644234,
           0.00009905582736593967,
           0.0002000827021617414,
           0.0009936331831540022,
           -0.0006292286819733305,
           -0.005611561400759038,
           0.004027031844380585,
           0.002184778501691243
          ],
          [
           0.0004167283611393707,
           -0.0004752436188632516,
           0.00042181896682936805,
           -0.0006504985359903165,
           0.00025105528818754677,
           -0.0010271894070536909,
           1,
           0.0016664134222654076,
           0.00020158386296284625,
           -0.0027639191169102433,
           0.0011431281304186006,
           0.001317751597084514,
           -0.0008188515477524582,
           0.0007310379475333478,
           0.00021989832612146626,
           0.00043914719588928865,
           -0.00025453886753156705,
           0.000387677442625905,
           0.0004091517937277154,
           0.012232642174975297,
           -0.012222717920290773,
           0.0004202182887909663,
           -0.0072147269083772895,
           -0.008280767232532571,
           0.0006588997100446134,
           -0.00005299162180476885,
           0.00009289044353403639,
           0.000039219410463929744,
           -0.006831699349447274,
           -0.009956710217997785,
           -0.0003567651863152813,
           -0.0017515822232696614,
           -0.000526394505563246,
           -0.0001606057883147525,
           0.0003831687042221693,
           -0.00008239609002777755,
           -0.0003826396390940103,
           -0.0009564055257193561,
           0.00016207279232362718,
           -0.0060840959118773335,
           0.003931549370785199,
           -0.0006611747994578485
          ],
          [
           -0.0021914574460174317,
           -0.00166610498154422,
           0.0024099549264013863,
           -0.0032150754977978524,
           0.0007606609570890661,
           -0.005586958483310916,
           0.0016664134222654076,
           1,
           -0.0010049855857809013,
           -0.03249370500003152,
           -0.0018013195685777628,
           0.003221088016522781,
           -0.006476833243605931,
           0.001027199014547635,
           0.0018999899602955292,
           0.004544005035029082,
           0.00699895889762823,
           0.0028287248565693865,
           0.0003106815452447044,
           0.130199472425075,
           -0.13034389613381256,
           0.002041399878562522,
           -0.07849058412493444,
           -0.08807808199205447,
           0.0018226373542251566,
           0.0018876070992286302,
           0.0015643080460159787,
           0.0012912552610547935,
           -0.06984334505667507,
           -0.10682372365140039,
           0.0017484348378145383,
           -0.018738916128946632,
           0.0008300141770368778,
           -0.00025957111856062497,
           -0.0008387791871151178,
           -0.0010957823957306496,
           -0.0002707099498251686,
           -0.0007969659637099052,
           0.0000872937128602688,
           -0.02625317808807337,
           0.014615128813043563,
           -0.008398839786511694
          ],
          [
           0.0007049658344560992,
           0.00017863777680983116,
           0.0009895966396509988,
           -0.0005071672919032706,
           0.001888368881891382,
           0.0005833252658665894,
           0.00020158386296284625,
           -0.0010049855857809013,
           1,
           0.001827664146052251,
           -0.0009386613428360245,
           -0.0007289952972372352,
           0.0006772098014294695,
           0.0006500783268532703,
           -0.00031600224318535273,
           -0.0005417961453728874,
           -0.0005366179915532188,
           -0.00013173020302461723,
           -0.00024870356317093975,
           -0.009619656338808222,
           0.009611468518848084,
           -0.001009311455110888,
           0.006322975517467777,
           0.006163939933727778,
           0.00024489332161726476,
           -0.000008213472104785616,
           0.0002911421542028102,
           -0.00032095346308219945,
           0.004628257461540501,
           0.008331776370772514,
           -0.0012218876322535053,
           0.0013773571101028741,
           -0.00033407543724967535,
           0.00039182813148347183,
           0.000616486822304812,
           -0.00046889063695447475,
           0.00004252074046241371,
           0.00030024985823735173,
           0.000518995092227061,
           -0.01169420902114941,
           0.006108019081223689,
           -0.00023557445463702803
          ],
          [
           0.00789658556525105,
           0.003677274383255544,
           -0.0015311192915022575,
           0.0025258345109333905,
           0.0032673521421241296,
           0.008947861652430023,
           -0.0027639191169102433,
           -0.03249370500003152,
           0.001827664146052251,
           1,
           0.0023583618229599482,
           -0.003536384305830067,
           0.009804623083599046,
           -0.0012084008666178217,
           -0.0024225445327061878,
           -0.005427008291342374,
           -0.011680734303473762,
           -0.0036071436098796964,
           -0.00027027970485232235,
           -0.21159127347103257,
           0.21181694918942034,
           -0.0036520765255024386,
           0.13171695322728416,
           0.14367209634550887,
           -0.0019026460364213842,
           -0.002752185910091507,
           -0.003292949734068805,
           -0.002642762881570095,
           0.10979027536927023,
           0.17341131628736786,
           -0.0024256303985859436,
           0.03210832695338093,
           -0.0016230439853082979,
           0.0020258864918770835,
           0.001666399405263945,
           0.0008892969923027719,
           0.0007705429559666653,
           0.0020547362044519204,
           -0.0001458172185489453,
           0.008681097846968282,
           -0.005290088425834896,
           0.013007196574687166
          ],
          [
           0.00198458080422591,
           0.0001261927729559194,
           0.0007398201547171419,
           -0.0004445015835386431,
           0.0010457062819772996,
           -0.0008085764477956729,
           0.0011431281304186006,
           -0.0018013195685777628,
           -0.0009386613428360245,
           0.0023583618229599482,
           1,
           -0.0005895716219686102,
           0.0007733858850330061,
           -0.0013901813661375555,
           -0.0021099746704060203,
           -0.00024253951080615137,
           -0.0019246171706373033,
           -0.0001778346037858545,
           -0.001216331805415879,
           -0.010970499172066142,
           0.010949980871450896,
           0.0002491608996605434,
           0.006508078006392617,
           0.007683582207441511,
           -0.00034246105500749423,
           0.0005008997531636697,
           -0.00007764848135313571,
           -0.00024385807991926062,
           0.005681269428023564,
           0.008991908452136353,
           0.00027575318496267885,
           0.002003783866973216,
           0.00038080227847161926,
           -0.0002747432891134165,
           0.0008669710866534376,
           0.0005010568433293127,
           -0.0009676569889758643,
           -0.0007176336988438697,
           0.0007489449395982617,
           -0.01008644512595505,
           0.00491105418810259,
           -0.0009785133008778529
          ],
          [
           -0.0007991618240433762,
           -0.0007339794971194249,
           0.0005616627657923252,
           -0.0007946335470948171,
           -0.0006340041658544472,
           -0.0000910865616666375,
           0.001317751597084514,
           0.003221088016522781,
           -0.0007289952972372352,
           -0.003536384305830067,
           -0.0005895716219686102,
           1,
           -0.0005318456813684765,
           -0.0005023155384778461,
           0.00020572915013399539,
           0.0013327395379702576,
           0.0007725552163183046,
           0.000908126209979985,
           0.0002368658673729842,
           0.01964567950778716,
           -0.01970630600827828,
           0.0012092645342935853,
           -0.011740599361591976,
           -0.013649758513788105,
           0.0002921575866767784,
           -0.0001328738680594091,
           -0.00029831901934731326,
           0.0003691958670706579,
           -0.010454385469630007,
           -0.016245198222864334,
           0.0005476707746192086,
           -0.002217913813208497,
           -0.00011712336601508864,
           0.00005465592820918079,
           -0.0002740207782296543,
           0.0005069575823381479,
           0.00009538058061283115,
           0.00006901075060329399,
           -0.00011686287233130404,
           -0.0010014668260153283,
           0.0009888108055584543,
           -0.0012729035822425729
          ],
          [
           0.0012391707217024783,
           0.0007293201339700367,
           -0.00030525458617973423,
           -0.00020080242599213898,
           0.0012868817470515711,
           0.002630677717436799,
           -0.0008188515477524582,
           -0.006476833243605931,
           0.0006772098014294695,
           0.009804623083599046,
           0.0007733858850330061,
           -0.0005318456813684765,
           1,
           0.00011477849123950132,
           -0.00010388129100581073,
           -0.0010545551331717393,
           -0.0028788069399918815,
           -0.0006860576023486918,
           -0.00025004933364190394,
           -0.04681072674866068,
           0.046842960808533965,
           -0.0010106289677171807,
           0.029281752378268085,
           0.03227809691080186,
           -0.0004252496580332849,
           -0.0005698128066447769,
           -0.0004243531303408673,
           -0.0008844357010431153,
           0.025011430427047298,
           0.03854076135727387,
           -0.0007917978279450744,
           0.006838146263705504,
           -0.000014233040093390526,
           0.0010590049566194342,
           0.00021140822179623088,
           0.0004479762339083762,
           -0.0002797195195533531,
           -0.0002817653569346443,
           -0.00017684069025960218,
           -0.0010338857640535333,
           0.000280370799993331,
           0.0031892433817154245
          ],
          [
           0.00027641918380603124,
           0.0001636968390264902,
           0.0003424614763523339,
           -0.0007269892839770159,
           0.0005961049984289508,
           -0.0003310363165393209,
           0.0007310379475333478,
           0.001027199014547635,
           0.0006500783268532703,
           -0.0012084008666178217,
           -0.0013901813661375555,
           -0.0005023155384778461,
           0.00011477849123950132,
           1,
           -0.000049298267204284396,
           0.00013326100478784698,
           -0.00017840799967834347,
           0.000028626537586165477,
           -0.00041316470467957824,
           0.008881248627962206,
           -0.008876534470115098,
           0.00043287701718485653,
           -0.005480761047921664,
           -0.006107673533429211,
           -0.00042356511313644367,
           0.0006479013227829635,
           0.0006468821616189732,
           -0.000021848150445833368,
           -0.004583423559820848,
           -0.00723871944610931,
           0.0002704751986485132,
           -0.0013541736022392723,
           -0.000021774573644436564,
           -0.0007562318130101023,
           -0.0003037303830203662,
           0.00015848268870510647,
           0.0008039784249274086,
           0.0004775720303648833,
           -0.00012533326430881451,
           -0.005936290253994414,
           0.0034240242318167332,
           -0.0010441773459857941
          ],
          [
           -0.0003012784025384836,
           0.00020285790145077384,
           0.00002082390363054175,
           -0.000139082947679848,
           -0.00005590314573745512,
           -0.0002487632808458006,
           0.00021989832612146626,
           0.0018999899602955292,
           -0.00031600224318535273,
           -0.0024225445327061878,
           -0.0021099746704060203,
           0.00020572915013399539,
           -0.00010388129100581073,
           -0.000049298267204284396,
           1,
           0.000721749825794451,
           0.0010637771874503672,
           0.000471610421090082,
           -0.00014673470760794504,
           0.011035463599265573,
           -0.011094749884219143,
           0.00007538953664047562,
           -0.00673179928071142,
           -0.00758077456886522,
           -0.0002567018724889082,
           -0.00047171115936516975,
           0.000294917865124149,
           -0.0005001084761959464,
           -0.005890657215280472,
           -0.009078591259821196,
           -0.0004648464095003474,
           -0.0019620622472284206,
           -0.00024276596103668026,
           -0.0013743957050694237,
           -0.0000533266316905547,
           -0.0003477902026723779,
           -0.0003489186342102369,
           -0.00041843434970525187,
           0.001241810448874588,
           -0.005954423254902138,
           0.0037970936233536127,
           -0.0007450274003852235
          ],
          [
           0.0008391151803183179,
           0.00022008741492824315,
           0.0013398523590574414,
           -0.0017841500004291012,
           0.002616311040591245,
           -0.0010922859391324805,
           0.00043914719588928865,
           0.004544005035029082,
           -0.0005417961453728874,
           -0.005427008291342374,
           -0.00024253951080615137,
           0.0013327395379702576,
           -0.0010545551331717393,
           0.00013326100478784698,
           0.000721749825794451,
           1,
           0.0007642816046760104,
           0.0003260564880712878,
           -0.0003471105464447177,
           0.024413811812528233,
           -0.02445195142841413,
           0.001040356140731959,
           -0.014763921694777252,
           -0.016728454781949648,
           0.0006007162689225301,
           0.0008713521121365697,
           0.0015807837967368634,
           0.0009057169425260215,
           -0.013015244425532908,
           -0.01994128896424901,
           0.00015026934724827432,
           -0.0036831221503854776,
           0.0007802249442008995,
           -0.0002835505911950056,
           -0.00036998549976271415,
           0.00013046307482368283,
           -0.00017481252332664595,
           0.00019855609464841043,
           0.00027835267170567637,
           -0.022730326491195295,
           0.013005833527068307,
           -0.0020109221667996297
          ],
          [
           -0.0020322357661400974,
           -0.001635587600859168,
           -0.0001409071614202383,
           0.00023570081043683684,
           -0.003347976615043844,
           -0.0025334826909288034,
           -0.00025453886753156705,
           0.00699895889762823,
           -0.0005366179915532188,
           -0.011680734303473762,
           -0.0019246171706373033,
           0.0007725552163183046,
           -0.0028788069399918815,
           -0.00017840799967834347,
           0.0010637771874503672,
           0.0007642816046760104,
           1,
           0.0003397878029085171,
           -0.00040125659511547877,
           0.056391807021921064,
           -0.05649180433267587,
           0.0011019797413869363,
           -0.03422823730614198,
           -0.038405873515347355,
           0.0007169680915166232,
           0.00042483043346480003,
           0.00022346189674183882,
           0.0007802122767949764,
           -0.029965184624395503,
           -0.046093337190935856,
           0.0008921655455501796,
           -0.008830747421530184,
           0.00006594789688408043,
           -0.0009313552102355254,
           -0.00034449282303648966,
           -0.0009802610825401857,
           0.00015112435480066724,
           -0.0008063234975707078,
           0.000050608806294534225,
           0.004923340895091589,
           -0.003500652561215402,
           -0.0029346941888487273
          ],
          [
           0.000997789723383243,
           0.00009669775781239548,
           0.00132676110951795,
           -0.0013464630733920967,
           0.0018997076303010616,
           -0.00008647266641215627,
           0.000387677442625905,
           0.0028287248565693865,
           -0.00013173020302461723,
           -0.0036071436098796964,
           -0.0001778346037858545,
           0.000908126209979985,
           -0.0006860576023486918,
           0.000028626537586165477,
           0.000471610421090082,
           0.0003260564880712878,
           0.0003397878029085171,
           1,
           0.0002813190139901149,
           0.017792370517218166,
           -0.01781579303519778,
           0.0008674256138101167,
           -0.010928532470243179,
           -0.012167889295332256,
           0.0008951878296008977,
           0.0002653671571062037,
           -0.000027802194317815676,
           -0.00005164887571001778,
           -0.009322886318741497,
           -0.014506354098870945,
           -0.0004964899361666811,
           -0.0029427072370888183,
           0.000571317040055468,
           0.00021573025833300543,
           0.00013786749547172863,
           -0.0005026007719927816,
           0.0004477466800024977,
           0.00008497048143773393,
           -0.00019089891949676855,
           -0.016608734650044223,
           0.009188138502443153,
           -0.001964512370845111
          ],
          [
           -0.00016568886843253545,
           0.0000960096962664678,
           0.0002704160087313156,
           0.00036014830490344344,
           -0.0004421667229440927,
           -0.0004276098444897163,
           0.0004091517937277154,
           0.0003106815452447044,
           -0.00024870356317093975,
           -0.00027027970485232235,
           -0.001216331805415879,
           0.0002368658673729842,
           -0.00025004933364190394,
           -0.00041316470467957824,
           -0.00014673470760794504,
           -0.0003471105464447177,
           -0.00040125659511547877,
           0.0002813190139901149,
           1,
           0.00013447642482603095,
           -0.00013431351242767654,
           0.0011042478552119258,
           -0.00008347461809409906,
           -0.00009187623057942854,
           0.00004360527690608883,
           -0.00007210375677225808,
           0.0002270043022405344,
           -0.000632415667389972,
           -0.0000711964642193503,
           -0.00010962395052481727,
           0.0005689061194052741,
           -0.000033906234519998063,
           0.00029645229126730525,
           -0.0002010132537813962,
           -0.00016364434031210102,
           -0.00014450556315818557,
           -0.0001354796051925567,
           -0.00013010436699400525,
           -0.0000018542380633679207,
           0.000044483820949225674,
           -0.00046055812665732343,
           0.0000805832796688058
          ],
          [
           -0.03783081713824053,
           -0.022386936520967085,
           0.005652971921154812,
           -0.007998672675247656,
           -0.021355182359155345,
           -0.04203223637296946,
           0.012232642174975297,
           0.130199472425075,
           -0.009619656338808222,
           -0.21159127347103257,
           -0.010970499172066142,
           0.01964567950778716,
           -0.04681072674866068,
           0.008881248627962206,
           0.011035463599265573,
           0.024413811812528233,
           0.056391807021921064,
           0.017792370517218166,
           0.00013447642482603095,
           1,
           -0.9987885430561247,
           0.018657095461129165,
           -0.605707474892798,
           -0.6830962328183792,
           0.00872372067816316,
           0.010982513144191823,
           0.011150704134467873,
           0.010978404337115605,
           -0.5293074021504305,
           -0.8151333611649071,
           0.015092034849115438,
           -0.15538739293057044,
           0.006448279652928758,
           -0.008094418987344617,
           -0.007361810589299599,
           -0.0050049346177375225,
           -0.003185104622595883,
           -0.006634021736790212,
           0.00003778449861248488,
           0.0047569654584405825,
           -0.0029364438589230546,
           -0.057531699364172496
          ],
          [
           0.037884615576988676,
           0.02243766484037901,
           -0.00565809390995501,
           0.00803139496268653,
           0.021349761630195183,
           0.04208134765796827,
           -0.012222717920290773,
           -0.13034389613381256,
           0.009611468518848084,
           0.21181694918942034,
           0.010949980871450896,
           -0.01970630600827828,
           0.046842960808533965,
           -0.008876534470115098,
           -0.011094749884219143,
           -0.02445195142841413,
           -0.05649180433267587,
           -0.01781579303519778,
           -0.00013431351242767654,
           -0.9987885430561247,
           1,
           -0.018661852537080144,
           0.606442253032329,
           0.6839247790229768,
           -0.008742764498554234,
           -0.011016193871250272,
           -0.011176775975553095,
           -0.010966506472963244,
           0.5299494138890559,
           0.8161220582798733,
           -0.015102250562317355,
           0.15557650737953577,
           -0.006451809558582774,
           0.008114086724490533,
           0.0073787535052449674,
           0.005018091511052479,
           0.003195621566251736,
           0.006648434287870548,
           -0.00003773872431949511,
           -0.004764895399675244,
           0.0029388311554889046,
           0.05757032156102715
          ],
          [
           -0.00012106772448260932,
           -0.00042754693532321694,
           0.0003461993488196969,
           -0.0001685069375536126,
           0.00016689407527230082,
           -0.00027636248848533253,
           0.0004202182887909663,
           0.002041399878562522,
           -0.001009311455110888,
           -0.0036520765255024386,
           0.0002491608996605434,
           0.0012092645342935853,
           -0.0010106289677171807,
           0.00043287701718485653,
           0.00007538953664047562,
           0.001040356140731959,
           0.0011019797413869363,
           0.0008674256138101167,
           0.0011042478552119258,
           0.018657095461129165,
           -0.018661852537080144,
           1,
           -0.011382255102161351,
           -0.01292731183836987,
           0.00037205405789872485,
           0.00022825331015396218,
           0.0003743549387233363,
           0.0007356858717194368,
           -0.009768114955927554,
           -0.015301540637278663,
           -0.000184354756896164,
           -0.003243442304043273,
           -0.00008022333018510678,
           0.000038707608593496576,
           -0.00036956338825937886,
           0.000746866426503265,
           -0.00017437186643268869,
           0.00023174784398263657,
           -0.00023217312293215134,
           0.001516415846699033,
           -0.0007422924794019076,
           -0.0009711481652728494
          ],
          [
           0.02305348476885626,
           0.013488300188353997,
           -0.0034738546193276427,
           0.00483942129383867,
           0.012707220501446024,
           0.02529295953548858,
           -0.0072147269083772895,
           -0.07849058412493444,
           0.006322975517467777,
           0.13171695322728416,
           0.006508078006392617,
           -0.011740599361591976,
           0.029281752378268085,
           -0.005480761047921664,
           -0.00673179928071142,
           -0.014763921694777252,
           -0.03422823730614198,
           -0.010928532470243179,
           -0.00008347461809409906,
           -0.605707474892798,
           0.606442253032329,
           -0.011382255102161351,
           1,
           0.40402072862466304,
           -0.005086755183497699,
           -0.006810256155265167,
           -0.00687531856520342,
           -0.006756042213571584,
           0.32183319840159946,
           0.4981689387583528,
           -0.00914805580570707,
           0.08796270178621815,
           -0.003490024747046591,
           0.004998305113955575,
           0.004333663746174845,
           0.0018595647476428966,
           0.0016960641866970794,
           0.004615331368329532,
           -0.000023454271599251752,
           -0.0027065419020091534,
           0.0018729184980866708,
           0.03498837913862712
          ],
          [
           0.026048940174882216,
           0.01499983865398152,
           -0.0036374637262190914,
           0.00553495130415856,
           0.01451249244107316,
           0.028861608871982296,
           -0.008280767232532571,
           -0.08807808199205447,
           0.006163939933727778,
           0.14367209634550887,
           0.007683582207441511,
           -0.013649758513788105,
           0.03227809691080186,
           -0.006107673533429211,
           -0.00758077456886522,
           -0.016728454781949648,
           -0.038405873515347355,
           -0.012167889295332256,
           -0.00009187623057942854,
           -0.6830962328183792,
           0.6839247790229768,
           -0.01292731183836987,
           0.40402072862466304,
           1,
           -0.005848369380951334,
           -0.007575126783766354,
           -0.007679159399675747,
           -0.007522575340171701,
           0.3605581279261127,
           0.5558971484504454,
           -0.010474934207864467,
           0.09979175854272013,
           -0.004324292424144876,
           0.005020195717065815,
           0.004646934101390567,
           0.003424022305016546,
           0.003092864670868142,
           0.005286570424004913,
           -0.000025814913739359753,
           -0.003455598597842569,
           0.0019329903358823043,
           0.03901742084148534
          ],
          [
           -0.000028331417800393224,
           0.0005190375254511504,
           -0.000016253615232286637,
           -0.00033973960746734415,
           0.0006024441169595373,
           -0.00007818470742791284,
           0.0006588997100446134,
           0.0018226373542251566,
           0.00024489332161726476,
           -0.0019026460364213842,
           -0.00034246105500749423,
           0.0002921575866767784,
           -0.0004252496580332849,
           -0.00042356511313644367,
           -0.0002567018724889082,
           0.0006007162689225301,
           0.0007169680915166232,
           0.0008951878296008977,
           0.00004360527690608883,
           0.00872372067816316,
           -0.008742764498554234,
           0.00037205405789872485,
           -0.005086755183497699,
           -0.005848369380951334,
           1,
           0.00020241094735247116,
           -0.0002741534840143334,
           0.00042342724046778277,
           -0.0044532623373096415,
           -0.007127652977785886,
           -0.0003448981792977328,
           -0.0016364188668896245,
           0.00016840189147218103,
           -0.00043805395330524246,
           -0.000248830607783382,
           -0.0002217005619808182,
           -0.00007451447388068789,
           0.0002997689774683603,
           0.00003950197598670532,
           -0.008874990036106875,
           0.004500059497053264,
           -0.0011841495528200968
          ],
          [
           0.0003918125138079536,
           0.0004947016433146434,
           0.0009183910474050333,
           -0.001607530092370947,
           0.0016411826121549404,
           -0.0006119448006192832,
           -0.00005299162180476885,
           0.0018876070992286302,
           -0.000008213472104785616,
           -0.002752185910091507,
           0.0005008997531636697,
           -0.0001328738680594091,
           -0.0005698128066447769,
           0.0006479013227829635,
           -0.00047171115936516975,
           0.0008713521121365697,
           0.00042483043346480003,
           0.0002653671571062037,
           -0.00007210375677225808,
           0.010982513144191823,
           -0.011016193871250272,
           0.00022825331015396218,
           -0.006810256155265167,
           -0.007575126783766354,
           0.00020241094735247116,
           1,
           0.00023318120641834187,
           -0.0005703406419555699,
           -0.005773904958504544,
           -0.008962459380628283,
           -0.0001809810808618531,
           -0.0022246077701883857,
           -0.0007426795068316535,
           0.00011054018061887418,
           0.0001995222340831883,
           -0.00013829386876519338,
           -0.00021544722379604464,
           0.0006326466403210563,
           -0.0001687800080181188,
           -0.01233077478127327,
           0.006023980150380585,
           -0.00025990828192526665
          ],
          [
           0.0005836070148319499,
           0.00044974360082581006,
           0.0009493770839857671,
           -0.001253056130210331,
           0.0008496257915030387,
           -0.00007595112060687696,
           0.00009289044353403639,
           0.0015643080460159787,
           0.0002911421542028102,
           -0.003292949734068805,
           -0.00007764848135313571,
           -0.00029831901934731326,
           -0.0004243531303408673,
           0.0006468821616189732,
           0.000294917865124149,
           0.0015807837967368634,
           0.00022346189674183882,
           -0.000027802194317815676,
           0.0002270043022405344,
           0.011150704134467873,
           -0.011176775975553095,
           0.0003743549387233363,
           -0.00687531856520342,
           -0.007679159399675747,
           -0.0002741534840143334,
           0.00023318120641834187,
           1,
           0.0006619618679458699,
           -0.005956459417882244,
           -0.009087948312849533,
           -0.0007404578171378601,
           -0.0019026930175333385,
           0.00004452080620367314,
           -0.0004168880387929079,
           0.00028665766256280237,
           -0.0003751883787141196,
           -0.00029098360626707206,
           -0.000014886421640467893,
           0.00015506728974443954,
           -0.012334926259504712,
           0.006176668873342472,
           -0.0004614705754209333
          ],
          [
           0.0009512453150125336,
           -0.00017212719324549415,
           0.00041381476946271737,
           -0.001122070149060241,
           0.001261472351948793,
           -0.001175709099084726,
           0.000039219410463929744,
           0.0012912552610547935,
           -0.00032095346308219945,
           -0.002642762881570095,
           -0.00024385807991926062,
           0.0003691958670706579,
           -0.0008844357010431153,
           -0.000021848150445833368,
           -0.0005001084761959464,
           0.0009057169425260215,
           0.0007802122767949764,
           -0.00005164887571001778,
           -0.000632415667389972,
           0.010978404337115605,
           -0.010966506472963244,
           0.0007356858717194368,
           -0.006756042213571584,
           -0.007522575340171701,
           0.00042342724046778277,
           -0.0005703406419555699,
           0.0006619618679458699,
           1,
           -0.005832817904656328,
           -0.008879383803628555,
           -0.00035403591030032486,
           -0.001292551611684051,
           -0.0000028613305077293714,
           -0.00023356100914799247,
           -0.0003964777756859475,
           0.00027121703763139624,
           0.0003368443688856676,
           -0.00048042173386315793,
           0.000151147734223978,
           -0.012315189592709178,
           0.006378754464716585,
           -0.0017648195612744119
          ],
          [
           0.0200070632313292,
           0.01233547401426458,
           -0.0029690446459756255,
           0.004132657196811192,
           0.011277204807130469,
           0.022501270576504546,
           -0.006831699349447274,
           -0.06984334505667507,
           0.004628257461540501,
           0.10979027536927023,
           0.005681269428023564,
           -0.010454385469630007,
           0.025011430427047298,
           -0.004583423559820848,
           -0.005890657215280472,
           -0.013015244425532908,
           -0.029965184624395503,
           -0.009322886318741497,
           -0.0000711964642193503,
           -0.5293074021504305,
           0.5299494138890559,
           -0.009768114955927554,
           0.32183319840159946,
           0.3605581279261127,
           -0.0044532623373096415,
           -0.005773904958504544,
           -0.005956459417882244,
           -0.005832817904656328,
           1,
           0.4331989476468186,
           -0.008110619805944958,
           0.08361486507410545,
           -0.0033541229140434947,
           0.003310915393717907,
           0.004993746195624492,
           0.0034069606553281907,
           0.0012542989239926687,
           0.004329345692976893,
           -0.000020004418670409112,
           -0.0028577452670275425,
           0.0016867308699134204,
           0.030807104418222576
          ],
          [
           0.03083658514881709,
           0.018395716835690704,
           -0.004711602972826472,
           0.006459885571086608,
           0.017314530061129704,
           0.03452722866871722,
           -0.009956710217997785,
           -0.10682372365140039,
           0.008331776370772514,
           0.17341131628736786,
           0.008991908452136353,
           -0.016245198222864334,
           0.03854076135727387,
           -0.00723871944610931,
           -0.009078591259821196,
           -0.01994128896424901,
           -0.046093337190935856,
           -0.014506354098870945,
           -0.00010962395052481727,
           -0.8151333611649071,
           0.8161220582798733,
           -0.015301540637278663,
           0.4981689387583528,
           0.5558971484504454,
           -0.007127652977785886,
           -0.008962459380628283,
           -0.009087948312849533,
           -0.008879383803628555,
           0.4331989476468186,
           1,
           -0.012325607360830484,
           0.12337401793348064,
           -0.005140887846472982,
           0.007290604937684206,
           0.005939331709375616,
           0.0042248925740794065,
           0.002560284335730978,
           0.005833762771173936,
           -0.00003080157739078565,
           -0.003700568904140262,
           0.0023716955392846656,
           0.04694738209268608
          ],
          [
           -0.001744221460611426,
           -0.0011955059662673813,
           -0.00028504238577648975,
           0.0012495273982512925,
           -0.0023829175641619372,
           -0.0008783716665011939,
           -0.0003567651863152813,
           0.0017484348378145383,
           -0.0012218876322535053,
           -0.0024256303985859436,
           0.00027575318496267885,
           0.0005476707746192086,
           -0.0007917978279450744,
           0.0002704751986485132,
           -0.0004648464095003474,
           0.00015026934724827432,
           0.0008921655455501796,
           -0.0004964899361666811,
           0.0005689061194052741,
           0.015092034849115438,
           -0.015102250562317355,
           -0.000184354756896164,
           -0.00914805580570707,
           -0.010474934207864467,
           -0.0003448981792977328,
           -0.0001809810808618531,
           -0.0007404578171378601,
           -0.00035403591030032486,
           -0.008110619805944958,
           -0.012325607360830484,
           1,
           -0.0024123589274465517,
           -0.00017534524912555865,
           -0.00008272906457955877,
           -0.0005458674835122949,
           0.0004072299554217111,
           0.0003205282073382176,
           -0.000734288315160702,
           -0.00003130768891026667,
           0.01928109503611976,
           -0.011701715505949065,
           -0.0006280776222324682
          ],
          [
           0.005691218248414199,
           0.004152753750475692,
           -0.0012351879119450672,
           0.001912152873778566,
           0.003442508051342679,
           0.00658652147597274,
           -0.0017515822232696614,
           -0.018738916128946632,
           0.0013773571101028741,
           0.03210832695338093,
           0.002003783866973216,
           -0.002217913813208497,
           0.006838146263705504,
           -0.0013541736022392723,
           -0.0019620622472284206,
           -0.0036831221503854776,
           -0.008830747421530184,
           -0.0029427072370888183,
           -0.000033906234519998063,
           -0.15538739293057044,
           0.15557650737953577,
           -0.003243442304043273,
           0.08796270178621815,
           0.09979175854272013,
           -0.0016364188668896245,
           -0.0022246077701883857,
           -0.0019026930175333385,
           -0.001292551611684051,
           0.08361486507410545,
           0.12337401793348064,
           -0.0024123589274465517,
           1,
           -0.0010134194819633221,
           0.002473579233801443,
           0.0012945330682339066,
           0.0006215650302314581,
           -0.00014590185232139135,
           0.0014550328701764443,
           -0.000009526800499324345,
           0.0011650010815674368,
           -0.0005802584419019478,
           0.009050655685752619
          ],
          [
           -0.0005896910038099651,
           -0.00006612408289221653,
           -0.000026955254762144407,
           0.0005793351617540012,
           -0.0006033032219306261,
           0.00012492793146404608,
           -0.000526394505563246,
           0.0008300141770368778,
           -0.00033407543724967535,
           -0.0016230439853082979,
           0.00038080227847161926,
           -0.00011712336601508864,
           -0.000014233040093390526,
           -0.000021774573644436564,
           -0.00024276596103668026,
           0.0007802249442008995,
           0.00006594789688408043,
           0.000571317040055468,
           0.00029645229126730525,
           0.006448279652928758,
           -0.006451809558582774,
           -0.00008022333018510678,
           -0.003490024747046591,
           -0.004324292424144876,
           0.00016840189147218103,
           -0.0007426795068316535,
           0.00004452080620367314,
           -0.0000028613305077293714,
           -0.0033541229140434947,
           -0.005140887846472982,
           -0.00017534524912555865,
           -0.0010134194819633221,
           1,
           -0.00027759130760884805,
           -0.0005179481298533113,
           -0.0001697439447397448,
           -0.0004673007314323219,
           0.000252088157741857,
           -0.00013175622453178657,
           -0.0004657005309066439,
           -0.0009860860267022111,
           0.00002822445290858061
          ],
          [
           0.0006609914883087626,
           0.0002726025873816028,
           0.00010583623570642327,
           0.00034155903622649355,
           0.00026493971970648793,
           -0.00003700845811525797,
           -0.0001606057883147525,
           -0.00025957111856062497,
           0.00039182813148347183,
           0.0020258864918770835,
           -0.0002747432891134165,
           0.00005465592820918079,
           0.0010590049566194342,
           -0.0007562318130101023,
           -0.0013743957050694237,
           -0.0002835505911950056,
           -0.0009313552102355254,
           0.00021573025833300543,
           -0.0002010132537813962,
           -0.008094418987344617,
           0.008114086724490533,
           0.000038707608593496576,
           0.004998305113955575,
           0.005020195717065815,
           -0.00043805395330524246,
           0.00011054018061887418,
           -0.0004168880387929079,
           -0.00023356100914799247,
           0.003310915393717907,
           0.007290604937684206,
           -0.00008272906457955877,
           0.002473579233801443,
           -0.00027759130760884805,
           1,
           -0.0003386950413528272,
           -0.0004592271324099057,
           -0.0006025948141486346,
           0.0002363807505550418,
           -0.000056479676779398425,
           -0.00025640417852783716,
           -0.00018726233652822038,
           0.0005088056760430567
          ],
          [
           0.0004589505596091964,
           0.00015651088106799225,
           0.00027395798125538984,
           -0.0009908424014302194,
           -0.0003447071889123749,
           0.00009338525996644234,
           0.0003831687042221693,
           -0.0008387791871151178,
           0.000616486822304812,
           0.001666399405263945,
           0.0008669710866534376,
           -0.0002740207782296543,
           0.00021140822179623088,
           -0.0003037303830203662,
           -0.0000533266316905547,
           -0.00036998549976271415,
           -0.00034449282303648966,
           0.00013786749547172863,
           -0.00016364434031210102,
           -0.007361810589299599,
           0.0073787535052449674,
           -0.00036956338825937886,
           0.004333663746174845,
           0.004646934101390567,
           -0.000248830607783382,
           0.0001995222340831883,
           0.00028665766256280237,
           -0.0003964777756859475,
           0.004993746195624492,
           0.005939331709375616,
           -0.0005458674835122949,
           0.0012945330682339066,
           -0.0005179481298533113,
           -0.0003386950413528272,
           1,
           0.00007780104369078028,
           0.00017971003001558293,
           0.00029587019230105155,
           -0.000045979950444737814,
           -0.0005504617719736995,
           -0.00033512307475150923,
           0.0008358123802653639
          ],
          [
           -0.000004448775683841335,
           0.00031870573442756745,
           0.00014137392191407766,
           -0.00028367960396335465,
           0.00020721092290517485,
           0.00009905582736593967,
           -0.00008239609002777755,
           -0.0010957823957306496,
           -0.00046889063695447475,
           0.0008892969923027719,
           0.0005010568433293127,
           0.0005069575823381479,
           0.0004479762339083762,
           0.00015848268870510647,
           -0.0003477902026723779,
           0.00013046307482368283,
           -0.0009802610825401857,
           -0.0005026007719927816,
           -0.00014450556315818557,
           -0.0050049346177375225,
           0.005018091511052479,
           0.000746866426503265,
           0.0018595647476428966,
           0.003424022305016546,
           -0.0002217005619808182,
           -0.00013829386876519338,
           -0.0003751883787141196,
           0.00027121703763139624,
           0.0034069606553281907,
           0.0042248925740794065,
           0.0004072299554217111,
           0.0006215650302314581,
           -0.0001697439447397448,
           -0.0004592271324099057,
           0.00007780104369078028,
           1,
           0.0003900248948540485,
           -0.0005805096273200242,
           -0.0000406024346477866,
           -0.001319877032168794,
           0.00040005873706347114,
           0.0002468406771755658
          ],
          [
           0.0008281170523977459,
           0.0009007278454821414,
           -0.0008181095274438506,
           0.0004958308370282124,
           -0.000022443806615607757,
           0.0002000827021617414,
           -0.0003826396390940103,
           -0.0002707099498251686,
           0.00004252074046241371,
           0.0007705429559666653,
           -0.0009676569889758643,
           0.00009538058061283115,
           -0.0002797195195533531,
           0.0008039784249274086,
           -0.0003489186342102369,
           -0.00017481252332664595,
           0.00015112435480066724,
           0.0004477466800024977,
           -0.0001354796051925567,
           -0.003185104622595883,
           0.003195621566251736,
           -0.00017437186643268869,
           0.0016960641866970794,
           0.003092864670868142,
           -0.00007451447388068789,
           -0.00021544722379604464,
           -0.00029098360626707206,
           0.0003368443688856676,
           0.0012542989239926687,
           0.002560284335730978,
           0.0003205282073382176,
           -0.00014590185232139135,
           -0.0004673007314323219,
           -0.0006025948141486346,
           0.00017971003001558293,
           0.0003900248948540485,
           1,
           0.0005320492695909372,
           -0.00003806636710530802,
           -0.001798696359828912,
           0.0008368151462527547,
           0.00042113420244887774
          ],
          [
           0.0008359620474934396,
           0.0001461553262425921,
           0.0004150539245337758,
           -0.00007115384187416606,
           0.0002592276474294633,
           0.0009936331831540022,
           -0.0009564055257193561,
           -0.0007969659637099052,
           0.00030024985823735173,
           0.0020547362044519204,
           -0.0007176336988438697,
           0.00006901075060329399,
           -0.0002817653569346443,
           0.0004775720303648833,
           -0.00041843434970525187,
           0.00019855609464841043,
           -0.0008063234975707078,
           0.00008497048143773393,
           -0.00013010436699400525,
           -0.006634021736790212,
           0.006648434287870548,
           0.00023174784398263657,
           0.004615331368329532,
           0.005286570424004913,
           0.0002997689774683603,
           0.0006326466403210563,
           -0.000014886421640467893,
           -0.00048042173386315793,
           0.004329345692976893,
           0.005833762771173936,
           -0.000734288315160702,
           0.0014550328701764443,
           0.000252088157741857,
           0.0002363807505550418,
           0.00029587019230105155,
           -0.0005805096273200242,
           0.0005320492695909372,
           1,
           -0.000036556060146164166,
           -0.0023872474922985126,
           0.0012665468863049124,
           -0.00007269532776016786
          ],
          [
           -0.0004100950811295149,
           0.0005273063171255626,
           0.00010453320582959985,
           -0.0008428662460943092,
           -0.0003088343495834085,
           -0.0006292286819733305,
           0.00016207279232362718,
           0.0000872937128602688,
           0.000518995092227061,
           -0.0001458172185489453,
           0.0007489449395982617,
           -0.00011686287233130404,
           -0.00017684069025960218,
           -0.00012533326430881451,
           0.001241810448874588,
           0.00027835267170567637,
           0.000050608806294534225,
           -0.00019089891949676855,
           -0.0000018542380633679207,
           0.00003778449861248488,
           -0.00003773872431949511,
           -0.00023217312293215134,
           -0.000023454271599251752,
           -0.000025814913739359753,
           0.00003950197598670532,
           -0.0001687800080181188,
           0.00015506728974443954,
           0.000151147734223978,
           -0.000020004418670409112,
           -0.00003080157739078565,
           -0.00003130768891026667,
           -0.000009526800499324345,
           -0.00013175622453178657,
           -0.000056479676779398425,
           -0.000045979950444737814,
           -0.0000406024346477866,
           -0.00003806636710530802,
           -0.000036556060146164166,
           1,
           -0.000422733855738864,
           -0.0005285360597133067,
           -0.0006568618051791537
          ],
          [
           -0.06470416311742162,
           -0.031784536779614674,
           -0.030438082145961682,
           0.06592509516236773,
           -0.10035586158058127,
           -0.005611561400759038,
           -0.0060840959118773335,
           -0.02625317808807337,
           -0.01169420902114941,
           0.008681097846968282,
           -0.01008644512595505,
           -0.0010014668260153283,
           -0.0010338857640535333,
           -0.005936290253994414,
           -0.005954423254902138,
           -0.022730326491195295,
           0.004923340895091589,
           -0.016608734650044223,
           0.000044483820949225674,
           0.0047569654584405825,
           -0.004764895399675244,
           0.001516415846699033,
           -0.0027065419020091534,
           -0.003455598597842569,
           -0.008874990036106875,
           -0.01233077478127327,
           -0.012334926259504712,
           -0.012315189592709178,
           -0.0028577452670275425,
           -0.003700568904140262,
           0.01928109503611976,
           0.0011650010815674368,
           -0.0004657005309066439,
           -0.00025640417852783716,
           -0.0005504617719736995,
           -0.001319877032168794,
           -0.001798696359828912,
           -0.0023872474922985126,
           -0.000422733855738864,
           1,
           -0.42767665328692883,
           0.007112940204881603
          ],
          [
           0.03793346512400564,
           0.017962752164548127,
           0.01884965759061317,
           -0.037308063454552294,
           0.057054006410874845,
           0.004027031844380585,
           0.003931549370785199,
           0.014615128813043563,
           0.006108019081223689,
           -0.005290088425834896,
           0.00491105418810259,
           0.0009888108055584543,
           0.000280370799993331,
           0.0034240242318167332,
           0.0037970936233536127,
           0.013005833527068307,
           -0.003500652561215402,
           0.009188138502443153,
           -0.00046055812665732343,
           -0.0029364438589230546,
           0.0029388311554889046,
           -0.0007422924794019076,
           0.0018729184980866708,
           0.0019329903358823043,
           0.004500059497053264,
           0.006023980150380585,
           0.006176668873342472,
           0.006378754464716585,
           0.0016867308699134204,
           0.0023716955392846656,
           -0.011701715505949065,
           -0.0005802584419019478,
           -0.0009860860267022111,
           -0.00018726233652822038,
           -0.00033512307475150923,
           0.00040005873706347114,
           0.0008368151462527547,
           0.0012665468863049124,
           -0.0005285360597133067,
           -0.42767665328692883,
           1,
           -0.0036067135351918462
          ],
          [
           0.001311721180444221,
           0.0005748367060333051,
           0.00013406643432717274,
           0.0011649988716554368,
           0.0004208567850527741,
           0.002184778501691243,
           -0.0006611747994578485,
           -0.008398839786511694,
           -0.00023557445463702803,
           0.013007196574687166,
           -0.0009785133008778529,
           -0.0012729035822425729,
           0.0031892433817154245,
           -0.0010441773459857941,
           -0.0007450274003852235,
           -0.0020109221667996297,
           -0.0029346941888487273,
           -0.001964512370845111,
           0.0000805832796688058,
           -0.057531699364172496,
           0.05757032156102715,
           -0.0009711481652728494,
           0.03498837913862712,
           0.03901742084148534,
           -0.0011841495528200968,
           -0.00025990828192526665,
           -0.0004614705754209333,
           -0.0017648195612744119,
           0.030807104418222576,
           0.04694738209268608,
           -0.0006280776222324682,
           0.009050655685752619,
           0.00002822445290858061,
           0.0005088056760430567,
           0.0008358123802653639,
           0.0002468406771755658,
           0.00042113420244887774,
           -0.00007269532776016786,
           -0.0006568618051791537,
           0.007112940204881603,
           -0.0036067135351918462,
           1
          ]
         ]
        }
       ],
       "layout": {
        "coloraxis": {
         "colorscale": [
          [
           0,
           "#0d0887"
          ],
          [
           0.1111111111111111,
           "#46039f"
          ],
          [
           0.2222222222222222,
           "#7201a8"
          ],
          [
           0.3333333333333333,
           "#9c179e"
          ],
          [
           0.4444444444444444,
           "#bd3786"
          ],
          [
           0.5555555555555556,
           "#d8576b"
          ],
          [
           0.6666666666666666,
           "#ed7953"
          ],
          [
           0.7777777777777778,
           "#fb9f3a"
          ],
          [
           0.8888888888888888,
           "#fdca26"
          ],
          [
           1,
           "#f0f921"
          ]
         ]
        },
        "margin": {
         "t": 60
        },
        "template": {
         "data": {
          "bar": [
           {
            "error_x": {
             "color": "#2a3f5f"
            },
            "error_y": {
             "color": "#2a3f5f"
            },
            "marker": {
             "line": {
              "color": "#E5ECF6",
              "width": 0.5
             },
             "pattern": {
              "fillmode": "overlay",
              "size": 10,
              "solidity": 0.2
             }
            },
            "type": "bar"
           }
          ],
          "barpolar": [
           {
            "marker": {
             "line": {
              "color": "#E5ECF6",
              "width": 0.5
             },
             "pattern": {
              "fillmode": "overlay",
              "size": 10,
              "solidity": 0.2
             }
            },
            "type": "barpolar"
           }
          ],
          "carpet": [
           {
            "aaxis": {
             "endlinecolor": "#2a3f5f",
             "gridcolor": "white",
             "linecolor": "white",
             "minorgridcolor": "white",
             "startlinecolor": "#2a3f5f"
            },
            "baxis": {
             "endlinecolor": "#2a3f5f",
             "gridcolor": "white",
             "linecolor": "white",
             "minorgridcolor": "white",
             "startlinecolor": "#2a3f5f"
            },
            "type": "carpet"
           }
          ],
          "choropleth": [
           {
            "colorbar": {
             "outlinewidth": 0,
             "ticks": ""
            },
            "type": "choropleth"
           }
          ],
          "contour": [
           {
            "colorbar": {
             "outlinewidth": 0,
             "ticks": ""
            },
            "colorscale": [
             [
              0,
              "#0d0887"
             ],
             [
              0.1111111111111111,
              "#46039f"
             ],
             [
              0.2222222222222222,
              "#7201a8"
             ],
             [
              0.3333333333333333,
              "#9c179e"
             ],
             [
              0.4444444444444444,
              "#bd3786"
             ],
             [
              0.5555555555555556,
              "#d8576b"
             ],
             [
              0.6666666666666666,
              "#ed7953"
             ],
             [
              0.7777777777777778,
              "#fb9f3a"
             ],
             [
              0.8888888888888888,
              "#fdca26"
             ],
             [
              1,
              "#f0f921"
             ]
            ],
            "type": "contour"
           }
          ],
          "contourcarpet": [
           {
            "colorbar": {
             "outlinewidth": 0,
             "ticks": ""
            },
            "type": "contourcarpet"
           }
          ],
          "heatmap": [
           {
            "colorbar": {
             "outlinewidth": 0,
             "ticks": ""
            },
            "colorscale": [
             [
              0,
              "#0d0887"
             ],
             [
              0.1111111111111111,
              "#46039f"
             ],
             [
              0.2222222222222222,
              "#7201a8"
             ],
             [
              0.3333333333333333,
              "#9c179e"
             ],
             [
              0.4444444444444444,
              "#bd3786"
             ],
             [
              0.5555555555555556,
              "#d8576b"
             ],
             [
              0.6666666666666666,
              "#ed7953"
             ],
             [
              0.7777777777777778,
              "#fb9f3a"
             ],
             [
              0.8888888888888888,
              "#fdca26"
             ],
             [
              1,
              "#f0f921"
             ]
            ],
            "type": "heatmap"
           }
          ],
          "heatmapgl": [
           {
            "colorbar": {
             "outlinewidth": 0,
             "ticks": ""
            },
            "colorscale": [
             [
              0,
              "#0d0887"
             ],
             [
              0.1111111111111111,
              "#46039f"
             ],
             [
              0.2222222222222222,
              "#7201a8"
             ],
             [
              0.3333333333333333,
              "#9c179e"
             ],
             [
              0.4444444444444444,
              "#bd3786"
             ],
             [
              0.5555555555555556,
              "#d8576b"
             ],
             [
              0.6666666666666666,
              "#ed7953"
             ],
             [
              0.7777777777777778,
              "#fb9f3a"
             ],
             [
              0.8888888888888888,
              "#fdca26"
             ],
             [
              1,
              "#f0f921"
             ]
            ],
            "type": "heatmapgl"
           }
          ],
          "histogram": [
           {
            "marker": {
             "pattern": {
              "fillmode": "overlay",
              "size": 10,
              "solidity": 0.2
             }
            },
            "type": "histogram"
           }
          ],
          "histogram2d": [
           {
            "colorbar": {
             "outlinewidth": 0,
             "ticks": ""
            },
            "colorscale": [
             [
              0,
              "#0d0887"
             ],
             [
              0.1111111111111111,
              "#46039f"
             ],
             [
              0.2222222222222222,
              "#7201a8"
             ],
             [
              0.3333333333333333,
              "#9c179e"
             ],
             [
              0.4444444444444444,
              "#bd3786"
             ],
             [
              0.5555555555555556,
              "#d8576b"
             ],
             [
              0.6666666666666666,
              "#ed7953"
             ],
             [
              0.7777777777777778,
              "#fb9f3a"
             ],
             [
              0.8888888888888888,
              "#fdca26"
             ],
             [
              1,
              "#f0f921"
             ]
            ],
            "type": "histogram2d"
           }
          ],
          "histogram2dcontour": [
           {
            "colorbar": {
             "outlinewidth": 0,
             "ticks": ""
            },
            "colorscale": [
             [
              0,
              "#0d0887"
             ],
             [
              0.1111111111111111,
              "#46039f"
             ],
             [
              0.2222222222222222,
              "#7201a8"
             ],
             [
              0.3333333333333333,
              "#9c179e"
             ],
             [
              0.4444444444444444,
              "#bd3786"
             ],
             [
              0.5555555555555556,
              "#d8576b"
             ],
             [
              0.6666666666666666,
              "#ed7953"
             ],
             [
              0.7777777777777778,
              "#fb9f3a"
             ],
             [
              0.8888888888888888,
              "#fdca26"
             ],
             [
              1,
              "#f0f921"
             ]
            ],
            "type": "histogram2dcontour"
           }
          ],
          "mesh3d": [
           {
            "colorbar": {
             "outlinewidth": 0,
             "ticks": ""
            },
            "type": "mesh3d"
           }
          ],
          "parcoords": [
           {
            "line": {
             "colorbar": {
              "outlinewidth": 0,
              "ticks": ""
             }
            },
            "type": "parcoords"
           }
          ],
          "pie": [
           {
            "automargin": true,
            "type": "pie"
           }
          ],
          "scatter": [
           {
            "fillpattern": {
             "fillmode": "overlay",
             "size": 10,
             "solidity": 0.2
            },
            "type": "scatter"
           }
          ],
          "scatter3d": [
           {
            "line": {
             "colorbar": {
              "outlinewidth": 0,
              "ticks": ""
             }
            },
            "marker": {
             "colorbar": {
              "outlinewidth": 0,
              "ticks": ""
             }
            },
            "type": "scatter3d"
           }
          ],
          "scattercarpet": [
           {
            "marker": {
             "colorbar": {
              "outlinewidth": 0,
              "ticks": ""
             }
            },
            "type": "scattercarpet"
           }
          ],
          "scattergeo": [
           {
            "marker": {
             "colorbar": {
              "outlinewidth": 0,
              "ticks": ""
             }
            },
            "type": "scattergeo"
           }
          ],
          "scattergl": [
           {
            "marker": {
             "colorbar": {
              "outlinewidth": 0,
              "ticks": ""
             }
            },
            "type": "scattergl"
           }
          ],
          "scattermapbox": [
           {
            "marker": {
             "colorbar": {
              "outlinewidth": 0,
              "ticks": ""
             }
            },
            "type": "scattermapbox"
           }
          ],
          "scatterpolar": [
           {
            "marker": {
             "colorbar": {
              "outlinewidth": 0,
              "ticks": ""
             }
            },
            "type": "scatterpolar"
           }
          ],
          "scatterpolargl": [
           {
            "marker": {
             "colorbar": {
              "outlinewidth": 0,
              "ticks": ""
             }
            },
            "type": "scatterpolargl"
           }
          ],
          "scatterternary": [
           {
            "marker": {
             "colorbar": {
              "outlinewidth": 0,
              "ticks": ""
             }
            },
            "type": "scatterternary"
           }
          ],
          "surface": [
           {
            "colorbar": {
             "outlinewidth": 0,
             "ticks": ""
            },
            "colorscale": [
             [
              0,
              "#0d0887"
             ],
             [
              0.1111111111111111,
              "#46039f"
             ],
             [
              0.2222222222222222,
              "#7201a8"
             ],
             [
              0.3333333333333333,
              "#9c179e"
             ],
             [
              0.4444444444444444,
              "#bd3786"
             ],
             [
              0.5555555555555556,
              "#d8576b"
             ],
             [
              0.6666666666666666,
              "#ed7953"
             ],
             [
              0.7777777777777778,
              "#fb9f3a"
             ],
             [
              0.8888888888888888,
              "#fdca26"
             ],
             [
              1,
              "#f0f921"
             ]
            ],
            "type": "surface"
           }
          ],
          "table": [
           {
            "cells": {
             "fill": {
              "color": "#EBF0F8"
             },
             "line": {
              "color": "white"
             }
            },
            "header": {
             "fill": {
              "color": "#C8D4E3"
             },
             "line": {
              "color": "white"
             }
            },
            "type": "table"
           }
          ]
         },
         "layout": {
          "annotationdefaults": {
           "arrowcolor": "#2a3f5f",
           "arrowhead": 0,
           "arrowwidth": 1
          },
          "autotypenumbers": "strict",
          "coloraxis": {
           "colorbar": {
            "outlinewidth": 0,
            "ticks": ""
           }
          },
          "colorscale": {
           "diverging": [
            [
             0,
             "#8e0152"
            ],
            [
             0.1,
             "#c51b7d"
            ],
            [
             0.2,
             "#de77ae"
            ],
            [
             0.3,
             "#f1b6da"
            ],
            [
             0.4,
             "#fde0ef"
            ],
            [
             0.5,
             "#f7f7f7"
            ],
            [
             0.6,
             "#e6f5d0"
            ],
            [
             0.7,
             "#b8e186"
            ],
            [
             0.8,
             "#7fbc41"
            ],
            [
             0.9,
             "#4d9221"
            ],
            [
             1,
             "#276419"
            ]
           ],
           "sequential": [
            [
             0,
             "#0d0887"
            ],
            [
             0.1111111111111111,
             "#46039f"
            ],
            [
             0.2222222222222222,
             "#7201a8"
            ],
            [
             0.3333333333333333,
             "#9c179e"
            ],
            [
             0.4444444444444444,
             "#bd3786"
            ],
            [
             0.5555555555555556,
             "#d8576b"
            ],
            [
             0.6666666666666666,
             "#ed7953"
            ],
            [
             0.7777777777777778,
             "#fb9f3a"
            ],
            [
             0.8888888888888888,
             "#fdca26"
            ],
            [
             1,
             "#f0f921"
            ]
           ],
           "sequentialminus": [
            [
             0,
             "#0d0887"
            ],
            [
             0.1111111111111111,
             "#46039f"
            ],
            [
             0.2222222222222222,
             "#7201a8"
            ],
            [
             0.3333333333333333,
             "#9c179e"
            ],
            [
             0.4444444444444444,
             "#bd3786"
            ],
            [
             0.5555555555555556,
             "#d8576b"
            ],
            [
             0.6666666666666666,
             "#ed7953"
            ],
            [
             0.7777777777777778,
             "#fb9f3a"
            ],
            [
             0.8888888888888888,
             "#fdca26"
            ],
            [
             1,
             "#f0f921"
            ]
           ]
          },
          "colorway": [
           "#636efa",
           "#EF553B",
           "#00cc96",
           "#ab63fa",
           "#FFA15A",
           "#19d3f3",
           "#FF6692",
           "#B6E880",
           "#FF97FF",
           "#FECB52"
          ],
          "font": {
           "color": "#2a3f5f"
          },
          "geo": {
           "bgcolor": "white",
           "lakecolor": "white",
           "landcolor": "#E5ECF6",
           "showlakes": true,
           "showland": true,
           "subunitcolor": "white"
          },
          "hoverlabel": {
           "align": "left"
          },
          "hovermode": "closest",
          "mapbox": {
           "style": "light"
          },
          "paper_bgcolor": "white",
          "plot_bgcolor": "#E5ECF6",
          "polar": {
           "angularaxis": {
            "gridcolor": "white",
            "linecolor": "white",
            "ticks": ""
           },
           "bgcolor": "#E5ECF6",
           "radialaxis": {
            "gridcolor": "white",
            "linecolor": "white",
            "ticks": ""
           }
          },
          "scene": {
           "xaxis": {
            "backgroundcolor": "#E5ECF6",
            "gridcolor": "white",
            "gridwidth": 2,
            "linecolor": "white",
            "showbackground": true,
            "ticks": "",
            "zerolinecolor": "white"
           },
           "yaxis": {
            "backgroundcolor": "#E5ECF6",
            "gridcolor": "white",
            "gridwidth": 2,
            "linecolor": "white",
            "showbackground": true,
            "ticks": "",
            "zerolinecolor": "white"
           },
           "zaxis": {
            "backgroundcolor": "#E5ECF6",
            "gridcolor": "white",
            "gridwidth": 2,
            "linecolor": "white",
            "showbackground": true,
            "ticks": "",
            "zerolinecolor": "white"
           }
          },
          "shapedefaults": {
           "line": {
            "color": "#2a3f5f"
           }
          },
          "ternary": {
           "aaxis": {
            "gridcolor": "white",
            "linecolor": "white",
            "ticks": ""
           },
           "baxis": {
            "gridcolor": "white",
            "linecolor": "white",
            "ticks": ""
           },
           "bgcolor": "#E5ECF6",
           "caxis": {
            "gridcolor": "white",
            "linecolor": "white",
            "ticks": ""
           }
          },
          "title": {
           "x": 0.05
          },
          "xaxis": {
           "automargin": true,
           "gridcolor": "white",
           "linecolor": "white",
           "ticks": "",
           "title": {
            "standoff": 15
           },
           "zerolinecolor": "white",
           "zerolinewidth": 2
          },
          "yaxis": {
           "automargin": true,
           "gridcolor": "white",
           "linecolor": "white",
           "ticks": "",
           "title": {
            "standoff": 15
           },
           "zerolinecolor": "white",
           "zerolinewidth": 2
          }
         }
        },
        "xaxis": {
         "anchor": "y",
         "constrain": "domain",
         "domain": [
          0,
          1
         ],
         "scaleanchor": "y"
        },
        "yaxis": {
         "anchor": "x",
         "autorange": "reversed",
         "constrain": "domain",
         "domain": [
          0,
          1
         ]
        }
       }
      }
     },
     "metadata": {},
     "output_type": "display_data"
    },
    {
     "data": {
      "text/plain": [
       "financial_active               0.037885\n",
       "promotion_flag                 0.022438\n",
       "variable_rate_index           -0.005658\n",
       "account_status_code            0.008031\n",
       "active_12_mths                 0.021350\n",
       "bank_fico_buckets_20           0.042081\n",
       "mob                           -0.012223\n",
       "open_closed_flag              -0.130344\n",
       "ever_delinquent_flg            0.009611\n",
       "nbr_mths_due                   0.211817\n",
       "variable_rate_margin           0.010950\n",
       "stmt_balance                  -0.019706\n",
       "prev_balance                   0.046843\n",
       "net_sales                     -0.008877\n",
       "net_payments                  -0.011095\n",
       "purchase_active               -0.024452\n",
       "credit_limit_amt              -0.056492\n",
       "credit_limit_pa               -0.017816\n",
       "closed                        -0.000134\n",
       "active                        -0.998789\n",
       "charge_off                     1.000000\n",
       "principal_amt                 -0.018662\n",
       "principal_amt_chrg_off         0.606442\n",
       "fee_chg_off_reversal_amt       0.683925\n",
       "net_finance_charge            -0.008743\n",
       "non_principal_amount_gross    -0.011016\n",
       "non_principal_amount_net      -0.011177\n",
       "non_principal_amount_stmt     -0.010967\n",
       "fc_reversals                   0.529949\n",
       "fee_reversals                  0.816122\n",
       "promo_bal_amt                 -0.015102\n",
       "recovery_amt                   0.155577\n",
       "due_account_2                 -0.006452\n",
       "due_account_3                  0.008114\n",
       "due_account_4                  0.007379\n",
       "due_account_5                  0.005018\n",
       "due_account_6                  0.003196\n",
       "due_account_7                  0.006648\n",
       "due_account_8                 -0.000038\n",
       "snapshot                      -0.004765\n",
       "time                           0.002939\n",
       "net_payment_behaviour_tripd    0.057570\n",
       "Name: charge_off, dtype: float64"
      ]
     },
     "execution_count": 163,
     "metadata": {},
     "output_type": "execute_result"
    }
   ],
   "source": [
    "training_correlation = training.corr()\n",
    "fig = px.imshow(training_correlation, text_auto=True)\n",
    "fig.show()\n",
    "training_correlation[\"charge_off\"]"
   ]
  },
  {
   "cell_type": "code",
   "execution_count": 164,
   "metadata": {},
   "outputs": [
    {
     "data": {
      "text/plain": [
       "financial_active               0.037885\n",
       "promotion_flag                 0.022438\n",
       "variable_rate_index           -0.005658\n",
       "account_status_code            0.008031\n",
       "active_12_mths                 0.021350\n",
       "bank_fico_buckets_20           0.042081\n",
       "mob                           -0.012223\n",
       "open_closed_flag              -0.130344\n",
       "ever_delinquent_flg            0.009611\n",
       "nbr_mths_due                   0.211817\n",
       "variable_rate_margin           0.010950\n",
       "stmt_balance                  -0.019706\n",
       "prev_balance                   0.046843\n",
       "net_sales                     -0.008877\n",
       "net_payments                  -0.011095\n",
       "purchase_active               -0.024452\n",
       "credit_limit_amt              -0.056492\n",
       "credit_limit_pa               -0.017816\n",
       "closed                        -0.000134\n",
       "active                        -0.998789\n",
       "charge_off                     1.000000\n",
       "principal_amt                 -0.018662\n",
       "principal_amt_chrg_off         0.606442\n",
       "fee_chg_off_reversal_amt       0.683925\n",
       "net_finance_charge            -0.008743\n",
       "non_principal_amount_gross    -0.011016\n",
       "non_principal_amount_net      -0.011177\n",
       "non_principal_amount_stmt     -0.010967\n",
       "fc_reversals                   0.529949\n",
       "fee_reversals                  0.816122\n",
       "promo_bal_amt                 -0.015102\n",
       "recovery_amt                   0.155577\n",
       "due_account_2                 -0.006452\n",
       "due_account_3                  0.008114\n",
       "due_account_4                  0.007379\n",
       "due_account_5                  0.005018\n",
       "due_account_6                  0.003196\n",
       "due_account_7                  0.006648\n",
       "due_account_8                 -0.000038\n",
       "snapshot                      -0.004765\n",
       "time                           0.002939\n",
       "net_payment_behaviour_tripd    0.057570\n",
       "Name: charge_off, dtype: float64"
      ]
     },
     "execution_count": 164,
     "metadata": {},
     "output_type": "execute_result"
    }
   ],
   "source": [
    "training_correlation[\"charge_off\"]"
   ]
  },
  {
   "cell_type": "code",
   "execution_count": 165,
   "metadata": {},
   "outputs": [
    {
     "data": {
      "text/html": [
       "<div>\n",
       "<style scoped>\n",
       "    .dataframe tbody tr th:only-of-type {\n",
       "        vertical-align: middle;\n",
       "    }\n",
       "\n",
       "    .dataframe tbody tr th {\n",
       "        vertical-align: top;\n",
       "    }\n",
       "\n",
       "    .dataframe thead th {\n",
       "        text-align: right;\n",
       "    }\n",
       "</style>\n",
       "<table border=\"1\" class=\"dataframe\">\n",
       "  <thead>\n",
       "    <tr style=\"text-align: right;\">\n",
       "      <th></th>\n",
       "      <th>financial_active</th>\n",
       "      <th>promotion_flag</th>\n",
       "      <th>variable_rate_index</th>\n",
       "      <th>account_status_code</th>\n",
       "      <th>active_12_mths</th>\n",
       "      <th>bank_fico_buckets_20</th>\n",
       "      <th>mob</th>\n",
       "      <th>open_closed_flag</th>\n",
       "      <th>ever_delinquent_flg</th>\n",
       "      <th>nbr_mths_due</th>\n",
       "      <th>...</th>\n",
       "      <th>due_account_3</th>\n",
       "      <th>due_account_4</th>\n",
       "      <th>due_account_5</th>\n",
       "      <th>due_account_6</th>\n",
       "      <th>due_account_7</th>\n",
       "      <th>due_account_8</th>\n",
       "      <th>snapshot</th>\n",
       "      <th>industry</th>\n",
       "      <th>time</th>\n",
       "      <th>net_payment_behaviour_tripd</th>\n",
       "    </tr>\n",
       "  </thead>\n",
       "  <tbody>\n",
       "    <tr>\n",
       "      <th>337775</th>\n",
       "      <td>1.0</td>\n",
       "      <td>1</td>\n",
       "      <td>1</td>\n",
       "      <td>3</td>\n",
       "      <td>1.0</td>\n",
       "      <td>9</td>\n",
       "      <td>8</td>\n",
       "      <td>1.0</td>\n",
       "      <td>0.0</td>\n",
       "      <td>2.0</td>\n",
       "      <td>...</td>\n",
       "      <td>0.0</td>\n",
       "      <td>0.0</td>\n",
       "      <td>0.0</td>\n",
       "      <td>0.0</td>\n",
       "      <td>0.0</td>\n",
       "      <td>0.0</td>\n",
       "      <td>201801</td>\n",
       "      <td>C</td>\n",
       "      <td>1</td>\n",
       "      <td>5</td>\n",
       "    </tr>\n",
       "    <tr>\n",
       "      <th>337776</th>\n",
       "      <td>1.0</td>\n",
       "      <td>1</td>\n",
       "      <td>0</td>\n",
       "      <td>3</td>\n",
       "      <td>1.0</td>\n",
       "      <td>12</td>\n",
       "      <td>13</td>\n",
       "      <td>1.0</td>\n",
       "      <td>0.0</td>\n",
       "      <td>3.0</td>\n",
       "      <td>...</td>\n",
       "      <td>0.0</td>\n",
       "      <td>0.0</td>\n",
       "      <td>0.0</td>\n",
       "      <td>0.0</td>\n",
       "      <td>0.0</td>\n",
       "      <td>0.0</td>\n",
       "      <td>201801</td>\n",
       "      <td>A</td>\n",
       "      <td>14</td>\n",
       "      <td>4</td>\n",
       "    </tr>\n",
       "    <tr>\n",
       "      <th>337777</th>\n",
       "      <td>1.0</td>\n",
       "      <td>0</td>\n",
       "      <td>0</td>\n",
       "      <td>1</td>\n",
       "      <td>1.0</td>\n",
       "      <td>9</td>\n",
       "      <td>27</td>\n",
       "      <td>0.0</td>\n",
       "      <td>1.0</td>\n",
       "      <td>2.0</td>\n",
       "      <td>...</td>\n",
       "      <td>0.0</td>\n",
       "      <td>0.0</td>\n",
       "      <td>0.0</td>\n",
       "      <td>0.0</td>\n",
       "      <td>0.0</td>\n",
       "      <td>0.0</td>\n",
       "      <td>201801</td>\n",
       "      <td>A</td>\n",
       "      <td>15</td>\n",
       "      <td>5</td>\n",
       "    </tr>\n",
       "    <tr>\n",
       "      <th>337778</th>\n",
       "      <td>0.0</td>\n",
       "      <td>1</td>\n",
       "      <td>0</td>\n",
       "      <td>3</td>\n",
       "      <td>1.0</td>\n",
       "      <td>7</td>\n",
       "      <td>2</td>\n",
       "      <td>0.0</td>\n",
       "      <td>0.0</td>\n",
       "      <td>0.0</td>\n",
       "      <td>...</td>\n",
       "      <td>0.0</td>\n",
       "      <td>0.0</td>\n",
       "      <td>0.0</td>\n",
       "      <td>0.0</td>\n",
       "      <td>0.0</td>\n",
       "      <td>0.0</td>\n",
       "      <td>201801</td>\n",
       "      <td>C</td>\n",
       "      <td>2</td>\n",
       "      <td>5</td>\n",
       "    </tr>\n",
       "    <tr>\n",
       "      <th>337779</th>\n",
       "      <td>1.0</td>\n",
       "      <td>0</td>\n",
       "      <td>0</td>\n",
       "      <td>3</td>\n",
       "      <td>1.0</td>\n",
       "      <td>12</td>\n",
       "      <td>20</td>\n",
       "      <td>1.0</td>\n",
       "      <td>0.0</td>\n",
       "      <td>2.0</td>\n",
       "      <td>...</td>\n",
       "      <td>0.0</td>\n",
       "      <td>0.0</td>\n",
       "      <td>0.0</td>\n",
       "      <td>0.0</td>\n",
       "      <td>0.0</td>\n",
       "      <td>0.0</td>\n",
       "      <td>201801</td>\n",
       "      <td>B</td>\n",
       "      <td>7</td>\n",
       "      <td>5</td>\n",
       "    </tr>\n",
       "    <tr>\n",
       "      <th>...</th>\n",
       "      <td>...</td>\n",
       "      <td>...</td>\n",
       "      <td>...</td>\n",
       "      <td>...</td>\n",
       "      <td>...</td>\n",
       "      <td>...</td>\n",
       "      <td>...</td>\n",
       "      <td>...</td>\n",
       "      <td>...</td>\n",
       "      <td>...</td>\n",
       "      <td>...</td>\n",
       "      <td>...</td>\n",
       "      <td>...</td>\n",
       "      <td>...</td>\n",
       "      <td>...</td>\n",
       "      <td>...</td>\n",
       "      <td>...</td>\n",
       "      <td>...</td>\n",
       "      <td>...</td>\n",
       "      <td>...</td>\n",
       "      <td>...</td>\n",
       "    </tr>\n",
       "    <tr>\n",
       "      <th>5726233</th>\n",
       "      <td>1.0</td>\n",
       "      <td>1</td>\n",
       "      <td>0</td>\n",
       "      <td>3</td>\n",
       "      <td>1.0</td>\n",
       "      <td>8</td>\n",
       "      <td>56</td>\n",
       "      <td>0.0</td>\n",
       "      <td>0.0</td>\n",
       "      <td>0.0</td>\n",
       "      <td>...</td>\n",
       "      <td>0.0</td>\n",
       "      <td>0.0</td>\n",
       "      <td>0.0</td>\n",
       "      <td>0.0</td>\n",
       "      <td>0.0</td>\n",
       "      <td>0.0</td>\n",
       "      <td>201911</td>\n",
       "      <td>A</td>\n",
       "      <td>1</td>\n",
       "      <td>5</td>\n",
       "    </tr>\n",
       "    <tr>\n",
       "      <th>5726234</th>\n",
       "      <td>1.0</td>\n",
       "      <td>0</td>\n",
       "      <td>0</td>\n",
       "      <td>3</td>\n",
       "      <td>1.0</td>\n",
       "      <td>1</td>\n",
       "      <td>230</td>\n",
       "      <td>0.0</td>\n",
       "      <td>0.0</td>\n",
       "      <td>2.0</td>\n",
       "      <td>...</td>\n",
       "      <td>0.0</td>\n",
       "      <td>0.0</td>\n",
       "      <td>0.0</td>\n",
       "      <td>0.0</td>\n",
       "      <td>0.0</td>\n",
       "      <td>0.0</td>\n",
       "      <td>201911</td>\n",
       "      <td>C</td>\n",
       "      <td>1</td>\n",
       "      <td>5</td>\n",
       "    </tr>\n",
       "    <tr>\n",
       "      <th>5726235</th>\n",
       "      <td>1.0</td>\n",
       "      <td>0</td>\n",
       "      <td>0</td>\n",
       "      <td>3</td>\n",
       "      <td>1.0</td>\n",
       "      <td>8</td>\n",
       "      <td>60</td>\n",
       "      <td>0.0</td>\n",
       "      <td>0.0</td>\n",
       "      <td>6.0</td>\n",
       "      <td>...</td>\n",
       "      <td>0.0</td>\n",
       "      <td>0.0</td>\n",
       "      <td>0.0</td>\n",
       "      <td>0.0</td>\n",
       "      <td>0.0</td>\n",
       "      <td>0.0</td>\n",
       "      <td>201911</td>\n",
       "      <td>B</td>\n",
       "      <td>1</td>\n",
       "      <td>5</td>\n",
       "    </tr>\n",
       "    <tr>\n",
       "      <th>5726236</th>\n",
       "      <td>1.0</td>\n",
       "      <td>1</td>\n",
       "      <td>0</td>\n",
       "      <td>3</td>\n",
       "      <td>1.0</td>\n",
       "      <td>12</td>\n",
       "      <td>121</td>\n",
       "      <td>0.0</td>\n",
       "      <td>1.0</td>\n",
       "      <td>3.0</td>\n",
       "      <td>...</td>\n",
       "      <td>0.0</td>\n",
       "      <td>0.0</td>\n",
       "      <td>0.0</td>\n",
       "      <td>0.0</td>\n",
       "      <td>0.0</td>\n",
       "      <td>0.0</td>\n",
       "      <td>201911</td>\n",
       "      <td>A</td>\n",
       "      <td>1</td>\n",
       "      <td>5</td>\n",
       "    </tr>\n",
       "    <tr>\n",
       "      <th>5726237</th>\n",
       "      <td>1.0</td>\n",
       "      <td>1</td>\n",
       "      <td>0</td>\n",
       "      <td>3</td>\n",
       "      <td>1.0</td>\n",
       "      <td>12</td>\n",
       "      <td>59</td>\n",
       "      <td>0.0</td>\n",
       "      <td>1.0</td>\n",
       "      <td>7.0</td>\n",
       "      <td>...</td>\n",
       "      <td>0.0</td>\n",
       "      <td>0.0</td>\n",
       "      <td>0.0</td>\n",
       "      <td>0.0</td>\n",
       "      <td>0.0</td>\n",
       "      <td>0.0</td>\n",
       "      <td>201911</td>\n",
       "      <td>C</td>\n",
       "      <td>1</td>\n",
       "      <td>5</td>\n",
       "    </tr>\n",
       "  </tbody>\n",
       "</table>\n",
       "<p>15698 rows × 43 columns</p>\n",
       "</div>"
      ],
      "text/plain": [
       "         financial_active  promotion_flag  variable_rate_index  \\\n",
       "337775                1.0               1                    1   \n",
       "337776                1.0               1                    0   \n",
       "337777                1.0               0                    0   \n",
       "337778                0.0               1                    0   \n",
       "337779                1.0               0                    0   \n",
       "...                   ...             ...                  ...   \n",
       "5726233               1.0               1                    0   \n",
       "5726234               1.0               0                    0   \n",
       "5726235               1.0               0                    0   \n",
       "5726236               1.0               1                    0   \n",
       "5726237               1.0               1                    0   \n",
       "\n",
       "         account_status_code  active_12_mths  bank_fico_buckets_20  mob  \\\n",
       "337775                     3             1.0                     9    8   \n",
       "337776                     3             1.0                    12   13   \n",
       "337777                     1             1.0                     9   27   \n",
       "337778                     3             1.0                     7    2   \n",
       "337779                     3             1.0                    12   20   \n",
       "...                      ...             ...                   ...  ...   \n",
       "5726233                    3             1.0                     8   56   \n",
       "5726234                    3             1.0                     1  230   \n",
       "5726235                    3             1.0                     8   60   \n",
       "5726236                    3             1.0                    12  121   \n",
       "5726237                    3             1.0                    12   59   \n",
       "\n",
       "         open_closed_flag  ever_delinquent_flg  nbr_mths_due  ...  \\\n",
       "337775                1.0                  0.0           2.0  ...   \n",
       "337776                1.0                  0.0           3.0  ...   \n",
       "337777                0.0                  1.0           2.0  ...   \n",
       "337778                0.0                  0.0           0.0  ...   \n",
       "337779                1.0                  0.0           2.0  ...   \n",
       "...                   ...                  ...           ...  ...   \n",
       "5726233               0.0                  0.0           0.0  ...   \n",
       "5726234               0.0                  0.0           2.0  ...   \n",
       "5726235               0.0                  0.0           6.0  ...   \n",
       "5726236               0.0                  1.0           3.0  ...   \n",
       "5726237               0.0                  1.0           7.0  ...   \n",
       "\n",
       "         due_account_3  due_account_4  due_account_5  due_account_6  \\\n",
       "337775             0.0            0.0            0.0            0.0   \n",
       "337776             0.0            0.0            0.0            0.0   \n",
       "337777             0.0            0.0            0.0            0.0   \n",
       "337778             0.0            0.0            0.0            0.0   \n",
       "337779             0.0            0.0            0.0            0.0   \n",
       "...                ...            ...            ...            ...   \n",
       "5726233            0.0            0.0            0.0            0.0   \n",
       "5726234            0.0            0.0            0.0            0.0   \n",
       "5726235            0.0            0.0            0.0            0.0   \n",
       "5726236            0.0            0.0            0.0            0.0   \n",
       "5726237            0.0            0.0            0.0            0.0   \n",
       "\n",
       "         due_account_7  due_account_8  snapshot  industry  time  \\\n",
       "337775             0.0            0.0    201801         C     1   \n",
       "337776             0.0            0.0    201801         A    14   \n",
       "337777             0.0            0.0    201801         A    15   \n",
       "337778             0.0            0.0    201801         C     2   \n",
       "337779             0.0            0.0    201801         B     7   \n",
       "...                ...            ...       ...       ...   ...   \n",
       "5726233            0.0            0.0    201911         A     1   \n",
       "5726234            0.0            0.0    201911         C     1   \n",
       "5726235            0.0            0.0    201911         B     1   \n",
       "5726236            0.0            0.0    201911         A     1   \n",
       "5726237            0.0            0.0    201911         C     1   \n",
       "\n",
       "         net_payment_behaviour_tripd  \n",
       "337775                             5  \n",
       "337776                             4  \n",
       "337777                             5  \n",
       "337778                             5  \n",
       "337779                             5  \n",
       "...                              ...  \n",
       "5726233                            5  \n",
       "5726234                            5  \n",
       "5726235                            5  \n",
       "5726236                            5  \n",
       "5726237                            5  \n",
       "\n",
       "[15698 rows x 43 columns]"
      ]
     },
     "execution_count": 165,
     "metadata": {},
     "output_type": "execute_result"
    }
   ],
   "source": [
    "training.loc[training[\"charge_off\"] == 1]"
   ]
  },
  {
   "cell_type": "code",
   "execution_count": 166,
   "metadata": {},
   "outputs": [],
   "source": [
    "training.drop(['variable_rate_index'], axis = 1, inplace = True)"
   ]
  },
  {
   "cell_type": "code",
   "execution_count": 167,
   "metadata": {},
   "outputs": [
    {
     "data": {
      "text/html": [
       "<div>\n",
       "<style scoped>\n",
       "    .dataframe tbody tr th:only-of-type {\n",
       "        vertical-align: middle;\n",
       "    }\n",
       "\n",
       "    .dataframe tbody tr th {\n",
       "        vertical-align: top;\n",
       "    }\n",
       "\n",
       "    .dataframe thead th {\n",
       "        text-align: right;\n",
       "    }\n",
       "</style>\n",
       "<table border=\"1\" class=\"dataframe\">\n",
       "  <thead>\n",
       "    <tr style=\"text-align: right;\">\n",
       "      <th></th>\n",
       "      <th>financial_active</th>\n",
       "      <th>promotion_flag</th>\n",
       "      <th>account_status_code</th>\n",
       "      <th>active_12_mths</th>\n",
       "      <th>bank_fico_buckets_20</th>\n",
       "      <th>mob</th>\n",
       "      <th>open_closed_flag</th>\n",
       "      <th>ever_delinquent_flg</th>\n",
       "      <th>nbr_mths_due</th>\n",
       "      <th>variable_rate_margin</th>\n",
       "      <th>...</th>\n",
       "      <th>due_account_3</th>\n",
       "      <th>due_account_4</th>\n",
       "      <th>due_account_5</th>\n",
       "      <th>due_account_6</th>\n",
       "      <th>due_account_7</th>\n",
       "      <th>due_account_8</th>\n",
       "      <th>snapshot</th>\n",
       "      <th>industry</th>\n",
       "      <th>time</th>\n",
       "      <th>net_payment_behaviour_tripd</th>\n",
       "    </tr>\n",
       "  </thead>\n",
       "  <tbody>\n",
       "    <tr>\n",
       "      <th>337775</th>\n",
       "      <td>1.0</td>\n",
       "      <td>1</td>\n",
       "      <td>3</td>\n",
       "      <td>1.0</td>\n",
       "      <td>9</td>\n",
       "      <td>8</td>\n",
       "      <td>1.0</td>\n",
       "      <td>0.0</td>\n",
       "      <td>2.0</td>\n",
       "      <td>NaN</td>\n",
       "      <td>...</td>\n",
       "      <td>0.0</td>\n",
       "      <td>0.0</td>\n",
       "      <td>0.0</td>\n",
       "      <td>0.0</td>\n",
       "      <td>0.0</td>\n",
       "      <td>0.0</td>\n",
       "      <td>201801</td>\n",
       "      <td>C</td>\n",
       "      <td>1</td>\n",
       "      <td>5</td>\n",
       "    </tr>\n",
       "    <tr>\n",
       "      <th>337776</th>\n",
       "      <td>1.0</td>\n",
       "      <td>1</td>\n",
       "      <td>3</td>\n",
       "      <td>1.0</td>\n",
       "      <td>12</td>\n",
       "      <td>13</td>\n",
       "      <td>1.0</td>\n",
       "      <td>0.0</td>\n",
       "      <td>3.0</td>\n",
       "      <td>NaN</td>\n",
       "      <td>...</td>\n",
       "      <td>0.0</td>\n",
       "      <td>0.0</td>\n",
       "      <td>0.0</td>\n",
       "      <td>0.0</td>\n",
       "      <td>0.0</td>\n",
       "      <td>0.0</td>\n",
       "      <td>201801</td>\n",
       "      <td>A</td>\n",
       "      <td>14</td>\n",
       "      <td>4</td>\n",
       "    </tr>\n",
       "    <tr>\n",
       "      <th>337777</th>\n",
       "      <td>1.0</td>\n",
       "      <td>0</td>\n",
       "      <td>1</td>\n",
       "      <td>1.0</td>\n",
       "      <td>9</td>\n",
       "      <td>27</td>\n",
       "      <td>0.0</td>\n",
       "      <td>1.0</td>\n",
       "      <td>2.0</td>\n",
       "      <td>NaN</td>\n",
       "      <td>...</td>\n",
       "      <td>0.0</td>\n",
       "      <td>0.0</td>\n",
       "      <td>0.0</td>\n",
       "      <td>0.0</td>\n",
       "      <td>0.0</td>\n",
       "      <td>0.0</td>\n",
       "      <td>201801</td>\n",
       "      <td>A</td>\n",
       "      <td>15</td>\n",
       "      <td>5</td>\n",
       "    </tr>\n",
       "    <tr>\n",
       "      <th>337778</th>\n",
       "      <td>0.0</td>\n",
       "      <td>1</td>\n",
       "      <td>3</td>\n",
       "      <td>1.0</td>\n",
       "      <td>7</td>\n",
       "      <td>2</td>\n",
       "      <td>0.0</td>\n",
       "      <td>0.0</td>\n",
       "      <td>0.0</td>\n",
       "      <td>NaN</td>\n",
       "      <td>...</td>\n",
       "      <td>0.0</td>\n",
       "      <td>0.0</td>\n",
       "      <td>0.0</td>\n",
       "      <td>0.0</td>\n",
       "      <td>0.0</td>\n",
       "      <td>0.0</td>\n",
       "      <td>201801</td>\n",
       "      <td>C</td>\n",
       "      <td>2</td>\n",
       "      <td>5</td>\n",
       "    </tr>\n",
       "    <tr>\n",
       "      <th>337779</th>\n",
       "      <td>1.0</td>\n",
       "      <td>0</td>\n",
       "      <td>3</td>\n",
       "      <td>1.0</td>\n",
       "      <td>12</td>\n",
       "      <td>20</td>\n",
       "      <td>1.0</td>\n",
       "      <td>0.0</td>\n",
       "      <td>2.0</td>\n",
       "      <td>NaN</td>\n",
       "      <td>...</td>\n",
       "      <td>0.0</td>\n",
       "      <td>0.0</td>\n",
       "      <td>0.0</td>\n",
       "      <td>0.0</td>\n",
       "      <td>0.0</td>\n",
       "      <td>0.0</td>\n",
       "      <td>201801</td>\n",
       "      <td>B</td>\n",
       "      <td>7</td>\n",
       "      <td>5</td>\n",
       "    </tr>\n",
       "    <tr>\n",
       "      <th>...</th>\n",
       "      <td>...</td>\n",
       "      <td>...</td>\n",
       "      <td>...</td>\n",
       "      <td>...</td>\n",
       "      <td>...</td>\n",
       "      <td>...</td>\n",
       "      <td>...</td>\n",
       "      <td>...</td>\n",
       "      <td>...</td>\n",
       "      <td>...</td>\n",
       "      <td>...</td>\n",
       "      <td>...</td>\n",
       "      <td>...</td>\n",
       "      <td>...</td>\n",
       "      <td>...</td>\n",
       "      <td>...</td>\n",
       "      <td>...</td>\n",
       "      <td>...</td>\n",
       "      <td>...</td>\n",
       "      <td>...</td>\n",
       "      <td>...</td>\n",
       "    </tr>\n",
       "    <tr>\n",
       "      <th>5726233</th>\n",
       "      <td>1.0</td>\n",
       "      <td>1</td>\n",
       "      <td>3</td>\n",
       "      <td>1.0</td>\n",
       "      <td>8</td>\n",
       "      <td>56</td>\n",
       "      <td>0.0</td>\n",
       "      <td>0.0</td>\n",
       "      <td>0.0</td>\n",
       "      <td>NaN</td>\n",
       "      <td>...</td>\n",
       "      <td>0.0</td>\n",
       "      <td>0.0</td>\n",
       "      <td>0.0</td>\n",
       "      <td>0.0</td>\n",
       "      <td>0.0</td>\n",
       "      <td>0.0</td>\n",
       "      <td>201911</td>\n",
       "      <td>A</td>\n",
       "      <td>1</td>\n",
       "      <td>5</td>\n",
       "    </tr>\n",
       "    <tr>\n",
       "      <th>5726234</th>\n",
       "      <td>1.0</td>\n",
       "      <td>0</td>\n",
       "      <td>3</td>\n",
       "      <td>1.0</td>\n",
       "      <td>1</td>\n",
       "      <td>230</td>\n",
       "      <td>0.0</td>\n",
       "      <td>0.0</td>\n",
       "      <td>2.0</td>\n",
       "      <td>19.65</td>\n",
       "      <td>...</td>\n",
       "      <td>0.0</td>\n",
       "      <td>0.0</td>\n",
       "      <td>0.0</td>\n",
       "      <td>0.0</td>\n",
       "      <td>0.0</td>\n",
       "      <td>0.0</td>\n",
       "      <td>201911</td>\n",
       "      <td>C</td>\n",
       "      <td>1</td>\n",
       "      <td>5</td>\n",
       "    </tr>\n",
       "    <tr>\n",
       "      <th>5726235</th>\n",
       "      <td>1.0</td>\n",
       "      <td>0</td>\n",
       "      <td>3</td>\n",
       "      <td>1.0</td>\n",
       "      <td>8</td>\n",
       "      <td>60</td>\n",
       "      <td>0.0</td>\n",
       "      <td>0.0</td>\n",
       "      <td>6.0</td>\n",
       "      <td>19.65</td>\n",
       "      <td>...</td>\n",
       "      <td>0.0</td>\n",
       "      <td>0.0</td>\n",
       "      <td>0.0</td>\n",
       "      <td>0.0</td>\n",
       "      <td>0.0</td>\n",
       "      <td>0.0</td>\n",
       "      <td>201911</td>\n",
       "      <td>B</td>\n",
       "      <td>1</td>\n",
       "      <td>5</td>\n",
       "    </tr>\n",
       "    <tr>\n",
       "      <th>5726236</th>\n",
       "      <td>1.0</td>\n",
       "      <td>1</td>\n",
       "      <td>3</td>\n",
       "      <td>1.0</td>\n",
       "      <td>12</td>\n",
       "      <td>121</td>\n",
       "      <td>0.0</td>\n",
       "      <td>1.0</td>\n",
       "      <td>3.0</td>\n",
       "      <td>NaN</td>\n",
       "      <td>...</td>\n",
       "      <td>0.0</td>\n",
       "      <td>0.0</td>\n",
       "      <td>0.0</td>\n",
       "      <td>0.0</td>\n",
       "      <td>0.0</td>\n",
       "      <td>0.0</td>\n",
       "      <td>201911</td>\n",
       "      <td>A</td>\n",
       "      <td>1</td>\n",
       "      <td>5</td>\n",
       "    </tr>\n",
       "    <tr>\n",
       "      <th>5726237</th>\n",
       "      <td>1.0</td>\n",
       "      <td>1</td>\n",
       "      <td>3</td>\n",
       "      <td>1.0</td>\n",
       "      <td>12</td>\n",
       "      <td>59</td>\n",
       "      <td>0.0</td>\n",
       "      <td>1.0</td>\n",
       "      <td>7.0</td>\n",
       "      <td>NaN</td>\n",
       "      <td>...</td>\n",
       "      <td>0.0</td>\n",
       "      <td>0.0</td>\n",
       "      <td>0.0</td>\n",
       "      <td>0.0</td>\n",
       "      <td>0.0</td>\n",
       "      <td>0.0</td>\n",
       "      <td>201911</td>\n",
       "      <td>C</td>\n",
       "      <td>1</td>\n",
       "      <td>5</td>\n",
       "    </tr>\n",
       "  </tbody>\n",
       "</table>\n",
       "<p>15698 rows × 42 columns</p>\n",
       "</div>"
      ],
      "text/plain": [
       "         financial_active  promotion_flag  account_status_code  \\\n",
       "337775                1.0               1                    3   \n",
       "337776                1.0               1                    3   \n",
       "337777                1.0               0                    1   \n",
       "337778                0.0               1                    3   \n",
       "337779                1.0               0                    3   \n",
       "...                   ...             ...                  ...   \n",
       "5726233               1.0               1                    3   \n",
       "5726234               1.0               0                    3   \n",
       "5726235               1.0               0                    3   \n",
       "5726236               1.0               1                    3   \n",
       "5726237               1.0               1                    3   \n",
       "\n",
       "         active_12_mths  bank_fico_buckets_20  mob  open_closed_flag  \\\n",
       "337775              1.0                     9    8               1.0   \n",
       "337776              1.0                    12   13               1.0   \n",
       "337777              1.0                     9   27               0.0   \n",
       "337778              1.0                     7    2               0.0   \n",
       "337779              1.0                    12   20               1.0   \n",
       "...                 ...                   ...  ...               ...   \n",
       "5726233             1.0                     8   56               0.0   \n",
       "5726234             1.0                     1  230               0.0   \n",
       "5726235             1.0                     8   60               0.0   \n",
       "5726236             1.0                    12  121               0.0   \n",
       "5726237             1.0                    12   59               0.0   \n",
       "\n",
       "         ever_delinquent_flg  nbr_mths_due  variable_rate_margin  ...  \\\n",
       "337775                   0.0           2.0                   NaN  ...   \n",
       "337776                   0.0           3.0                   NaN  ...   \n",
       "337777                   1.0           2.0                   NaN  ...   \n",
       "337778                   0.0           0.0                   NaN  ...   \n",
       "337779                   0.0           2.0                   NaN  ...   \n",
       "...                      ...           ...                   ...  ...   \n",
       "5726233                  0.0           0.0                   NaN  ...   \n",
       "5726234                  0.0           2.0                 19.65  ...   \n",
       "5726235                  0.0           6.0                 19.65  ...   \n",
       "5726236                  1.0           3.0                   NaN  ...   \n",
       "5726237                  1.0           7.0                   NaN  ...   \n",
       "\n",
       "         due_account_3  due_account_4  due_account_5  due_account_6  \\\n",
       "337775             0.0            0.0            0.0            0.0   \n",
       "337776             0.0            0.0            0.0            0.0   \n",
       "337777             0.0            0.0            0.0            0.0   \n",
       "337778             0.0            0.0            0.0            0.0   \n",
       "337779             0.0            0.0            0.0            0.0   \n",
       "...                ...            ...            ...            ...   \n",
       "5726233            0.0            0.0            0.0            0.0   \n",
       "5726234            0.0            0.0            0.0            0.0   \n",
       "5726235            0.0            0.0            0.0            0.0   \n",
       "5726236            0.0            0.0            0.0            0.0   \n",
       "5726237            0.0            0.0            0.0            0.0   \n",
       "\n",
       "         due_account_7  due_account_8  snapshot  industry  time  \\\n",
       "337775             0.0            0.0    201801         C     1   \n",
       "337776             0.0            0.0    201801         A    14   \n",
       "337777             0.0            0.0    201801         A    15   \n",
       "337778             0.0            0.0    201801         C     2   \n",
       "337779             0.0            0.0    201801         B     7   \n",
       "...                ...            ...       ...       ...   ...   \n",
       "5726233            0.0            0.0    201911         A     1   \n",
       "5726234            0.0            0.0    201911         C     1   \n",
       "5726235            0.0            0.0    201911         B     1   \n",
       "5726236            0.0            0.0    201911         A     1   \n",
       "5726237            0.0            0.0    201911         C     1   \n",
       "\n",
       "         net_payment_behaviour_tripd  \n",
       "337775                             5  \n",
       "337776                             4  \n",
       "337777                             5  \n",
       "337778                             5  \n",
       "337779                             5  \n",
       "...                              ...  \n",
       "5726233                            5  \n",
       "5726234                            5  \n",
       "5726235                            5  \n",
       "5726236                            5  \n",
       "5726237                            5  \n",
       "\n",
       "[15698 rows x 42 columns]"
      ]
     },
     "execution_count": 167,
     "metadata": {},
     "output_type": "execute_result"
    }
   ],
   "source": [
    "training.loc[training[\"charge_off\"] == 1]"
   ]
  },
  {
   "cell_type": "code",
   "execution_count": 168,
   "metadata": {},
   "outputs": [],
   "source": [
    "#analyzed only active account, simplify and move forward, forecasting data ONLY HAS ACTIVE ACCOUNTS ANYWAY\n",
    "training.drop([\"active\", \"closed\"], axis = 1, inplace = True)"
   ]
  },
  {
   "cell_type": "code",
   "execution_count": 169,
   "metadata": {},
   "outputs": [],
   "source": [
    "#changing industry names because they match another column and one hot encoding\n",
    "def get_industry(industry):\n",
    "    if(industry == \"A\"):\n",
    "        return \"Alpha\"\n",
    "    elif(industry == \"B\"):\n",
    "        return \"Beta\"\n",
    "    else:\n",
    "        return \"Chi\"\n",
    "training['industry'] = training[\"industry\"].apply(lambda x: get_industry(x))\n",
    "\n",
    "sample = pd.get_dummies(training[\"industry\"])\n",
    "training = training.join(sample)\n",
    "training[\"industry\"] = training[\"Alpha\"] + 2*training[\"Beta\"] + 3*training[\"Chi\"]\n",
    "training.drop([\"Alpha\",\"Beta\", \"Chi\" ], axis = 1, inplace = True)\n"
   ]
  },
  {
   "cell_type": "code",
   "execution_count": 170,
   "metadata": {},
   "outputs": [
    {
     "data": {
      "text/html": [
       "<div>\n",
       "<style scoped>\n",
       "    .dataframe tbody tr th:only-of-type {\n",
       "        vertical-align: middle;\n",
       "    }\n",
       "\n",
       "    .dataframe tbody tr th {\n",
       "        vertical-align: top;\n",
       "    }\n",
       "\n",
       "    .dataframe thead th {\n",
       "        text-align: right;\n",
       "    }\n",
       "</style>\n",
       "<table border=\"1\" class=\"dataframe\">\n",
       "  <thead>\n",
       "    <tr style=\"text-align: right;\">\n",
       "      <th></th>\n",
       "      <th>financial_active</th>\n",
       "      <th>promotion_flag</th>\n",
       "      <th>account_status_code</th>\n",
       "      <th>active_12_mths</th>\n",
       "      <th>bank_fico_buckets_20</th>\n",
       "      <th>mob</th>\n",
       "      <th>open_closed_flag</th>\n",
       "      <th>ever_delinquent_flg</th>\n",
       "      <th>nbr_mths_due</th>\n",
       "      <th>variable_rate_margin</th>\n",
       "      <th>...</th>\n",
       "      <th>due_account_3</th>\n",
       "      <th>due_account_4</th>\n",
       "      <th>due_account_5</th>\n",
       "      <th>due_account_6</th>\n",
       "      <th>due_account_7</th>\n",
       "      <th>due_account_8</th>\n",
       "      <th>snapshot</th>\n",
       "      <th>industry</th>\n",
       "      <th>time</th>\n",
       "      <th>net_payment_behaviour_tripd</th>\n",
       "    </tr>\n",
       "  </thead>\n",
       "  <tbody>\n",
       "    <tr>\n",
       "      <th>337775</th>\n",
       "      <td>1.0</td>\n",
       "      <td>1</td>\n",
       "      <td>3</td>\n",
       "      <td>1.0</td>\n",
       "      <td>9</td>\n",
       "      <td>8</td>\n",
       "      <td>1.0</td>\n",
       "      <td>0.0</td>\n",
       "      <td>2.0</td>\n",
       "      <td>NaN</td>\n",
       "      <td>...</td>\n",
       "      <td>0.0</td>\n",
       "      <td>0.0</td>\n",
       "      <td>0.0</td>\n",
       "      <td>0.0</td>\n",
       "      <td>0.0</td>\n",
       "      <td>0.0</td>\n",
       "      <td>201801</td>\n",
       "      <td>3</td>\n",
       "      <td>1</td>\n",
       "      <td>5</td>\n",
       "    </tr>\n",
       "    <tr>\n",
       "      <th>337776</th>\n",
       "      <td>1.0</td>\n",
       "      <td>1</td>\n",
       "      <td>3</td>\n",
       "      <td>1.0</td>\n",
       "      <td>12</td>\n",
       "      <td>13</td>\n",
       "      <td>1.0</td>\n",
       "      <td>0.0</td>\n",
       "      <td>3.0</td>\n",
       "      <td>NaN</td>\n",
       "      <td>...</td>\n",
       "      <td>0.0</td>\n",
       "      <td>0.0</td>\n",
       "      <td>0.0</td>\n",
       "      <td>0.0</td>\n",
       "      <td>0.0</td>\n",
       "      <td>0.0</td>\n",
       "      <td>201801</td>\n",
       "      <td>1</td>\n",
       "      <td>14</td>\n",
       "      <td>4</td>\n",
       "    </tr>\n",
       "    <tr>\n",
       "      <th>337777</th>\n",
       "      <td>1.0</td>\n",
       "      <td>0</td>\n",
       "      <td>1</td>\n",
       "      <td>1.0</td>\n",
       "      <td>9</td>\n",
       "      <td>27</td>\n",
       "      <td>0.0</td>\n",
       "      <td>1.0</td>\n",
       "      <td>2.0</td>\n",
       "      <td>NaN</td>\n",
       "      <td>...</td>\n",
       "      <td>0.0</td>\n",
       "      <td>0.0</td>\n",
       "      <td>0.0</td>\n",
       "      <td>0.0</td>\n",
       "      <td>0.0</td>\n",
       "      <td>0.0</td>\n",
       "      <td>201801</td>\n",
       "      <td>1</td>\n",
       "      <td>15</td>\n",
       "      <td>5</td>\n",
       "    </tr>\n",
       "    <tr>\n",
       "      <th>337778</th>\n",
       "      <td>0.0</td>\n",
       "      <td>1</td>\n",
       "      <td>3</td>\n",
       "      <td>1.0</td>\n",
       "      <td>7</td>\n",
       "      <td>2</td>\n",
       "      <td>0.0</td>\n",
       "      <td>0.0</td>\n",
       "      <td>0.0</td>\n",
       "      <td>NaN</td>\n",
       "      <td>...</td>\n",
       "      <td>0.0</td>\n",
       "      <td>0.0</td>\n",
       "      <td>0.0</td>\n",
       "      <td>0.0</td>\n",
       "      <td>0.0</td>\n",
       "      <td>0.0</td>\n",
       "      <td>201801</td>\n",
       "      <td>3</td>\n",
       "      <td>2</td>\n",
       "      <td>5</td>\n",
       "    </tr>\n",
       "    <tr>\n",
       "      <th>337779</th>\n",
       "      <td>1.0</td>\n",
       "      <td>0</td>\n",
       "      <td>3</td>\n",
       "      <td>1.0</td>\n",
       "      <td>12</td>\n",
       "      <td>20</td>\n",
       "      <td>1.0</td>\n",
       "      <td>0.0</td>\n",
       "      <td>2.0</td>\n",
       "      <td>NaN</td>\n",
       "      <td>...</td>\n",
       "      <td>0.0</td>\n",
       "      <td>0.0</td>\n",
       "      <td>0.0</td>\n",
       "      <td>0.0</td>\n",
       "      <td>0.0</td>\n",
       "      <td>0.0</td>\n",
       "      <td>201801</td>\n",
       "      <td>2</td>\n",
       "      <td>7</td>\n",
       "      <td>5</td>\n",
       "    </tr>\n",
       "    <tr>\n",
       "      <th>...</th>\n",
       "      <td>...</td>\n",
       "      <td>...</td>\n",
       "      <td>...</td>\n",
       "      <td>...</td>\n",
       "      <td>...</td>\n",
       "      <td>...</td>\n",
       "      <td>...</td>\n",
       "      <td>...</td>\n",
       "      <td>...</td>\n",
       "      <td>...</td>\n",
       "      <td>...</td>\n",
       "      <td>...</td>\n",
       "      <td>...</td>\n",
       "      <td>...</td>\n",
       "      <td>...</td>\n",
       "      <td>...</td>\n",
       "      <td>...</td>\n",
       "      <td>...</td>\n",
       "      <td>...</td>\n",
       "      <td>...</td>\n",
       "      <td>...</td>\n",
       "    </tr>\n",
       "    <tr>\n",
       "      <th>5726233</th>\n",
       "      <td>1.0</td>\n",
       "      <td>1</td>\n",
       "      <td>3</td>\n",
       "      <td>1.0</td>\n",
       "      <td>8</td>\n",
       "      <td>56</td>\n",
       "      <td>0.0</td>\n",
       "      <td>0.0</td>\n",
       "      <td>0.0</td>\n",
       "      <td>NaN</td>\n",
       "      <td>...</td>\n",
       "      <td>0.0</td>\n",
       "      <td>0.0</td>\n",
       "      <td>0.0</td>\n",
       "      <td>0.0</td>\n",
       "      <td>0.0</td>\n",
       "      <td>0.0</td>\n",
       "      <td>201911</td>\n",
       "      <td>1</td>\n",
       "      <td>1</td>\n",
       "      <td>5</td>\n",
       "    </tr>\n",
       "    <tr>\n",
       "      <th>5726234</th>\n",
       "      <td>1.0</td>\n",
       "      <td>0</td>\n",
       "      <td>3</td>\n",
       "      <td>1.0</td>\n",
       "      <td>1</td>\n",
       "      <td>230</td>\n",
       "      <td>0.0</td>\n",
       "      <td>0.0</td>\n",
       "      <td>2.0</td>\n",
       "      <td>19.65</td>\n",
       "      <td>...</td>\n",
       "      <td>0.0</td>\n",
       "      <td>0.0</td>\n",
       "      <td>0.0</td>\n",
       "      <td>0.0</td>\n",
       "      <td>0.0</td>\n",
       "      <td>0.0</td>\n",
       "      <td>201911</td>\n",
       "      <td>3</td>\n",
       "      <td>1</td>\n",
       "      <td>5</td>\n",
       "    </tr>\n",
       "    <tr>\n",
       "      <th>5726235</th>\n",
       "      <td>1.0</td>\n",
       "      <td>0</td>\n",
       "      <td>3</td>\n",
       "      <td>1.0</td>\n",
       "      <td>8</td>\n",
       "      <td>60</td>\n",
       "      <td>0.0</td>\n",
       "      <td>0.0</td>\n",
       "      <td>6.0</td>\n",
       "      <td>19.65</td>\n",
       "      <td>...</td>\n",
       "      <td>0.0</td>\n",
       "      <td>0.0</td>\n",
       "      <td>0.0</td>\n",
       "      <td>0.0</td>\n",
       "      <td>0.0</td>\n",
       "      <td>0.0</td>\n",
       "      <td>201911</td>\n",
       "      <td>2</td>\n",
       "      <td>1</td>\n",
       "      <td>5</td>\n",
       "    </tr>\n",
       "    <tr>\n",
       "      <th>5726236</th>\n",
       "      <td>1.0</td>\n",
       "      <td>1</td>\n",
       "      <td>3</td>\n",
       "      <td>1.0</td>\n",
       "      <td>12</td>\n",
       "      <td>121</td>\n",
       "      <td>0.0</td>\n",
       "      <td>1.0</td>\n",
       "      <td>3.0</td>\n",
       "      <td>NaN</td>\n",
       "      <td>...</td>\n",
       "      <td>0.0</td>\n",
       "      <td>0.0</td>\n",
       "      <td>0.0</td>\n",
       "      <td>0.0</td>\n",
       "      <td>0.0</td>\n",
       "      <td>0.0</td>\n",
       "      <td>201911</td>\n",
       "      <td>1</td>\n",
       "      <td>1</td>\n",
       "      <td>5</td>\n",
       "    </tr>\n",
       "    <tr>\n",
       "      <th>5726237</th>\n",
       "      <td>1.0</td>\n",
       "      <td>1</td>\n",
       "      <td>3</td>\n",
       "      <td>1.0</td>\n",
       "      <td>12</td>\n",
       "      <td>59</td>\n",
       "      <td>0.0</td>\n",
       "      <td>1.0</td>\n",
       "      <td>7.0</td>\n",
       "      <td>NaN</td>\n",
       "      <td>...</td>\n",
       "      <td>0.0</td>\n",
       "      <td>0.0</td>\n",
       "      <td>0.0</td>\n",
       "      <td>0.0</td>\n",
       "      <td>0.0</td>\n",
       "      <td>0.0</td>\n",
       "      <td>201911</td>\n",
       "      <td>3</td>\n",
       "      <td>1</td>\n",
       "      <td>5</td>\n",
       "    </tr>\n",
       "  </tbody>\n",
       "</table>\n",
       "<p>15698 rows × 40 columns</p>\n",
       "</div>"
      ],
      "text/plain": [
       "         financial_active  promotion_flag  account_status_code  \\\n",
       "337775                1.0               1                    3   \n",
       "337776                1.0               1                    3   \n",
       "337777                1.0               0                    1   \n",
       "337778                0.0               1                    3   \n",
       "337779                1.0               0                    3   \n",
       "...                   ...             ...                  ...   \n",
       "5726233               1.0               1                    3   \n",
       "5726234               1.0               0                    3   \n",
       "5726235               1.0               0                    3   \n",
       "5726236               1.0               1                    3   \n",
       "5726237               1.0               1                    3   \n",
       "\n",
       "         active_12_mths  bank_fico_buckets_20  mob  open_closed_flag  \\\n",
       "337775              1.0                     9    8               1.0   \n",
       "337776              1.0                    12   13               1.0   \n",
       "337777              1.0                     9   27               0.0   \n",
       "337778              1.0                     7    2               0.0   \n",
       "337779              1.0                    12   20               1.0   \n",
       "...                 ...                   ...  ...               ...   \n",
       "5726233             1.0                     8   56               0.0   \n",
       "5726234             1.0                     1  230               0.0   \n",
       "5726235             1.0                     8   60               0.0   \n",
       "5726236             1.0                    12  121               0.0   \n",
       "5726237             1.0                    12   59               0.0   \n",
       "\n",
       "         ever_delinquent_flg  nbr_mths_due  variable_rate_margin  ...  \\\n",
       "337775                   0.0           2.0                   NaN  ...   \n",
       "337776                   0.0           3.0                   NaN  ...   \n",
       "337777                   1.0           2.0                   NaN  ...   \n",
       "337778                   0.0           0.0                   NaN  ...   \n",
       "337779                   0.0           2.0                   NaN  ...   \n",
       "...                      ...           ...                   ...  ...   \n",
       "5726233                  0.0           0.0                   NaN  ...   \n",
       "5726234                  0.0           2.0                 19.65  ...   \n",
       "5726235                  0.0           6.0                 19.65  ...   \n",
       "5726236                  1.0           3.0                   NaN  ...   \n",
       "5726237                  1.0           7.0                   NaN  ...   \n",
       "\n",
       "         due_account_3  due_account_4  due_account_5  due_account_6  \\\n",
       "337775             0.0            0.0            0.0            0.0   \n",
       "337776             0.0            0.0            0.0            0.0   \n",
       "337777             0.0            0.0            0.0            0.0   \n",
       "337778             0.0            0.0            0.0            0.0   \n",
       "337779             0.0            0.0            0.0            0.0   \n",
       "...                ...            ...            ...            ...   \n",
       "5726233            0.0            0.0            0.0            0.0   \n",
       "5726234            0.0            0.0            0.0            0.0   \n",
       "5726235            0.0            0.0            0.0            0.0   \n",
       "5726236            0.0            0.0            0.0            0.0   \n",
       "5726237            0.0            0.0            0.0            0.0   \n",
       "\n",
       "         due_account_7  due_account_8  snapshot  industry  time  \\\n",
       "337775             0.0            0.0    201801         3     1   \n",
       "337776             0.0            0.0    201801         1    14   \n",
       "337777             0.0            0.0    201801         1    15   \n",
       "337778             0.0            0.0    201801         3     2   \n",
       "337779             0.0            0.0    201801         2     7   \n",
       "...                ...            ...       ...       ...   ...   \n",
       "5726233            0.0            0.0    201911         1     1   \n",
       "5726234            0.0            0.0    201911         3     1   \n",
       "5726235            0.0            0.0    201911         2     1   \n",
       "5726236            0.0            0.0    201911         1     1   \n",
       "5726237            0.0            0.0    201911         3     1   \n",
       "\n",
       "         net_payment_behaviour_tripd  \n",
       "337775                             5  \n",
       "337776                             4  \n",
       "337777                             5  \n",
       "337778                             5  \n",
       "337779                             5  \n",
       "...                              ...  \n",
       "5726233                            5  \n",
       "5726234                            5  \n",
       "5726235                            5  \n",
       "5726236                            5  \n",
       "5726237                            5  \n",
       "\n",
       "[15698 rows x 40 columns]"
      ]
     },
     "execution_count": 170,
     "metadata": {},
     "output_type": "execute_result"
    }
   ],
   "source": [
    "training.loc[training[\"charge_off\"] == 1]"
   ]
  },
  {
   "cell_type": "code",
   "execution_count": 171,
   "metadata": {},
   "outputs": [
    {
     "data": {
      "application/vnd.plotly.v1+json": {
       "config": {
        "plotlyServerURL": "https://plot.ly"
       },
       "data": [
        {
         "coloraxis": "coloraxis",
         "hovertemplate": "x: %{x}<br>y: %{y}<br>color: %{z}<extra></extra>",
         "name": "0",
         "texttemplate": "%{z}",
         "type": "heatmap",
         "x": [
          "financial_active",
          "promotion_flag",
          "account_status_code",
          "active_12_mths",
          "bank_fico_buckets_20",
          "mob",
          "open_closed_flag",
          "ever_delinquent_flg",
          "nbr_mths_due",
          "variable_rate_margin",
          "stmt_balance",
          "prev_balance",
          "net_sales",
          "net_payments",
          "purchase_active",
          "credit_limit_amt",
          "credit_limit_pa",
          "charge_off",
          "principal_amt",
          "principal_amt_chrg_off",
          "fee_chg_off_reversal_amt",
          "net_finance_charge",
          "non_principal_amount_gross",
          "non_principal_amount_net",
          "non_principal_amount_stmt",
          "fc_reversals",
          "fee_reversals",
          "promo_bal_amt",
          "recovery_amt",
          "due_account_2",
          "due_account_3",
          "due_account_4",
          "due_account_5",
          "due_account_6",
          "due_account_7",
          "due_account_8",
          "snapshot",
          "industry",
          "time",
          "net_payment_behaviour_tripd"
         ],
         "xaxis": "x",
         "y": [
          "financial_active",
          "promotion_flag",
          "account_status_code",
          "active_12_mths",
          "bank_fico_buckets_20",
          "mob",
          "open_closed_flag",
          "ever_delinquent_flg",
          "nbr_mths_due",
          "variable_rate_margin",
          "stmt_balance",
          "prev_balance",
          "net_sales",
          "net_payments",
          "purchase_active",
          "credit_limit_amt",
          "credit_limit_pa",
          "charge_off",
          "principal_amt",
          "principal_amt_chrg_off",
          "fee_chg_off_reversal_amt",
          "net_finance_charge",
          "non_principal_amount_gross",
          "non_principal_amount_net",
          "non_principal_amount_stmt",
          "fc_reversals",
          "fee_reversals",
          "promo_bal_amt",
          "recovery_amt",
          "due_account_2",
          "due_account_3",
          "due_account_4",
          "due_account_5",
          "due_account_6",
          "due_account_7",
          "due_account_8",
          "snapshot",
          "industry",
          "time",
          "net_payment_behaviour_tripd"
         ],
         "yaxis": "y",
         "z": [
          [
           1,
           0.002916369788054198,
           -0.0054547096568758596,
           0.009092613438410245,
           0.002315406029033748,
           0.0004167283611393707,
           -0.0021914574460174317,
           0.0007049658344560992,
           0.00789658556525105,
           0.00198458080422591,
           -0.0007991618240433762,
           0.0012391707217024783,
           0.00027641918380603124,
           -0.0003012784025384836,
           0.0008391151803183179,
           -0.0020322357661400974,
           0.000997789723383243,
           0.037884615576988676,
           -0.00012106772448260932,
           0.02305348476885626,
           0.026048940174882216,
           -0.000028331417800393224,
           0.0003918125138079536,
           0.0005836070148319499,
           0.0009512453150125336,
           0.0200070632313292,
           0.03083658514881709,
           -0.001744221460611426,
           0.005691218248414199,
           -0.0005896910038099651,
           0.0006609914883087626,
           0.0004589505596091964,
           -0.000004448775683841335,
           0.0008281170523977459,
           0.0008359620474934396,
           -0.0004100950811295149,
           -0.06470416311742162,
           0.00002942194043494826,
           0.03793346512400564,
           0.001311721180444221
          ],
          [
           0.002916369788054198,
           1,
           -0.002596471740993558,
           0.005211939874418188,
           0.001147255591477591,
           -0.0004752436188632516,
           -0.00166610498154422,
           0.00017863777680983116,
           0.003677274383255544,
           0.0001261927729559194,
           -0.0007339794971194249,
           0.0007293201339700367,
           0.0001636968390264902,
           0.00020285790145077384,
           0.00022008741492824315,
           -0.001635587600859168,
           0.00009669775781239548,
           0.02243766484037901,
           -0.00042754693532321694,
           0.013488300188353997,
           0.01499983865398152,
           0.0005190375254511504,
           0.0004947016433146434,
           0.00044974360082581006,
           -0.00017212719324549415,
           0.01233547401426458,
           0.018395716835690704,
           -0.0011955059662673813,
           0.004152753750475692,
           -0.00006612408289221653,
           0.0002726025873816028,
           0.00015651088106799225,
           0.00031870573442756745,
           0.0009007278454821414,
           0.0001461553262425921,
           0.0005273063171255626,
           -0.031784536779614674,
           0.00018173848161147558,
           0.017962752164548127,
           0.0005748367060333051
          ],
          [
           -0.0054547096568758596,
           -0.002596471740993558,
           1,
           -0.008994970645688348,
           -0.0005655498063605812,
           -0.0006504985359903165,
           -0.0032150754977978524,
           -0.0005071672919032706,
           0.0025258345109333905,
           -0.0004445015835386431,
           -0.0007946335470948171,
           -0.00020080242599213898,
           -0.0007269892839770159,
           -0.000139082947679848,
           -0.0017841500004291012,
           0.00023570081043683684,
           -0.0013464630733920967,
           0.00803139496268653,
           -0.0001685069375536126,
           0.00483942129383867,
           0.00553495130415856,
           -0.00033973960746734415,
           -0.001607530092370947,
           -0.001253056130210331,
           -0.001122070149060241,
           0.004132657196811192,
           0.006459885571086608,
           0.0012495273982512925,
           0.001912152873778566,
           0.0005793351617540012,
           0.00034155903622649355,
           -0.0009908424014302194,
           -0.00028367960396335465,
           0.0004958308370282124,
           -0.00007115384187416606,
           -0.0008428662460943092,
           0.06592509516236773,
           -0.001105746864432486,
           -0.037308063454552294,
           0.0011649988716554368
          ],
          [
           0.009092613438410245,
           0.005211939874418188,
           -0.008994970645688348,
           1,
           0.002133999628469014,
           0.00025105528818754677,
           0.0007606609570890661,
           0.001888368881891382,
           0.0032673521421241296,
           0.0010457062819772996,
           -0.0006340041658544472,
           0.0012868817470515711,
           0.0005961049984289508,
           -0.00005590314573745512,
           0.002616311040591245,
           -0.003347976615043844,
           0.0018997076303010616,
           0.021349761630195183,
           0.00016689407527230082,
           0.012707220501446024,
           0.01451249244107316,
           0.0006024441169595373,
           0.0016411826121549404,
           0.0008496257915030387,
           0.001261472351948793,
           0.011277204807130469,
           0.017314530061129704,
           -0.0023829175641619372,
           0.003442508051342679,
           -0.0006033032219306261,
           0.00026493971970648793,
           -0.0003447071889123749,
           0.00020721092290517485,
           -0.000022443806615607757,
           0.0002592276474294633,
           -0.0003088343495834085,
           -0.10035586158058127,
           -0.00025290555410508803,
           0.057054006410874845,
           0.0004208567850527741
          ],
          [
           0.002315406029033748,
           0.001147255591477591,
           -0.0005655498063605812,
           0.002133999628469014,
           1,
           -0.0010271894070536909,
           -0.005586958483310916,
           0.0005833252658665894,
           0.008947861652430023,
           -0.0008085764477956729,
           -0.0000910865616666375,
           0.002630677717436799,
           -0.0003310363165393209,
           -0.0002487632808458006,
           -0.0010922859391324805,
           -0.0025334826909288034,
           -0.00008647266641215627,
           0.04208134765796827,
           -0.00027636248848533253,
           0.02529295953548858,
           0.028861608871982296,
           -0.00007818470742791284,
           -0.0006119448006192832,
           -0.00007595112060687696,
           -0.001175709099084726,
           0.022501270576504546,
           0.03452722866871722,
           -0.0008783716665011939,
           0.00658652147597274,
           0.00012492793146404608,
           -0.00003700845811525797,
           0.00009338525996644234,
           0.00009905582736593967,
           0.0002000827021617414,
           0.0009936331831540022,
           -0.0006292286819733305,
           -0.005611561400759038,
           -0.0002880593613398305,
           0.004027031844380585,
           0.002184778501691243
          ],
          [
           0.0004167283611393707,
           -0.0004752436188632516,
           -0.0006504985359903165,
           0.00025105528818754677,
           -0.0010271894070536909,
           1,
           0.0016664134222654076,
           0.00020158386296284625,
           -0.0027639191169102433,
           0.0011431281304186006,
           0.001317751597084514,
           -0.0008188515477524582,
           0.0007310379475333478,
           0.00021989832612146626,
           0.00043914719588928865,
           -0.00025453886753156705,
           0.000387677442625905,
           -0.012222717920290773,
           0.0004202182887909663,
           -0.0072147269083772895,
           -0.008280767232532571,
           0.0006588997100446134,
           -0.00005299162180476885,
           0.00009289044353403639,
           0.000039219410463929744,
           -0.006831699349447274,
           -0.009956710217997785,
           -0.0003567651863152813,
           -0.0017515822232696614,
           -0.000526394505563246,
           -0.0001606057883147525,
           0.0003831687042221693,
           -0.00008239609002777755,
           -0.0003826396390940103,
           -0.0009564055257193561,
           0.00016207279232362718,
           -0.0060840959118773335,
           0.0002469251825472152,
           0.003931549370785199,
           -0.0006611747994578485
          ],
          [
           -0.0021914574460174317,
           -0.00166610498154422,
           -0.0032150754977978524,
           0.0007606609570890661,
           -0.005586958483310916,
           0.0016664134222654076,
           1,
           -0.0010049855857809013,
           -0.03249370500003152,
           -0.0018013195685777628,
           0.003221088016522781,
           -0.006476833243605931,
           0.001027199014547635,
           0.0018999899602955292,
           0.004544005035029082,
           0.00699895889762823,
           0.0028287248565693865,
           -0.13034389613381256,
           0.002041399878562522,
           -0.07849058412493444,
           -0.08807808199205447,
           0.0018226373542251566,
           0.0018876070992286302,
           0.0015643080460159787,
           0.0012912552610547935,
           -0.06984334505667507,
           -0.10682372365140039,
           0.0017484348378145383,
           -0.018738916128946632,
           0.0008300141770368778,
           -0.00025957111856062497,
           -0.0008387791871151178,
           -0.0010957823957306496,
           -0.0002707099498251686,
           -0.0007969659637099052,
           0.0000872937128602688,
           -0.02625317808807337,
           0.001989053561064016,
           0.014615128813043563,
           -0.008398839786511694
          ],
          [
           0.0007049658344560992,
           0.00017863777680983116,
           -0.0005071672919032706,
           0.001888368881891382,
           0.0005833252658665894,
           0.00020158386296284625,
           -0.0010049855857809013,
           1,
           0.001827664146052251,
           -0.0009386613428360245,
           -0.0007289952972372352,
           0.0006772098014294695,
           0.0006500783268532703,
           -0.00031600224318535273,
           -0.0005417961453728874,
           -0.0005366179915532188,
           -0.00013173020302461723,
           0.009611468518848084,
           -0.001009311455110888,
           0.006322975517467777,
           0.006163939933727778,
           0.00024489332161726476,
           -0.000008213472104785616,
           0.0002911421542028102,
           -0.00032095346308219945,
           0.004628257461540501,
           0.008331776370772514,
           -0.0012218876322535053,
           0.0013773571101028741,
           -0.00033407543724967535,
           0.00039182813148347183,
           0.000616486822304812,
           -0.00046889063695447475,
           0.00004252074046241371,
           0.00030024985823735173,
           0.000518995092227061,
           -0.01169420902114941,
           -0.0005472293066603272,
           0.006108019081223689,
           -0.00023557445463702803
          ],
          [
           0.00789658556525105,
           0.003677274383255544,
           0.0025258345109333905,
           0.0032673521421241296,
           0.008947861652430023,
           -0.0027639191169102433,
           -0.03249370500003152,
           0.001827664146052251,
           1,
           0.0023583618229599482,
           -0.003536384305830067,
           0.009804623083599046,
           -0.0012084008666178217,
           -0.0024225445327061878,
           -0.005427008291342374,
           -0.011680734303473762,
           -0.0036071436098796964,
           0.21181694918942034,
           -0.0036520765255024386,
           0.13171695322728416,
           0.14367209634550887,
           -0.0019026460364213842,
           -0.002752185910091507,
           -0.003292949734068805,
           -0.002642762881570095,
           0.10979027536927023,
           0.17341131628736786,
           -0.0024256303985859436,
           0.03210832695338093,
           -0.0016230439853082979,
           0.0020258864918770835,
           0.001666399405263945,
           0.0008892969923027719,
           0.0007705429559666653,
           0.0020547362044519204,
           -0.0001458172185489453,
           0.008681097846968282,
           -0.002538507717211679,
           -0.005290088425834896,
           0.013007196574687166
          ],
          [
           0.00198458080422591,
           0.0001261927729559194,
           -0.0004445015835386431,
           0.0010457062819772996,
           -0.0008085764477956729,
           0.0011431281304186006,
           -0.0018013195685777628,
           -0.0009386613428360245,
           0.0023583618229599482,
           1,
           -0.0005895716219686102,
           0.0007733858850330061,
           -0.0013901813661375555,
           -0.0021099746704060203,
           -0.00024253951080615137,
           -0.0019246171706373033,
           -0.0001778346037858545,
           0.010949980871450896,
           0.0002491608996605434,
           0.006508078006392617,
           0.007683582207441511,
           -0.00034246105500749423,
           0.0005008997531636697,
           -0.00007764848135313571,
           -0.00024385807991926062,
           0.005681269428023564,
           0.008991908452136353,
           0.00027575318496267885,
           0.002003783866973216,
           0.00038080227847161926,
           -0.0002747432891134165,
           0.0008669710866534376,
           0.0005010568433293127,
           -0.0009676569889758643,
           -0.0007176336988438697,
           0.0007489449395982617,
           -0.01008644512595505,
           0.001313300827101632,
           0.00491105418810259,
           -0.0009785133008778529
          ],
          [
           -0.0007991618240433762,
           -0.0007339794971194249,
           -0.0007946335470948171,
           -0.0006340041658544472,
           -0.0000910865616666375,
           0.001317751597084514,
           0.003221088016522781,
           -0.0007289952972372352,
           -0.003536384305830067,
           -0.0005895716219686102,
           1,
           -0.0005318456813684765,
           -0.0005023155384778461,
           0.00020572915013399539,
           0.0013327395379702576,
           0.0007725552163183046,
           0.000908126209979985,
           -0.01970630600827828,
           0.0012092645342935853,
           -0.011740599361591976,
           -0.013649758513788105,
           0.0002921575866767784,
           -0.0001328738680594091,
           -0.00029831901934731326,
           0.0003691958670706579,
           -0.010454385469630007,
           -0.016245198222864334,
           0.0005476707746192086,
           -0.002217913813208497,
           -0.00011712336601508864,
           0.00005465592820918079,
           -0.0002740207782296543,
           0.0005069575823381479,
           0.00009538058061283115,
           0.00006901075060329399,
           -0.00011686287233130404,
           -0.0010014668260153283,
           0.00021097842487668086,
           0.0009888108055584543,
           -0.0012729035822425729
          ],
          [
           0.0012391707217024783,
           0.0007293201339700367,
           -0.00020080242599213898,
           0.0012868817470515711,
           0.002630677717436799,
           -0.0008188515477524582,
           -0.006476833243605931,
           0.0006772098014294695,
           0.009804623083599046,
           0.0007733858850330061,
           -0.0005318456813684765,
           1,
           0.00011477849123950132,
           -0.00010388129100581073,
           -0.0010545551331717393,
           -0.0028788069399918815,
           -0.0006860576023486918,
           0.046842960808533965,
           -0.0010106289677171807,
           0.029281752378268085,
           0.03227809691080186,
           -0.0004252496580332849,
           -0.0005698128066447769,
           -0.0004243531303408673,
           -0.0008844357010431153,
           0.025011430427047298,
           0.03854076135727387,
           -0.0007917978279450744,
           0.006838146263705504,
           -0.000014233040093390526,
           0.0010590049566194342,
           0.00021140822179623088,
           0.0004479762339083762,
           -0.0002797195195533531,
           -0.0002817653569346443,
           -0.00017684069025960218,
           -0.0010338857640535333,
           -0.0011477545701860405,
           0.000280370799993331,
           0.0031892433817154245
          ],
          [
           0.00027641918380603124,
           0.0001636968390264902,
           -0.0007269892839770159,
           0.0005961049984289508,
           -0.0003310363165393209,
           0.0007310379475333478,
           0.001027199014547635,
           0.0006500783268532703,
           -0.0012084008666178217,
           -0.0013901813661375555,
           -0.0005023155384778461,
           0.00011477849123950132,
           1,
           -0.000049298267204284396,
           0.00013326100478784698,
           -0.00017840799967834347,
           0.000028626537586165477,
           -0.008876534470115098,
           0.00043287701718485653,
           -0.005480761047921664,
           -0.006107673533429211,
           -0.00042356511313644367,
           0.0006479013227829635,
           0.0006468821616189732,
           -0.000021848150445833368,
           -0.004583423559820848,
           -0.00723871944610931,
           0.0002704751986485132,
           -0.0013541736022392723,
           -0.000021774573644436564,
           -0.0007562318130101023,
           -0.0003037303830203662,
           0.00015848268870510647,
           0.0008039784249274086,
           0.0004775720303648833,
           -0.00012533326430881451,
           -0.005936290253994414,
           0.00010190796196574652,
           0.0034240242318167332,
           -0.0010441773459857941
          ],
          [
           -0.0003012784025384836,
           0.00020285790145077384,
           -0.000139082947679848,
           -0.00005590314573745512,
           -0.0002487632808458006,
           0.00021989832612146626,
           0.0018999899602955292,
           -0.00031600224318535273,
           -0.0024225445327061878,
           -0.0021099746704060203,
           0.00020572915013399539,
           -0.00010388129100581073,
           -0.000049298267204284396,
           1,
           0.000721749825794451,
           0.0010637771874503672,
           0.000471610421090082,
           -0.011094749884219143,
           0.00007538953664047562,
           -0.00673179928071142,
           -0.00758077456886522,
           -0.0002567018724889082,
           -0.00047171115936516975,
           0.000294917865124149,
           -0.0005001084761959464,
           -0.005890657215280472,
           -0.009078591259821196,
           -0.0004648464095003474,
           -0.0019620622472284206,
           -0.00024276596103668026,
           -0.0013743957050694237,
           -0.0000533266316905547,
           -0.0003477902026723779,
           -0.0003489186342102369,
           -0.00041843434970525187,
           0.001241810448874588,
           -0.005954423254902138,
           0.00021832117269811365,
           0.0037970936233536127,
           -0.0007450274003852235
          ],
          [
           0.0008391151803183179,
           0.00022008741492824315,
           -0.0017841500004291012,
           0.002616311040591245,
           -0.0010922859391324805,
           0.00043914719588928865,
           0.004544005035029082,
           -0.0005417961453728874,
           -0.005427008291342374,
           -0.00024253951080615137,
           0.0013327395379702576,
           -0.0010545551331717393,
           0.00013326100478784698,
           0.000721749825794451,
           1,
           0.0007642816046760104,
           0.0003260564880712878,
           -0.02445195142841413,
           0.001040356140731959,
           -0.014763921694777252,
           -0.016728454781949648,
           0.0006007162689225301,
           0.0008713521121365697,
           0.0015807837967368634,
           0.0009057169425260215,
           -0.013015244425532908,
           -0.01994128896424901,
           0.00015026934724827432,
           -0.0036831221503854776,
           0.0007802249442008995,
           -0.0002835505911950056,
           -0.00036998549976271415,
           0.00013046307482368283,
           -0.00017481252332664595,
           0.00019855609464841043,
           0.00027835267170567637,
           -0.022730326491195295,
           -0.00000948830814319355,
           0.013005833527068307,
           -0.0020109221667996297
          ],
          [
           -0.0020322357661400974,
           -0.001635587600859168,
           0.00023570081043683684,
           -0.003347976615043844,
           -0.0025334826909288034,
           -0.00025453886753156705,
           0.00699895889762823,
           -0.0005366179915532188,
           -0.011680734303473762,
           -0.0019246171706373033,
           0.0007725552163183046,
           -0.0028788069399918815,
           -0.00017840799967834347,
           0.0010637771874503672,
           0.0007642816046760104,
           1,
           0.0003397878029085171,
           -0.05649180433267587,
           0.0011019797413869363,
           -0.03422823730614198,
           -0.038405873515347355,
           0.0007169680915166232,
           0.00042483043346480003,
           0.00022346189674183882,
           0.0007802122767949764,
           -0.029965184624395503,
           -0.046093337190935856,
           0.0008921655455501796,
           -0.008830747421530184,
           0.00006594789688408043,
           -0.0009313552102355254,
           -0.00034449282303648966,
           -0.0009802610825401857,
           0.00015112435480066724,
           -0.0008063234975707078,
           0.000050608806294534225,
           0.004923340895091589,
           0.0010342204100376986,
           -0.003500652561215402,
           -0.0029346941888487273
          ],
          [
           0.000997789723383243,
           0.00009669775781239548,
           -0.0013464630733920967,
           0.0018997076303010616,
           -0.00008647266641215627,
           0.000387677442625905,
           0.0028287248565693865,
           -0.00013173020302461723,
           -0.0036071436098796964,
           -0.0001778346037858545,
           0.000908126209979985,
           -0.0006860576023486918,
           0.000028626537586165477,
           0.000471610421090082,
           0.0003260564880712878,
           0.0003397878029085171,
           1,
           -0.01781579303519778,
           0.0008674256138101167,
           -0.010928532470243179,
           -0.012167889295332256,
           0.0008951878296008977,
           0.0002653671571062037,
           -0.000027802194317815676,
           -0.00005164887571001778,
           -0.009322886318741497,
           -0.014506354098870945,
           -0.0004964899361666811,
           -0.0029427072370888183,
           0.000571317040055468,
           0.00021573025833300543,
           0.00013786749547172863,
           -0.0005026007719927816,
           0.0004477466800024977,
           0.00008497048143773393,
           -0.00019089891949676855,
           -0.016608734650044223,
           0.00044114238110707244,
           0.009188138502443153,
           -0.001964512370845111
          ],
          [
           0.037884615576988676,
           0.02243766484037901,
           0.00803139496268653,
           0.021349761630195183,
           0.04208134765796827,
           -0.012222717920290773,
           -0.13034389613381256,
           0.009611468518848084,
           0.21181694918942034,
           0.010949980871450896,
           -0.01970630600827828,
           0.046842960808533965,
           -0.008876534470115098,
           -0.011094749884219143,
           -0.02445195142841413,
           -0.05649180433267587,
           -0.01781579303519778,
           1,
           -0.018661852537080144,
           0.606442253032329,
           0.6839247790229768,
           -0.008742764498554234,
           -0.011016193871250272,
           -0.011176775975553095,
           -0.010966506472963244,
           0.5299494138890559,
           0.8161220582798733,
           -0.015102250562317355,
           0.15557650737953577,
           -0.006451809558582774,
           0.008114086724490533,
           0.0073787535052449674,
           0.005018091511052479,
           0.003195621566251736,
           0.006648434287870548,
           -0.00003773872431949511,
           -0.004764895399675244,
           -0.012398465366855665,
           0.0029388311554889046,
           0.05757032156102715
          ],
          [
           -0.00012106772448260932,
           -0.00042754693532321694,
           -0.0001685069375536126,
           0.00016689407527230082,
           -0.00027636248848533253,
           0.0004202182887909663,
           0.002041399878562522,
           -0.001009311455110888,
           -0.0036520765255024386,
           0.0002491608996605434,
           0.0012092645342935853,
           -0.0010106289677171807,
           0.00043287701718485653,
           0.00007538953664047562,
           0.001040356140731959,
           0.0011019797413869363,
           0.0008674256138101167,
           -0.018661852537080144,
           1,
           -0.011382255102161351,
           -0.01292731183836987,
           0.00037205405789872485,
           0.00022825331015396218,
           0.0003743549387233363,
           0.0007356858717194368,
           -0.009768114955927554,
           -0.015301540637278663,
           -0.000184354756896164,
           -0.003243442304043273,
           -0.00008022333018510678,
           0.000038707608593496576,
           -0.00036956338825937886,
           0.000746866426503265,
           -0.00017437186643268869,
           0.00023174784398263657,
           -0.00023217312293215134,
           0.001516415846699033,
           0.0001379238288910957,
           -0.0007422924794019076,
           -0.0009711481652728494
          ],
          [
           0.02305348476885626,
           0.013488300188353997,
           0.00483942129383867,
           0.012707220501446024,
           0.02529295953548858,
           -0.0072147269083772895,
           -0.07849058412493444,
           0.006322975517467777,
           0.13171695322728416,
           0.006508078006392617,
           -0.011740599361591976,
           0.029281752378268085,
           -0.005480761047921664,
           -0.00673179928071142,
           -0.014763921694777252,
           -0.03422823730614198,
           -0.010928532470243179,
           0.606442253032329,
           -0.011382255102161351,
           1,
           0.40402072862466304,
           -0.005086755183497699,
           -0.006810256155265167,
           -0.00687531856520342,
           -0.006756042213571584,
           0.32183319840159946,
           0.4981689387583528,
           -0.00914805580570707,
           0.08796270178621815,
           -0.003490024747046591,
           0.004998305113955575,
           0.004333663746174845,
           0.0018595647476428966,
           0.0016960641866970794,
           0.004615331368329532,
           -0.000023454271599251752,
           -0.0027065419020091534,
           -0.007317855001562273,
           0.0018729184980866708,
           0.03498837913862712
          ],
          [
           0.026048940174882216,
           0.01499983865398152,
           0.00553495130415856,
           0.01451249244107316,
           0.028861608871982296,
           -0.008280767232532571,
           -0.08807808199205447,
           0.006163939933727778,
           0.14367209634550887,
           0.007683582207441511,
           -0.013649758513788105,
           0.03227809691080186,
           -0.006107673533429211,
           -0.00758077456886522,
           -0.016728454781949648,
           -0.038405873515347355,
           -0.012167889295332256,
           0.6839247790229768,
           -0.01292731183836987,
           0.40402072862466304,
           1,
           -0.005848369380951334,
           -0.007575126783766354,
           -0.007679159399675747,
           -0.007522575340171701,
           0.3605581279261127,
           0.5558971484504454,
           -0.010474934207864467,
           0.09979175854272013,
           -0.004324292424144876,
           0.005020195717065815,
           0.004646934101390567,
           0.003424022305016546,
           0.003092864670868142,
           0.005286570424004913,
           -0.000025814913739359753,
           -0.003455598597842569,
           -0.00824033927111979,
           0.0019329903358823043,
           0.03901742084148534
          ],
          [
           -0.000028331417800393224,
           0.0005190375254511504,
           -0.00033973960746734415,
           0.0006024441169595373,
           -0.00007818470742791284,
           0.0006588997100446134,
           0.0018226373542251566,
           0.00024489332161726476,
           -0.0019026460364213842,
           -0.00034246105500749423,
           0.0002921575866767784,
           -0.0004252496580332849,
           -0.00042356511313644367,
           -0.0002567018724889082,
           0.0006007162689225301,
           0.0007169680915166232,
           0.0008951878296008977,
           -0.008742764498554234,
           0.00037205405789872485,
           -0.005086755183497699,
           -0.005848369380951334,
           1,
           0.00020241094735247116,
           -0.0002741534840143334,
           0.00042342724046778277,
           -0.0044532623373096415,
           -0.007127652977785886,
           -0.0003448981792977328,
           -0.0016364188668896245,
           0.00016840189147218103,
           -0.00043805395330524246,
           -0.000248830607783382,
           -0.0002217005619808182,
           -0.00007451447388068789,
           0.0002997689774683603,
           0.00003950197598670532,
           -0.008874990036106875,
           0.00005186228104388863,
           0.004500059497053264,
           -0.0011841495528200968
          ],
          [
           0.0003918125138079536,
           0.0004947016433146434,
           -0.001607530092370947,
           0.0016411826121549404,
           -0.0006119448006192832,
           -0.00005299162180476885,
           0.0018876070992286302,
           -0.000008213472104785616,
           -0.002752185910091507,
           0.0005008997531636697,
           -0.0001328738680594091,
           -0.0005698128066447769,
           0.0006479013227829635,
           -0.00047171115936516975,
           0.0008713521121365697,
           0.00042483043346480003,
           0.0002653671571062037,
           -0.011016193871250272,
           0.00022825331015396218,
           -0.006810256155265167,
           -0.007575126783766354,
           0.00020241094735247116,
           1,
           0.00023318120641834187,
           -0.0005703406419555699,
           -0.005773904958504544,
           -0.008962459380628283,
           -0.0001809810808618531,
           -0.0022246077701883857,
           -0.0007426795068316535,
           0.00011054018061887418,
           0.0001995222340831883,
           -0.00013829386876519338,
           -0.00021544722379604464,
           0.0006326466403210563,
           -0.0001687800080181188,
           -0.01233077478127327,
           -0.00010363290659663091,
           0.006023980150380585,
           -0.00025990828192526665
          ],
          [
           0.0005836070148319499,
           0.00044974360082581006,
           -0.001253056130210331,
           0.0008496257915030387,
           -0.00007595112060687696,
           0.00009289044353403639,
           0.0015643080460159787,
           0.0002911421542028102,
           -0.003292949734068805,
           -0.00007764848135313571,
           -0.00029831901934731326,
           -0.0004243531303408673,
           0.0006468821616189732,
           0.000294917865124149,
           0.0015807837967368634,
           0.00022346189674183882,
           -0.000027802194317815676,
           -0.011176775975553095,
           0.0003743549387233363,
           -0.00687531856520342,
           -0.007679159399675747,
           -0.0002741534840143334,
           0.00023318120641834187,
           1,
           0.0006619618679458699,
           -0.005956459417882244,
           -0.009087948312849533,
           -0.0007404578171378601,
           -0.0019026930175333385,
           0.00004452080620367314,
           -0.0004168880387929079,
           0.00028665766256280237,
           -0.0003751883787141196,
           -0.00029098360626707206,
           -0.000014886421640467893,
           0.00015506728974443954,
           -0.012334926259504712,
           0.000695097638892943,
           0.006176668873342472,
           -0.0004614705754209333
          ],
          [
           0.0009512453150125336,
           -0.00017212719324549415,
           -0.001122070149060241,
           0.001261472351948793,
           -0.001175709099084726,
           0.000039219410463929744,
           0.0012912552610547935,
           -0.00032095346308219945,
           -0.002642762881570095,
           -0.00024385807991926062,
           0.0003691958670706579,
           -0.0008844357010431153,
           -0.000021848150445833368,
           -0.0005001084761959464,
           0.0009057169425260215,
           0.0007802122767949764,
           -0.00005164887571001778,
           -0.010966506472963244,
           0.0007356858717194368,
           -0.006756042213571584,
           -0.007522575340171701,
           0.00042342724046778277,
           -0.0005703406419555699,
           0.0006619618679458699,
           1,
           -0.005832817904656328,
           -0.008879383803628555,
           -0.00035403591030032486,
           -0.001292551611684051,
           -0.0000028613305077293714,
           -0.00023356100914799247,
           -0.0003964777756859475,
           0.00027121703763139624,
           0.0003368443688856676,
           -0.00048042173386315793,
           0.000151147734223978,
           -0.012315189592709178,
           0.0008384397034193815,
           0.006378754464716585,
           -0.0017648195612744119
          ],
          [
           0.0200070632313292,
           0.01233547401426458,
           0.004132657196811192,
           0.011277204807130469,
           0.022501270576504546,
           -0.006831699349447274,
           -0.06984334505667507,
           0.004628257461540501,
           0.10979027536927023,
           0.005681269428023564,
           -0.010454385469630007,
           0.025011430427047298,
           -0.004583423559820848,
           -0.005890657215280472,
           -0.013015244425532908,
           -0.029965184624395503,
           -0.009322886318741497,
           0.5299494138890559,
           -0.009768114955927554,
           0.32183319840159946,
           0.3605581279261127,
           -0.0044532623373096415,
           -0.005773904958504544,
           -0.005956459417882244,
           -0.005832817904656328,
           1,
           0.4331989476468186,
           -0.008110619805944958,
           0.08361486507410545,
           -0.0033541229140434947,
           0.003310915393717907,
           0.004993746195624492,
           0.0034069606553281907,
           0.0012542989239926687,
           0.004329345692976893,
           -0.000020004418670409112,
           -0.0028577452670275425,
           -0.006627643404136559,
           0.0016867308699134204,
           0.030807104418222576
          ],
          [
           0.03083658514881709,
           0.018395716835690704,
           0.006459885571086608,
           0.017314530061129704,
           0.03452722866871722,
           -0.009956710217997785,
           -0.10682372365140039,
           0.008331776370772514,
           0.17341131628736786,
           0.008991908452136353,
           -0.016245198222864334,
           0.03854076135727387,
           -0.00723871944610931,
           -0.009078591259821196,
           -0.01994128896424901,
           -0.046093337190935856,
           -0.014506354098870945,
           0.8161220582798733,
           -0.015301540637278663,
           0.4981689387583528,
           0.5558971484504454,
           -0.007127652977785886,
           -0.008962459380628283,
           -0.009087948312849533,
           -0.008879383803628555,
           0.4331989476468186,
           1,
           -0.012325607360830484,
           0.12337401793348064,
           -0.005140887846472982,
           0.007290604937684206,
           0.005939331709375616,
           0.0042248925740794065,
           0.002560284335730978,
           0.005833762771173936,
           -0.00003080157739078565,
           -0.003700568904140262,
           -0.00979958415515118,
           0.0023716955392846656,
           0.04694738209268608
          ],
          [
           -0.001744221460611426,
           -0.0011955059662673813,
           0.0012495273982512925,
           -0.0023829175641619372,
           -0.0008783716665011939,
           -0.0003567651863152813,
           0.0017484348378145383,
           -0.0012218876322535053,
           -0.0024256303985859436,
           0.00027575318496267885,
           0.0005476707746192086,
           -0.0007917978279450744,
           0.0002704751986485132,
           -0.0004648464095003474,
           0.00015026934724827432,
           0.0008921655455501796,
           -0.0004964899361666811,
           -0.015102250562317355,
           -0.000184354756896164,
           -0.00914805580570707,
           -0.010474934207864467,
           -0.0003448981792977328,
           -0.0001809810808618531,
           -0.0007404578171378601,
           -0.00035403591030032486,
           -0.008110619805944958,
           -0.012325607360830484,
           1,
           -0.0024123589274465517,
           -0.00017534524912555865,
           -0.00008272906457955877,
           -0.0005458674835122949,
           0.0004072299554217111,
           0.0003205282073382176,
           -0.000734288315160702,
           -0.00003130768891026667,
           0.01928109503611976,
           0.000021269960910471807,
           -0.011701715505949065,
           -0.0006280776222324682
          ],
          [
           0.005691218248414199,
           0.004152753750475692,
           0.001912152873778566,
           0.003442508051342679,
           0.00658652147597274,
           -0.0017515822232696614,
           -0.018738916128946632,
           0.0013773571101028741,
           0.03210832695338093,
           0.002003783866973216,
           -0.002217913813208497,
           0.006838146263705504,
           -0.0013541736022392723,
           -0.0019620622472284206,
           -0.0036831221503854776,
           -0.008830747421530184,
           -0.0029427072370888183,
           0.15557650737953577,
           -0.003243442304043273,
           0.08796270178621815,
           0.09979175854272013,
           -0.0016364188668896245,
           -0.0022246077701883857,
           -0.0019026930175333385,
           -0.001292551611684051,
           0.08361486507410545,
           0.12337401793348064,
           -0.0024123589274465517,
           1,
           -0.0010134194819633221,
           0.002473579233801443,
           0.0012945330682339066,
           0.0006215650302314581,
           -0.00014590185232139135,
           0.0014550328701764443,
           -0.000009526800499324345,
           0.0011650010815674368,
           -0.002063541005236138,
           -0.0005802584419019478,
           0.009050655685752619
          ],
          [
           -0.0005896910038099651,
           -0.00006612408289221653,
           0.0005793351617540012,
           -0.0006033032219306261,
           0.00012492793146404608,
           -0.000526394505563246,
           0.0008300141770368778,
           -0.00033407543724967535,
           -0.0016230439853082979,
           0.00038080227847161926,
           -0.00011712336601508864,
           -0.000014233040093390526,
           -0.000021774573644436564,
           -0.00024276596103668026,
           0.0007802249442008995,
           0.00006594789688408043,
           0.000571317040055468,
           -0.006451809558582774,
           -0.00008022333018510678,
           -0.003490024747046591,
           -0.004324292424144876,
           0.00016840189147218103,
           -0.0007426795068316535,
           0.00004452080620367314,
           -0.0000028613305077293714,
           -0.0033541229140434947,
           -0.005140887846472982,
           -0.00017534524912555865,
           -0.0010134194819633221,
           1,
           -0.00027759130760884805,
           -0.0005179481298533113,
           -0.0001697439447397448,
           -0.0004673007314323219,
           0.000252088157741857,
           -0.00013175622453178657,
           -0.0004657005309066439,
           0.00013597257424569404,
           -0.0009860860267022111,
           0.00002822445290858061
          ],
          [
           0.0006609914883087626,
           0.0002726025873816028,
           0.00034155903622649355,
           0.00026493971970648793,
           -0.00003700845811525797,
           -0.0001606057883147525,
           -0.00025957111856062497,
           0.00039182813148347183,
           0.0020258864918770835,
           -0.0002747432891134165,
           0.00005465592820918079,
           0.0010590049566194342,
           -0.0007562318130101023,
           -0.0013743957050694237,
           -0.0002835505911950056,
           -0.0009313552102355254,
           0.00021573025833300543,
           0.008114086724490533,
           0.000038707608593496576,
           0.004998305113955575,
           0.005020195717065815,
           -0.00043805395330524246,
           0.00011054018061887418,
           -0.0004168880387929079,
           -0.00023356100914799247,
           0.003310915393717907,
           0.007290604937684206,
           -0.00008272906457955877,
           0.002473579233801443,
           -0.00027759130760884805,
           1,
           -0.0003386950413528272,
           -0.0004592271324099057,
           -0.0006025948141486346,
           0.0002363807505550418,
           -0.000056479676779398425,
           -0.00025640417852783716,
           -0.0009865804065952155,
           -0.00018726233652822038,
           0.0005088056760430567
          ],
          [
           0.0004589505596091964,
           0.00015651088106799225,
           -0.0009908424014302194,
           -0.0003447071889123749,
           0.00009338525996644234,
           0.0003831687042221693,
           -0.0008387791871151178,
           0.000616486822304812,
           0.001666399405263945,
           0.0008669710866534376,
           -0.0002740207782296543,
           0.00021140822179623088,
           -0.0003037303830203662,
           -0.0000533266316905547,
           -0.00036998549976271415,
           -0.00034449282303648966,
           0.00013786749547172863,
           0.0073787535052449674,
           -0.00036956338825937886,
           0.004333663746174845,
           0.004646934101390567,
           -0.000248830607783382,
           0.0001995222340831883,
           0.00028665766256280237,
           -0.0003964777756859475,
           0.004993746195624492,
           0.005939331709375616,
           -0.0005458674835122949,
           0.0012945330682339066,
           -0.0005179481298533113,
           -0.0003386950413528272,
           1,
           0.00007780104369078028,
           0.00017971003001558293,
           0.00029587019230105155,
           -0.000045979950444737814,
           -0.0005504617719736995,
           0.0002420400150573145,
           -0.00033512307475150923,
           0.0008358123802653639
          ],
          [
           -0.000004448775683841335,
           0.00031870573442756745,
           -0.00028367960396335465,
           0.00020721092290517485,
           0.00009905582736593967,
           -0.00008239609002777755,
           -0.0010957823957306496,
           -0.00046889063695447475,
           0.0008892969923027719,
           0.0005010568433293127,
           0.0005069575823381479,
           0.0004479762339083762,
           0.00015848268870510647,
           -0.0003477902026723779,
           0.00013046307482368283,
           -0.0009802610825401857,
           -0.0005026007719927816,
           0.005018091511052479,
           0.000746866426503265,
           0.0018595647476428966,
           0.003424022305016546,
           -0.0002217005619808182,
           -0.00013829386876519338,
           -0.0003751883787141196,
           0.00027121703763139624,
           0.0034069606553281907,
           0.0042248925740794065,
           0.0004072299554217111,
           0.0006215650302314581,
           -0.0001697439447397448,
           -0.0004592271324099057,
           0.00007780104369078028,
           1,
           0.0003900248948540485,
           -0.0005805096273200242,
           -0.0000406024346477866,
           -0.001319877032168794,
           -0.000031976329617741007,
           0.00040005873706347114,
           0.0002468406771755658
          ],
          [
           0.0008281170523977459,
           0.0009007278454821414,
           0.0004958308370282124,
           -0.000022443806615607757,
           0.0002000827021617414,
           -0.0003826396390940103,
           -0.0002707099498251686,
           0.00004252074046241371,
           0.0007705429559666653,
           -0.0009676569889758643,
           0.00009538058061283115,
           -0.0002797195195533531,
           0.0008039784249274086,
           -0.0003489186342102369,
           -0.00017481252332664595,
           0.00015112435480066724,
           0.0004477466800024977,
           0.003195621566251736,
           -0.00017437186643268869,
           0.0016960641866970794,
           0.003092864670868142,
           -0.00007451447388068789,
           -0.00021544722379604464,
           -0.00029098360626707206,
           0.0003368443688856676,
           0.0012542989239926687,
           0.002560284335730978,
           0.0003205282073382176,
           -0.00014590185232139135,
           -0.0004673007314323219,
           -0.0006025948141486346,
           0.00017971003001558293,
           0.0003900248948540485,
           1,
           0.0005320492695909372,
           -0.00003806636710530802,
           -0.001798696359828912,
           0.0008492689091466176,
           0.0008368151462527547,
           0.00042113420244887774
          ],
          [
           0.0008359620474934396,
           0.0001461553262425921,
           -0.00007115384187416606,
           0.0002592276474294633,
           0.0009936331831540022,
           -0.0009564055257193561,
           -0.0007969659637099052,
           0.00030024985823735173,
           0.0020547362044519204,
           -0.0007176336988438697,
           0.00006901075060329399,
           -0.0002817653569346443,
           0.0004775720303648833,
           -0.00041843434970525187,
           0.00019855609464841043,
           -0.0008063234975707078,
           0.00008497048143773393,
           0.006648434287870548,
           0.00023174784398263657,
           0.004615331368329532,
           0.005286570424004913,
           0.0002997689774683603,
           0.0006326466403210563,
           -0.000014886421640467893,
           -0.00048042173386315793,
           0.004329345692976893,
           0.005833762771173936,
           -0.000734288315160702,
           0.0014550328701764443,
           0.000252088157741857,
           0.0002363807505550418,
           0.00029587019230105155,
           -0.0005805096273200242,
           0.0005320492695909372,
           1,
           -0.000036556060146164166,
           -0.0023872474922985126,
           0.0000657278820268568,
           0.0012665468863049124,
           -0.00007269532776016786
          ],
          [
           -0.0004100950811295149,
           0.0005273063171255626,
           -0.0008428662460943092,
           -0.0003088343495834085,
           -0.0006292286819733305,
           0.00016207279232362718,
           0.0000872937128602688,
           0.000518995092227061,
           -0.0001458172185489453,
           0.0007489449395982617,
           -0.00011686287233130404,
           -0.00017684069025960218,
           -0.00012533326430881451,
           0.001241810448874588,
           0.00027835267170567637,
           0.000050608806294534225,
           -0.00019089891949676855,
           -0.00003773872431949511,
           -0.00023217312293215134,
           -0.000023454271599251752,
           -0.000025814913739359753,
           0.00003950197598670532,
           -0.0001687800080181188,
           0.00015506728974443954,
           0.000151147734223978,
           -0.000020004418670409112,
           -0.00003080157739078565,
           -0.00003130768891026667,
           -0.000009526800499324345,
           -0.00013175622453178657,
           -0.000056479676779398425,
           -0.000045979950444737814,
           -0.0000406024346477866,
           -0.00003806636710530802,
           -0.000036556060146164166,
           1,
           -0.000422733855738864,
           -0.0007032240530835634,
           -0.0005285360597133067,
           -0.0006568618051791537
          ],
          [
           -0.06470416311742162,
           -0.031784536779614674,
           0.06592509516236773,
           -0.10035586158058127,
           -0.005611561400759038,
           -0.0060840959118773335,
           -0.02625317808807337,
           -0.01169420902114941,
           0.008681097846968282,
           -0.01008644512595505,
           -0.0010014668260153283,
           -0.0010338857640535333,
           -0.005936290253994414,
           -0.005954423254902138,
           -0.022730326491195295,
           0.004923340895091589,
           -0.016608734650044223,
           -0.004764895399675244,
           0.001516415846699033,
           -0.0027065419020091534,
           -0.003455598597842569,
           -0.008874990036106875,
           -0.01233077478127327,
           -0.012334926259504712,
           -0.012315189592709178,
           -0.0028577452670275425,
           -0.003700568904140262,
           0.01928109503611976,
           0.0011650010815674368,
           -0.0004657005309066439,
           -0.00025640417852783716,
           -0.0005504617719736995,
           -0.001319877032168794,
           -0.001798696359828912,
           -0.0023872474922985126,
           -0.000422733855738864,
           1,
           -0.007820281252106574,
           -0.42767665328692883,
           0.007112940204881603
          ],
          [
           0.00002942194043494826,
           0.00018173848161147558,
           -0.001105746864432486,
           -0.00025290555410508803,
           -0.0002880593613398305,
           0.0002469251825472152,
           0.001989053561064016,
           -0.0005472293066603272,
           -0.002538507717211679,
           0.001313300827101632,
           0.00021097842487668086,
           -0.0011477545701860405,
           0.00010190796196574652,
           0.00021832117269811365,
           -0.00000948830814319355,
           0.0010342204100376986,
           0.00044114238110707244,
           -0.012398465366855665,
           0.0001379238288910957,
           -0.007317855001562273,
           -0.00824033927111979,
           0.00005186228104388863,
           -0.00010363290659663091,
           0.000695097638892943,
           0.0008384397034193815,
           -0.006627643404136559,
           -0.00979958415515118,
           0.000021269960910471807,
           -0.002063541005236138,
           0.00013597257424569404,
           -0.0009865804065952155,
           0.0002420400150573145,
           -0.000031976329617741007,
           0.0008492689091466176,
           0.0000657278820268568,
           -0.0007032240530835634,
           -0.007820281252106574,
           1,
           0.005354854798955737,
           -0.0014063302507589634
          ],
          [
           0.03793346512400564,
           0.017962752164548127,
           -0.037308063454552294,
           0.057054006410874845,
           0.004027031844380585,
           0.003931549370785199,
           0.014615128813043563,
           0.006108019081223689,
           -0.005290088425834896,
           0.00491105418810259,
           0.0009888108055584543,
           0.000280370799993331,
           0.0034240242318167332,
           0.0037970936233536127,
           0.013005833527068307,
           -0.003500652561215402,
           0.009188138502443153,
           0.0029388311554889046,
           -0.0007422924794019076,
           0.0018729184980866708,
           0.0019329903358823043,
           0.004500059497053264,
           0.006023980150380585,
           0.006176668873342472,
           0.006378754464716585,
           0.0016867308699134204,
           0.0023716955392846656,
           -0.011701715505949065,
           -0.0005802584419019478,
           -0.0009860860267022111,
           -0.00018726233652822038,
           -0.00033512307475150923,
           0.00040005873706347114,
           0.0008368151462527547,
           0.0012665468863049124,
           -0.0005285360597133067,
           -0.42767665328692883,
           0.005354854798955737,
           1,
           -0.0036067135351918462
          ],
          [
           0.001311721180444221,
           0.0005748367060333051,
           0.0011649988716554368,
           0.0004208567850527741,
           0.002184778501691243,
           -0.0006611747994578485,
           -0.008398839786511694,
           -0.00023557445463702803,
           0.013007196574687166,
           -0.0009785133008778529,
           -0.0012729035822425729,
           0.0031892433817154245,
           -0.0010441773459857941,
           -0.0007450274003852235,
           -0.0020109221667996297,
           -0.0029346941888487273,
           -0.001964512370845111,
           0.05757032156102715,
           -0.0009711481652728494,
           0.03498837913862712,
           0.03901742084148534,
           -0.0011841495528200968,
           -0.00025990828192526665,
           -0.0004614705754209333,
           -0.0017648195612744119,
           0.030807104418222576,
           0.04694738209268608,
           -0.0006280776222324682,
           0.009050655685752619,
           0.00002822445290858061,
           0.0005088056760430567,
           0.0008358123802653639,
           0.0002468406771755658,
           0.00042113420244887774,
           -0.00007269532776016786,
           -0.0006568618051791537,
           0.007112940204881603,
           -0.0014063302507589634,
           -0.0036067135351918462,
           1
          ]
         ]
        }
       ],
       "layout": {
        "coloraxis": {
         "colorscale": [
          [
           0,
           "#0d0887"
          ],
          [
           0.1111111111111111,
           "#46039f"
          ],
          [
           0.2222222222222222,
           "#7201a8"
          ],
          [
           0.3333333333333333,
           "#9c179e"
          ],
          [
           0.4444444444444444,
           "#bd3786"
          ],
          [
           0.5555555555555556,
           "#d8576b"
          ],
          [
           0.6666666666666666,
           "#ed7953"
          ],
          [
           0.7777777777777778,
           "#fb9f3a"
          ],
          [
           0.8888888888888888,
           "#fdca26"
          ],
          [
           1,
           "#f0f921"
          ]
         ]
        },
        "margin": {
         "t": 60
        },
        "template": {
         "data": {
          "bar": [
           {
            "error_x": {
             "color": "#2a3f5f"
            },
            "error_y": {
             "color": "#2a3f5f"
            },
            "marker": {
             "line": {
              "color": "#E5ECF6",
              "width": 0.5
             },
             "pattern": {
              "fillmode": "overlay",
              "size": 10,
              "solidity": 0.2
             }
            },
            "type": "bar"
           }
          ],
          "barpolar": [
           {
            "marker": {
             "line": {
              "color": "#E5ECF6",
              "width": 0.5
             },
             "pattern": {
              "fillmode": "overlay",
              "size": 10,
              "solidity": 0.2
             }
            },
            "type": "barpolar"
           }
          ],
          "carpet": [
           {
            "aaxis": {
             "endlinecolor": "#2a3f5f",
             "gridcolor": "white",
             "linecolor": "white",
             "minorgridcolor": "white",
             "startlinecolor": "#2a3f5f"
            },
            "baxis": {
             "endlinecolor": "#2a3f5f",
             "gridcolor": "white",
             "linecolor": "white",
             "minorgridcolor": "white",
             "startlinecolor": "#2a3f5f"
            },
            "type": "carpet"
           }
          ],
          "choropleth": [
           {
            "colorbar": {
             "outlinewidth": 0,
             "ticks": ""
            },
            "type": "choropleth"
           }
          ],
          "contour": [
           {
            "colorbar": {
             "outlinewidth": 0,
             "ticks": ""
            },
            "colorscale": [
             [
              0,
              "#0d0887"
             ],
             [
              0.1111111111111111,
              "#46039f"
             ],
             [
              0.2222222222222222,
              "#7201a8"
             ],
             [
              0.3333333333333333,
              "#9c179e"
             ],
             [
              0.4444444444444444,
              "#bd3786"
             ],
             [
              0.5555555555555556,
              "#d8576b"
             ],
             [
              0.6666666666666666,
              "#ed7953"
             ],
             [
              0.7777777777777778,
              "#fb9f3a"
             ],
             [
              0.8888888888888888,
              "#fdca26"
             ],
             [
              1,
              "#f0f921"
             ]
            ],
            "type": "contour"
           }
          ],
          "contourcarpet": [
           {
            "colorbar": {
             "outlinewidth": 0,
             "ticks": ""
            },
            "type": "contourcarpet"
           }
          ],
          "heatmap": [
           {
            "colorbar": {
             "outlinewidth": 0,
             "ticks": ""
            },
            "colorscale": [
             [
              0,
              "#0d0887"
             ],
             [
              0.1111111111111111,
              "#46039f"
             ],
             [
              0.2222222222222222,
              "#7201a8"
             ],
             [
              0.3333333333333333,
              "#9c179e"
             ],
             [
              0.4444444444444444,
              "#bd3786"
             ],
             [
              0.5555555555555556,
              "#d8576b"
             ],
             [
              0.6666666666666666,
              "#ed7953"
             ],
             [
              0.7777777777777778,
              "#fb9f3a"
             ],
             [
              0.8888888888888888,
              "#fdca26"
             ],
             [
              1,
              "#f0f921"
             ]
            ],
            "type": "heatmap"
           }
          ],
          "heatmapgl": [
           {
            "colorbar": {
             "outlinewidth": 0,
             "ticks": ""
            },
            "colorscale": [
             [
              0,
              "#0d0887"
             ],
             [
              0.1111111111111111,
              "#46039f"
             ],
             [
              0.2222222222222222,
              "#7201a8"
             ],
             [
              0.3333333333333333,
              "#9c179e"
             ],
             [
              0.4444444444444444,
              "#bd3786"
             ],
             [
              0.5555555555555556,
              "#d8576b"
             ],
             [
              0.6666666666666666,
              "#ed7953"
             ],
             [
              0.7777777777777778,
              "#fb9f3a"
             ],
             [
              0.8888888888888888,
              "#fdca26"
             ],
             [
              1,
              "#f0f921"
             ]
            ],
            "type": "heatmapgl"
           }
          ],
          "histogram": [
           {
            "marker": {
             "pattern": {
              "fillmode": "overlay",
              "size": 10,
              "solidity": 0.2
             }
            },
            "type": "histogram"
           }
          ],
          "histogram2d": [
           {
            "colorbar": {
             "outlinewidth": 0,
             "ticks": ""
            },
            "colorscale": [
             [
              0,
              "#0d0887"
             ],
             [
              0.1111111111111111,
              "#46039f"
             ],
             [
              0.2222222222222222,
              "#7201a8"
             ],
             [
              0.3333333333333333,
              "#9c179e"
             ],
             [
              0.4444444444444444,
              "#bd3786"
             ],
             [
              0.5555555555555556,
              "#d8576b"
             ],
             [
              0.6666666666666666,
              "#ed7953"
             ],
             [
              0.7777777777777778,
              "#fb9f3a"
             ],
             [
              0.8888888888888888,
              "#fdca26"
             ],
             [
              1,
              "#f0f921"
             ]
            ],
            "type": "histogram2d"
           }
          ],
          "histogram2dcontour": [
           {
            "colorbar": {
             "outlinewidth": 0,
             "ticks": ""
            },
            "colorscale": [
             [
              0,
              "#0d0887"
             ],
             [
              0.1111111111111111,
              "#46039f"
             ],
             [
              0.2222222222222222,
              "#7201a8"
             ],
             [
              0.3333333333333333,
              "#9c179e"
             ],
             [
              0.4444444444444444,
              "#bd3786"
             ],
             [
              0.5555555555555556,
              "#d8576b"
             ],
             [
              0.6666666666666666,
              "#ed7953"
             ],
             [
              0.7777777777777778,
              "#fb9f3a"
             ],
             [
              0.8888888888888888,
              "#fdca26"
             ],
             [
              1,
              "#f0f921"
             ]
            ],
            "type": "histogram2dcontour"
           }
          ],
          "mesh3d": [
           {
            "colorbar": {
             "outlinewidth": 0,
             "ticks": ""
            },
            "type": "mesh3d"
           }
          ],
          "parcoords": [
           {
            "line": {
             "colorbar": {
              "outlinewidth": 0,
              "ticks": ""
             }
            },
            "type": "parcoords"
           }
          ],
          "pie": [
           {
            "automargin": true,
            "type": "pie"
           }
          ],
          "scatter": [
           {
            "fillpattern": {
             "fillmode": "overlay",
             "size": 10,
             "solidity": 0.2
            },
            "type": "scatter"
           }
          ],
          "scatter3d": [
           {
            "line": {
             "colorbar": {
              "outlinewidth": 0,
              "ticks": ""
             }
            },
            "marker": {
             "colorbar": {
              "outlinewidth": 0,
              "ticks": ""
             }
            },
            "type": "scatter3d"
           }
          ],
          "scattercarpet": [
           {
            "marker": {
             "colorbar": {
              "outlinewidth": 0,
              "ticks": ""
             }
            },
            "type": "scattercarpet"
           }
          ],
          "scattergeo": [
           {
            "marker": {
             "colorbar": {
              "outlinewidth": 0,
              "ticks": ""
             }
            },
            "type": "scattergeo"
           }
          ],
          "scattergl": [
           {
            "marker": {
             "colorbar": {
              "outlinewidth": 0,
              "ticks": ""
             }
            },
            "type": "scattergl"
           }
          ],
          "scattermapbox": [
           {
            "marker": {
             "colorbar": {
              "outlinewidth": 0,
              "ticks": ""
             }
            },
            "type": "scattermapbox"
           }
          ],
          "scatterpolar": [
           {
            "marker": {
             "colorbar": {
              "outlinewidth": 0,
              "ticks": ""
             }
            },
            "type": "scatterpolar"
           }
          ],
          "scatterpolargl": [
           {
            "marker": {
             "colorbar": {
              "outlinewidth": 0,
              "ticks": ""
             }
            },
            "type": "scatterpolargl"
           }
          ],
          "scatterternary": [
           {
            "marker": {
             "colorbar": {
              "outlinewidth": 0,
              "ticks": ""
             }
            },
            "type": "scatterternary"
           }
          ],
          "surface": [
           {
            "colorbar": {
             "outlinewidth": 0,
             "ticks": ""
            },
            "colorscale": [
             [
              0,
              "#0d0887"
             ],
             [
              0.1111111111111111,
              "#46039f"
             ],
             [
              0.2222222222222222,
              "#7201a8"
             ],
             [
              0.3333333333333333,
              "#9c179e"
             ],
             [
              0.4444444444444444,
              "#bd3786"
             ],
             [
              0.5555555555555556,
              "#d8576b"
             ],
             [
              0.6666666666666666,
              "#ed7953"
             ],
             [
              0.7777777777777778,
              "#fb9f3a"
             ],
             [
              0.8888888888888888,
              "#fdca26"
             ],
             [
              1,
              "#f0f921"
             ]
            ],
            "type": "surface"
           }
          ],
          "table": [
           {
            "cells": {
             "fill": {
              "color": "#EBF0F8"
             },
             "line": {
              "color": "white"
             }
            },
            "header": {
             "fill": {
              "color": "#C8D4E3"
             },
             "line": {
              "color": "white"
             }
            },
            "type": "table"
           }
          ]
         },
         "layout": {
          "annotationdefaults": {
           "arrowcolor": "#2a3f5f",
           "arrowhead": 0,
           "arrowwidth": 1
          },
          "autotypenumbers": "strict",
          "coloraxis": {
           "colorbar": {
            "outlinewidth": 0,
            "ticks": ""
           }
          },
          "colorscale": {
           "diverging": [
            [
             0,
             "#8e0152"
            ],
            [
             0.1,
             "#c51b7d"
            ],
            [
             0.2,
             "#de77ae"
            ],
            [
             0.3,
             "#f1b6da"
            ],
            [
             0.4,
             "#fde0ef"
            ],
            [
             0.5,
             "#f7f7f7"
            ],
            [
             0.6,
             "#e6f5d0"
            ],
            [
             0.7,
             "#b8e186"
            ],
            [
             0.8,
             "#7fbc41"
            ],
            [
             0.9,
             "#4d9221"
            ],
            [
             1,
             "#276419"
            ]
           ],
           "sequential": [
            [
             0,
             "#0d0887"
            ],
            [
             0.1111111111111111,
             "#46039f"
            ],
            [
             0.2222222222222222,
             "#7201a8"
            ],
            [
             0.3333333333333333,
             "#9c179e"
            ],
            [
             0.4444444444444444,
             "#bd3786"
            ],
            [
             0.5555555555555556,
             "#d8576b"
            ],
            [
             0.6666666666666666,
             "#ed7953"
            ],
            [
             0.7777777777777778,
             "#fb9f3a"
            ],
            [
             0.8888888888888888,
             "#fdca26"
            ],
            [
             1,
             "#f0f921"
            ]
           ],
           "sequentialminus": [
            [
             0,
             "#0d0887"
            ],
            [
             0.1111111111111111,
             "#46039f"
            ],
            [
             0.2222222222222222,
             "#7201a8"
            ],
            [
             0.3333333333333333,
             "#9c179e"
            ],
            [
             0.4444444444444444,
             "#bd3786"
            ],
            [
             0.5555555555555556,
             "#d8576b"
            ],
            [
             0.6666666666666666,
             "#ed7953"
            ],
            [
             0.7777777777777778,
             "#fb9f3a"
            ],
            [
             0.8888888888888888,
             "#fdca26"
            ],
            [
             1,
             "#f0f921"
            ]
           ]
          },
          "colorway": [
           "#636efa",
           "#EF553B",
           "#00cc96",
           "#ab63fa",
           "#FFA15A",
           "#19d3f3",
           "#FF6692",
           "#B6E880",
           "#FF97FF",
           "#FECB52"
          ],
          "font": {
           "color": "#2a3f5f"
          },
          "geo": {
           "bgcolor": "white",
           "lakecolor": "white",
           "landcolor": "#E5ECF6",
           "showlakes": true,
           "showland": true,
           "subunitcolor": "white"
          },
          "hoverlabel": {
           "align": "left"
          },
          "hovermode": "closest",
          "mapbox": {
           "style": "light"
          },
          "paper_bgcolor": "white",
          "plot_bgcolor": "#E5ECF6",
          "polar": {
           "angularaxis": {
            "gridcolor": "white",
            "linecolor": "white",
            "ticks": ""
           },
           "bgcolor": "#E5ECF6",
           "radialaxis": {
            "gridcolor": "white",
            "linecolor": "white",
            "ticks": ""
           }
          },
          "scene": {
           "xaxis": {
            "backgroundcolor": "#E5ECF6",
            "gridcolor": "white",
            "gridwidth": 2,
            "linecolor": "white",
            "showbackground": true,
            "ticks": "",
            "zerolinecolor": "white"
           },
           "yaxis": {
            "backgroundcolor": "#E5ECF6",
            "gridcolor": "white",
            "gridwidth": 2,
            "linecolor": "white",
            "showbackground": true,
            "ticks": "",
            "zerolinecolor": "white"
           },
           "zaxis": {
            "backgroundcolor": "#E5ECF6",
            "gridcolor": "white",
            "gridwidth": 2,
            "linecolor": "white",
            "showbackground": true,
            "ticks": "",
            "zerolinecolor": "white"
           }
          },
          "shapedefaults": {
           "line": {
            "color": "#2a3f5f"
           }
          },
          "ternary": {
           "aaxis": {
            "gridcolor": "white",
            "linecolor": "white",
            "ticks": ""
           },
           "baxis": {
            "gridcolor": "white",
            "linecolor": "white",
            "ticks": ""
           },
           "bgcolor": "#E5ECF6",
           "caxis": {
            "gridcolor": "white",
            "linecolor": "white",
            "ticks": ""
           }
          },
          "title": {
           "x": 0.05
          },
          "xaxis": {
           "automargin": true,
           "gridcolor": "white",
           "linecolor": "white",
           "ticks": "",
           "title": {
            "standoff": 15
           },
           "zerolinecolor": "white",
           "zerolinewidth": 2
          },
          "yaxis": {
           "automargin": true,
           "gridcolor": "white",
           "linecolor": "white",
           "ticks": "",
           "title": {
            "standoff": 15
           },
           "zerolinecolor": "white",
           "zerolinewidth": 2
          }
         }
        },
        "xaxis": {
         "anchor": "y",
         "constrain": "domain",
         "domain": [
          0,
          1
         ],
         "scaleanchor": "y"
        },
        "yaxis": {
         "anchor": "x",
         "autorange": "reversed",
         "constrain": "domain",
         "domain": [
          0,
          1
         ]
        }
       }
      }
     },
     "metadata": {},
     "output_type": "display_data"
    },
    {
     "data": {
      "text/plain": [
       "financial_active               0.037885\n",
       "promotion_flag                 0.022438\n",
       "account_status_code            0.008031\n",
       "active_12_mths                 0.021350\n",
       "bank_fico_buckets_20           0.042081\n",
       "mob                           -0.012223\n",
       "open_closed_flag              -0.130344\n",
       "ever_delinquent_flg            0.009611\n",
       "nbr_mths_due                   0.211817\n",
       "variable_rate_margin           0.010950\n",
       "stmt_balance                  -0.019706\n",
       "prev_balance                   0.046843\n",
       "net_sales                     -0.008877\n",
       "net_payments                  -0.011095\n",
       "purchase_active               -0.024452\n",
       "credit_limit_amt              -0.056492\n",
       "credit_limit_pa               -0.017816\n",
       "charge_off                     1.000000\n",
       "principal_amt                 -0.018662\n",
       "principal_amt_chrg_off         0.606442\n",
       "fee_chg_off_reversal_amt       0.683925\n",
       "net_finance_charge            -0.008743\n",
       "non_principal_amount_gross    -0.011016\n",
       "non_principal_amount_net      -0.011177\n",
       "non_principal_amount_stmt     -0.010967\n",
       "fc_reversals                   0.529949\n",
       "fee_reversals                  0.816122\n",
       "promo_bal_amt                 -0.015102\n",
       "recovery_amt                   0.155577\n",
       "due_account_2                 -0.006452\n",
       "due_account_3                  0.008114\n",
       "due_account_4                  0.007379\n",
       "due_account_5                  0.005018\n",
       "due_account_6                  0.003196\n",
       "due_account_7                  0.006648\n",
       "due_account_8                 -0.000038\n",
       "snapshot                      -0.004765\n",
       "industry                      -0.012398\n",
       "time                           0.002939\n",
       "net_payment_behaviour_tripd    0.057570\n",
       "Name: charge_off, dtype: float64"
      ]
     },
     "execution_count": 171,
     "metadata": {},
     "output_type": "execute_result"
    }
   ],
   "source": [
    "training_correlation = training.corr()\n",
    "fig = px.imshow(training_correlation, text_auto=True)\n",
    "fig.show()\n",
    "pd.options.display.max_rows = 4000\n",
    "training_correlation[\"charge_off\"]"
   ]
  },
  {
   "cell_type": "code",
   "execution_count": 172,
   "metadata": {},
   "outputs": [
    {
     "data": {
      "text/plain": [
       "Index(['financial_active', 'promotion_flag', 'account_status_code',\n",
       "       'active_12_mths', 'bank_fico_buckets_20', 'mob', 'open_closed_flag',\n",
       "       'ever_delinquent_flg', 'nbr_mths_due', 'variable_rate_margin',\n",
       "       'stmt_balance', 'prev_balance', 'net_sales', 'net_payments',\n",
       "       'purchase_active', 'credit_limit_amt', 'credit_limit_pa', 'charge_off',\n",
       "       'principal_amt', 'principal_amt_chrg_off', 'fee_chg_off_reversal_amt',\n",
       "       'net_finance_charge', 'non_principal_amount_gross',\n",
       "       'non_principal_amount_net', 'non_principal_amount_stmt', 'fc_reversals',\n",
       "       'fee_reversals', 'promo_bal_amt', 'recovery_amt', 'due_account_2',\n",
       "       'due_account_3', 'due_account_4', 'due_account_5', 'due_account_6',\n",
       "       'due_account_7', 'due_account_8', 'snapshot', 'industry', 'time',\n",
       "       'net_payment_behaviour_tripd'],\n",
       "      dtype='object')"
      ]
     },
     "execution_count": 172,
     "metadata": {},
     "output_type": "execute_result"
    }
   ],
   "source": [
    "training_correlation[\"charge_off\"].index"
   ]
  },
  {
   "cell_type": "code",
   "execution_count": 173,
   "metadata": {},
   "outputs": [
    {
     "name": "stdout",
     "output_type": "stream",
     "text": [
      "['account_status_code' 'ever_delinquent_flg' 'net_sales'\n",
      " 'net_finance_charge' 'due_account_2' 'due_account_3' 'due_account_4'\n",
      " 'due_account_5' 'due_account_6' 'due_account_7' 'due_account_8'\n",
      " 'snapshot' 'time']\n"
     ]
    }
   ],
   "source": [
    "index_names = list(training_correlation[\"charge_off\"].index)\n",
    "remove = np.empty(0)    \n",
    "for i in range(training_correlation.shape[0]):\n",
    "    if(abs(training_correlation[\"charge_off\"][i]) < 0.01):\n",
    "        remove = np.append(remove, index_names[i])\n",
    "print(remove)\n"
   ]
  },
  {
   "cell_type": "code",
   "execution_count": 174,
   "metadata": {},
   "outputs": [
    {
     "name": "stdout",
     "output_type": "stream",
     "text": [
      "['account_status_code' 'ever_delinquent_flg' 'net_sales'\n",
      " 'net_finance_charge' 'due_account_2' 'due_account_3' 'due_account_4'\n",
      " 'due_account_5' 'due_account_6' 'due_account_7' 'due_account_8']\n"
     ]
    }
   ],
   "source": [
    "remove = remove[0:11]\n",
    "print(remove)"
   ]
  },
  {
   "cell_type": "code",
   "execution_count": 175,
   "metadata": {},
   "outputs": [
    {
     "data": {
      "text/plain": [
       "11"
      ]
     },
     "execution_count": 175,
     "metadata": {},
     "output_type": "execute_result"
    }
   ],
   "source": [
    "remove.size"
   ]
  },
  {
   "cell_type": "code",
   "execution_count": 176,
   "metadata": {},
   "outputs": [
    {
     "data": {
      "text/html": [
       "<div>\n",
       "<style scoped>\n",
       "    .dataframe tbody tr th:only-of-type {\n",
       "        vertical-align: middle;\n",
       "    }\n",
       "\n",
       "    .dataframe tbody tr th {\n",
       "        vertical-align: top;\n",
       "    }\n",
       "\n",
       "    .dataframe thead th {\n",
       "        text-align: right;\n",
       "    }\n",
       "</style>\n",
       "<table border=\"1\" class=\"dataframe\">\n",
       "  <thead>\n",
       "    <tr style=\"text-align: right;\">\n",
       "      <th></th>\n",
       "      <th>financial_active</th>\n",
       "      <th>promotion_flag</th>\n",
       "      <th>active_12_mths</th>\n",
       "      <th>bank_fico_buckets_20</th>\n",
       "      <th>mob</th>\n",
       "      <th>open_closed_flag</th>\n",
       "      <th>nbr_mths_due</th>\n",
       "      <th>variable_rate_margin</th>\n",
       "      <th>stmt_balance</th>\n",
       "      <th>prev_balance</th>\n",
       "      <th>...</th>\n",
       "      <th>non_principal_amount_net</th>\n",
       "      <th>non_principal_amount_stmt</th>\n",
       "      <th>fc_reversals</th>\n",
       "      <th>fee_reversals</th>\n",
       "      <th>promo_bal_amt</th>\n",
       "      <th>recovery_amt</th>\n",
       "      <th>snapshot</th>\n",
       "      <th>industry</th>\n",
       "      <th>time</th>\n",
       "      <th>net_payment_behaviour_tripd</th>\n",
       "    </tr>\n",
       "  </thead>\n",
       "  <tbody>\n",
       "    <tr>\n",
       "      <th>0</th>\n",
       "      <td>1.0</td>\n",
       "      <td>0</td>\n",
       "      <td>1.0</td>\n",
       "      <td>1</td>\n",
       "      <td>3</td>\n",
       "      <td>1.0</td>\n",
       "      <td>0.0</td>\n",
       "      <td>NaN</td>\n",
       "      <td>34.77</td>\n",
       "      <td>1918.32</td>\n",
       "      <td>...</td>\n",
       "      <td>0.0</td>\n",
       "      <td>0.0</td>\n",
       "      <td>0.0</td>\n",
       "      <td>0.0</td>\n",
       "      <td>0.00</td>\n",
       "      <td>0.0</td>\n",
       "      <td>201801</td>\n",
       "      <td>2</td>\n",
       "      <td>6</td>\n",
       "      <td>4</td>\n",
       "    </tr>\n",
       "    <tr>\n",
       "      <th>1</th>\n",
       "      <td>0.0</td>\n",
       "      <td>0</td>\n",
       "      <td>1.0</td>\n",
       "      <td>2</td>\n",
       "      <td>159</td>\n",
       "      <td>1.0</td>\n",
       "      <td>0.0</td>\n",
       "      <td>19.65</td>\n",
       "      <td>0.00</td>\n",
       "      <td>0.00</td>\n",
       "      <td>...</td>\n",
       "      <td>0.0</td>\n",
       "      <td>0.0</td>\n",
       "      <td>0.0</td>\n",
       "      <td>0.0</td>\n",
       "      <td>1557.24</td>\n",
       "      <td>0.0</td>\n",
       "      <td>201801</td>\n",
       "      <td>3</td>\n",
       "      <td>17</td>\n",
       "      <td>4</td>\n",
       "    </tr>\n",
       "    <tr>\n",
       "      <th>2</th>\n",
       "      <td>1.0</td>\n",
       "      <td>0</td>\n",
       "      <td>1.0</td>\n",
       "      <td>3</td>\n",
       "      <td>22</td>\n",
       "      <td>1.0</td>\n",
       "      <td>0.0</td>\n",
       "      <td>19.65</td>\n",
       "      <td>0.00</td>\n",
       "      <td>0.00</td>\n",
       "      <td>...</td>\n",
       "      <td>0.0</td>\n",
       "      <td>0.0</td>\n",
       "      <td>0.0</td>\n",
       "      <td>0.0</td>\n",
       "      <td>0.00</td>\n",
       "      <td>0.0</td>\n",
       "      <td>201801</td>\n",
       "      <td>1</td>\n",
       "      <td>16</td>\n",
       "      <td>1</td>\n",
       "    </tr>\n",
       "    <tr>\n",
       "      <th>3</th>\n",
       "      <td>1.0</td>\n",
       "      <td>0</td>\n",
       "      <td>1.0</td>\n",
       "      <td>3</td>\n",
       "      <td>16</td>\n",
       "      <td>1.0</td>\n",
       "      <td>0.0</td>\n",
       "      <td>NaN</td>\n",
       "      <td>0.00</td>\n",
       "      <td>0.00</td>\n",
       "      <td>...</td>\n",
       "      <td>0.0</td>\n",
       "      <td>40.0</td>\n",
       "      <td>0.0</td>\n",
       "      <td>0.0</td>\n",
       "      <td>0.00</td>\n",
       "      <td>0.0</td>\n",
       "      <td>201801</td>\n",
       "      <td>2</td>\n",
       "      <td>5</td>\n",
       "      <td>1</td>\n",
       "    </tr>\n",
       "    <tr>\n",
       "      <th>4</th>\n",
       "      <td>1.0</td>\n",
       "      <td>0</td>\n",
       "      <td>0.0</td>\n",
       "      <td>2</td>\n",
       "      <td>3</td>\n",
       "      <td>1.0</td>\n",
       "      <td>2.0</td>\n",
       "      <td>11.65</td>\n",
       "      <td>0.00</td>\n",
       "      <td>0.00</td>\n",
       "      <td>...</td>\n",
       "      <td>31.0</td>\n",
       "      <td>0.0</td>\n",
       "      <td>0.0</td>\n",
       "      <td>0.0</td>\n",
       "      <td>960.00</td>\n",
       "      <td>0.0</td>\n",
       "      <td>201801</td>\n",
       "      <td>2</td>\n",
       "      <td>13</td>\n",
       "      <td>4</td>\n",
       "    </tr>\n",
       "  </tbody>\n",
       "</table>\n",
       "<p>5 rows × 29 columns</p>\n",
       "</div>"
      ],
      "text/plain": [
       "   financial_active  promotion_flag  active_12_mths  bank_fico_buckets_20  \\\n",
       "0               1.0               0             1.0                     1   \n",
       "1               0.0               0             1.0                     2   \n",
       "2               1.0               0             1.0                     3   \n",
       "3               1.0               0             1.0                     3   \n",
       "4               1.0               0             0.0                     2   \n",
       "\n",
       "   mob  open_closed_flag  nbr_mths_due  variable_rate_margin  stmt_balance  \\\n",
       "0    3               1.0           0.0                   NaN         34.77   \n",
       "1  159               1.0           0.0                 19.65          0.00   \n",
       "2   22               1.0           0.0                 19.65          0.00   \n",
       "3   16               1.0           0.0                   NaN          0.00   \n",
       "4    3               1.0           2.0                 11.65          0.00   \n",
       "\n",
       "   prev_balance  ...  non_principal_amount_net  non_principal_amount_stmt  \\\n",
       "0       1918.32  ...                       0.0                        0.0   \n",
       "1          0.00  ...                       0.0                        0.0   \n",
       "2          0.00  ...                       0.0                        0.0   \n",
       "3          0.00  ...                       0.0                       40.0   \n",
       "4          0.00  ...                      31.0                        0.0   \n",
       "\n",
       "   fc_reversals  fee_reversals  promo_bal_amt  recovery_amt  snapshot  \\\n",
       "0           0.0            0.0           0.00           0.0    201801   \n",
       "1           0.0            0.0        1557.24           0.0    201801   \n",
       "2           0.0            0.0           0.00           0.0    201801   \n",
       "3           0.0            0.0           0.00           0.0    201801   \n",
       "4           0.0            0.0         960.00           0.0    201801   \n",
       "\n",
       "   industry  time  net_payment_behaviour_tripd  \n",
       "0         2     6                            4  \n",
       "1         3    17                            4  \n",
       "2         1    16                            1  \n",
       "3         2     5                            1  \n",
       "4         2    13                            4  \n",
       "\n",
       "[5 rows x 29 columns]"
      ]
     },
     "execution_count": 176,
     "metadata": {},
     "output_type": "execute_result"
    }
   ],
   "source": [
    "for i in range(remove.size):\n",
    "    training.drop(remove[i], axis = 1, inplace = True)\n",
    "training.head()"
   ]
  },
  {
   "cell_type": "code",
   "execution_count": 177,
   "metadata": {},
   "outputs": [
    {
     "data": {
      "text/plain": [
       "Index(['financial_active', 'promotion_flag', 'active_12_mths',\n",
       "       'bank_fico_buckets_20', 'mob', 'open_closed_flag', 'nbr_mths_due',\n",
       "       'variable_rate_margin', 'stmt_balance', 'prev_balance', 'net_payments',\n",
       "       'purchase_active', 'credit_limit_amt', 'credit_limit_pa', 'charge_off',\n",
       "       'principal_amt', 'principal_amt_chrg_off', 'fee_chg_off_reversal_amt',\n",
       "       'non_principal_amount_gross', 'non_principal_amount_net',\n",
       "       'non_principal_amount_stmt', 'fc_reversals', 'fee_reversals',\n",
       "       'promo_bal_amt', 'recovery_amt', 'snapshot', 'industry', 'time',\n",
       "       'net_payment_behaviour_tripd'],\n",
       "      dtype='object')"
      ]
     },
     "execution_count": 177,
     "metadata": {},
     "output_type": "execute_result"
    }
   ],
   "source": [
    "training.columns"
   ]
  },
  {
   "cell_type": "code",
   "execution_count": 178,
   "metadata": {},
   "outputs": [
    {
     "name": "stdout",
     "output_type": "stream",
     "text": [
      "(5758223, 29)\n",
      "Number of rows with NaNs: 4208656\n"
     ]
    }
   ],
   "source": [
    "print(training.shape)\n",
    "nans_per_row = training.isna().sum(axis=1)\n",
    "\n",
    "# Count the number of rows with NaNs\n",
    "num_rows_with_nans = (nans_per_row > 0).sum()\n",
    "\n",
    "print(\"Number of rows with NaNs:\", num_rows_with_nans)"
   ]
  },
  {
   "cell_type": "code",
   "execution_count": 179,
   "metadata": {},
   "outputs": [],
   "source": [
    "training.drop(\"variable_rate_margin\", axis = 1, inplace = True)"
   ]
  },
  {
   "cell_type": "code",
   "execution_count": 180,
   "metadata": {},
   "outputs": [
    {
     "name": "stdout",
     "output_type": "stream",
     "text": [
      "(5758223, 28)\n",
      "Number of rows with NaNs: 4\n"
     ]
    }
   ],
   "source": [
    "print(training.shape)\n",
    "nans_per_row = training.isna().sum(axis=1)\n",
    "\n",
    "# Count the number of rows with NaNs\n",
    "num_rows_with_nans = (nans_per_row > 0).sum()\n",
    "\n",
    "print(\"Number of rows with NaNs:\", num_rows_with_nans)"
   ]
  },
  {
   "cell_type": "code",
   "execution_count": 181,
   "metadata": {},
   "outputs": [
    {
     "name": "stdout",
     "output_type": "stream",
     "text": [
      "Number of columns with NaNs: 1\n",
      "['open_closed_flag']\n"
     ]
    }
   ],
   "source": [
    "nans_per_col = training.isna().sum()\n",
    "\n",
    "# Count the number of columns with NaNs\n",
    "num_cols_with_nans = (nans_per_col > 0).sum()\n",
    "\n",
    "print(\"Number of columns with NaNs:\", num_cols_with_nans)\n",
    "nan_cols = training.columns[training.isna().any()].tolist()\n",
    "print(nan_cols)"
   ]
  },
  {
   "cell_type": "code",
   "execution_count": 182,
   "metadata": {},
   "outputs": [],
   "source": [
    "training.drop(\"open_closed_flag\", axis = 1, inplace = True)"
   ]
  },
  {
   "cell_type": "code",
   "execution_count": 186,
   "metadata": {},
   "outputs": [
    {
     "data": {
      "text/plain": [
       "Index(['financial_active', 'promotion_flag', 'active_12_mths',\n",
       "       'bank_fico_buckets_20', 'mob', 'nbr_mths_due', 'stmt_balance',\n",
       "       'prev_balance', 'net_payments', 'purchase_active', 'credit_limit_amt',\n",
       "       'credit_limit_pa', 'charge_off', 'principal_amt',\n",
       "       'principal_amt_chrg_off', 'fee_chg_off_reversal_amt',\n",
       "       'non_principal_amount_gross', 'non_principal_amount_net',\n",
       "       'non_principal_amount_stmt', 'fc_reversals', 'fee_reversals',\n",
       "       'promo_bal_amt', 'recovery_amt', 'snapshot', 'industry', 'time',\n",
       "       'net_payment_behaviour_tripd'],\n",
       "      dtype='object')"
      ]
     },
     "execution_count": 186,
     "metadata": {},
     "output_type": "execute_result"
    }
   ],
   "source": [
    "training.columns"
   ]
  },
  {
   "cell_type": "code",
   "execution_count": 184,
   "metadata": {},
   "outputs": [],
   "source": [
    "training.to_hdf(r'training.h5', key='stage', mode='w')"
   ]
  },
  {
   "cell_type": "code",
   "execution_count": 129,
   "metadata": {},
   "outputs": [
    {
     "data": {
      "text/plain": [
       "Index(['financial_active', 'net_payment_behaviour_tripd', 'promotion_flag',\n",
       "       'variable_rate_index', 'account_status_code', 'active_12_mths',\n",
       "       'bank_fico_buckets_20', 'mob', 'open_closed_flag',\n",
       "       'ever_delinquent_flg', 'nbr_mths_due', 'variable_rate_margin',\n",
       "       'stmt_balance', 'prev_balance', 'net_sales', 'net_payments',\n",
       "       'purchase_active', 'credit_limit_amt', 'credit_limit_pa', 'closed',\n",
       "       'active', 'charge_off', 'principal_amt', 'principal_amt_chrg_off',\n",
       "       'fee_chg_off_reversal_amt', 'net_finance_charge',\n",
       "       'non_principal_amount_gross', 'non_principal_amount_net',\n",
       "       'non_principal_amount_stmt', 'fc_reversals', 'fee_reversals',\n",
       "       'promo_bal_amt', 'recovery_amt', 'due_account_2', 'due_account_3',\n",
       "       'due_account_4', 'due_account_5', 'due_account_6', 'due_account_7',\n",
       "       'due_account_8', 'due_balance_2', 'due_balance_3', 'due_balance_4',\n",
       "       'due_balance_5', 'due_balance_6', 'due_balance_7', 'due_balance_8',\n",
       "       'snapshot', 'industry', 'time'],\n",
       "      dtype='object')"
      ]
     },
     "execution_count": 129,
     "metadata": {},
     "output_type": "execute_result"
    }
   ],
   "source": [
    "forecast.columns"
   ]
  },
  {
   "attachments": {},
   "cell_type": "markdown",
   "metadata": {},
   "source": [
    "### DATA CLEANING AND PROCESSING - FORECAST"
   ]
  },
  {
   "cell_type": "code",
   "execution_count": 293,
   "metadata": {},
   "outputs": [],
   "source": [
    "#Cleaning Forecast Data\n",
    "\n",
    "forecast['time'] = 0\n",
    "\n",
    "forecast = forecast[['financial_active', 'promotion_flag', 'active_12_mths',\n",
    "       'bank_fico_buckets_20', 'mob', 'nbr_mths_due', 'stmt_balance',\n",
    "       'prev_balance', 'net_payments', 'purchase_active', 'credit_limit_amt',\n",
    "       'credit_limit_pa', 'charge_off', 'principal_amt',\n",
    "       'principal_amt_chrg_off', 'fee_chg_off_reversal_amt',\n",
    "       'non_principal_amount_gross', 'non_principal_amount_net',\n",
    "       'non_principal_amount_stmt', 'fc_reversals', 'fee_reversals',\n",
    "       'promo_bal_amt', 'recovery_amt', 'snapshot', 'industry',\n",
    "       'net_payment_behaviour_tripd', \"time\"]]\n",
    "\n",
    "sample = pd.get_dummies(forecast[\"bank_fico_buckets_20\"])\n",
    "forecast = forecast.join(sample)\n",
    "forecast[\"bank_fico_buckets_20\"] = forecast['581-600'] + 2*forecast['721-740'] + 3*forecast['761+'] + 4*forecast['661-680'] + 5*forecast['601-620'] + 6*forecast['701-720'] + 7*forecast['621-640'] + 8*forecast['561-580'] + 9*forecast['641-660'] + 10*forecast['741-760'] + 11*forecast['681-700'] + 12*forecast['<= 560'] + 13*forecast['Exception'] + 14 *forecast['Missing']\n",
    "forecast.drop(['581-600', '721-740', '761+', '661-680', '601-620', '701-720',\n",
    "       '621-640', '561-580', '641-660', '741-760', '681-700', '<= 560',\n",
    "       'Exception', 'Missing'], axis = 1, inplace = True)\n",
    "\n",
    "def get_industry(industry):\n",
    "    if(industry == \"A\"):\n",
    "        return \"Alpha\"\n",
    "    elif(industry == \"B\"):\n",
    "        return \"Beta\"\n",
    "    else:\n",
    "        return \"Chi\"\n",
    "    \n",
    "forecast['industry'] = forecast[\"industry\"].apply(lambda x: get_industry(x))\n",
    "sample = pd.get_dummies(forecast[\"industry\"])\n",
    "forecast = forecast.join(sample)\n",
    "forecast[\"industry\"] = forecast[\"Alpha\"] + 2*forecast[\"Beta\"] + 3*forecast[\"Chi\"]\n",
    "forecast.drop([\"Alpha\",\"Beta\", \"Chi\" ], axis = 1, inplace = True)\n",
    "\n",
    "sample = pd.get_dummies(forecast[\"net_payment_behaviour_tripd\"])\n",
    "forecast = forecast.join(sample)\n",
    "forecast.drop([\"net_payment_behaviour_tripd\"], axis = 1, inplace = True)\n",
    "forecast[\"net_payment_behaviour_tripd\"] = forecast[\"T\"] + 2*forecast[\"R\"] + 3*forecast[\"I\"] + 4*forecast[\"P\"] + 5*forecast[\"D\"]\n",
    "forecast.drop([\"T\", \"R\", \"I\", \"P\", \"D\", \"C\"], axis = 1, inplace = True)"
   ]
  },
  {
   "cell_type": "code",
   "execution_count": 294,
   "metadata": {},
   "outputs": [
    {
     "data": {
      "text/plain": [
       "0        0\n",
       "1        0\n",
       "2        0\n",
       "3        0\n",
       "4        0\n",
       "        ..\n",
       "19861    0\n",
       "19862    0\n",
       "19863    0\n",
       "19864    0\n",
       "19865    0\n",
       "Name: time, Length: 19866, dtype: int64"
      ]
     },
     "execution_count": 294,
     "metadata": {},
     "output_type": "execute_result"
    }
   ],
   "source": [
    "forecast.dtypes\n",
    "forecast['time']"
   ]
  },
  {
   "cell_type": "code",
   "execution_count": 295,
   "metadata": {},
   "outputs": [],
   "source": [
    "forecast.to_hdf(r'forecast.h5', key='stage', mode='w')"
   ]
  },
  {
   "attachments": {},
   "cell_type": "markdown",
   "metadata": {},
   "source": [
    "### VISULALIZATION"
   ]
  },
  {
   "cell_type": "code",
   "execution_count": 107,
   "metadata": {},
   "outputs": [],
   "source": [
    "def balance(df, target, percentage):\n",
    "    df1 = df[df[target] == 1.0]\n",
    "    df2 = df[df[target] == 0.0]\n",
    "    x = np.rint((1-percentage) / percentage)\n",
    "    df2 = df2.sample(len(df1) * int(x))\n",
    "    return pd.concat([df1, df2])\n",
    "balanced = balance(training, \"charge_off\", 0.10)"
   ]
  },
  {
   "cell_type": "code",
   "execution_count": 94,
   "metadata": {},
   "outputs": [],
   "source": [
    "balanced = balanced.loc[balanced[\"snapshot\"] == 201801]\n",
    "balanced = balanced.sort_values(\"time\")\n",
    "x = np.arange(balanced[\"time\"].size)\n",
    "y = balanced[\"time\"]"
   ]
  },
  {
   "cell_type": "code",
   "execution_count": 101,
   "metadata": {},
   "outputs": [
    {
     "data": {
      "image/png": "[encoded data removed]",
      "text/plain": [
       "<Figure size 640x480 with 1 Axes>"
      ]
     },
     "metadata": {},
     "output_type": "display_data"
    }
   ],
   "source": [
    "colors = []\n",
    "for value in balanced[\"charge_off\"]: \n",
    "    if value == 1:\n",
    "        colors.append('r')\n",
    "    else:\n",
    "        colors.append('aliceblue')\n",
    "\n",
    "plt.barh(x, y, color=colors)\n",
    "plt.show()\n"
   ]
  },
  {
   "cell_type": "code",
   "execution_count": 109,
   "metadata": {},
   "outputs": [
    {
     "data": {
      "image/png": "[encoded data removed]",
      "text/plain": [
       "<Figure size 640x480 with 1 Axes>"
      ]
     },
     "metadata": {},
     "output_type": "display_data"
    },
    {
     "data": {
      "image/png": "[encoded data removed]",
      "text/plain": [
       "<Figure size 640x480 with 1 Axes>"
      ]
     },
     "metadata": {},
     "output_type": "display_data"
    },
    {
     "data": {
      "image/png": "[encoded data removed]",
      "text/plain": [
       "<Figure size 640x480 with 1 Axes>"
      ]
     },
     "metadata": {},
     "output_type": "display_data"
    },
    {
     "data": {
      "image/png": "[encoded data removed]",
      "text/plain": [
       "<Figure size 640x480 with 1 Axes>"
      ]
     },
     "metadata": {},
     "output_type": "display_data"
    },
    {
     "data": {
      "image/png": "[encoded data removed]",
      "text/plain": [
       "<Figure size 640x480 with 1 Axes>"
      ]
     },
     "metadata": {},
     "output_type": "display_data"
    },
    {
     "data": {
      "image/png": "[encoded data removed]",
      "text/plain": [
       "<Figure size 640x480 with 1 Axes>"
      ]
     },
     "metadata": {},
     "output_type": "display_data"
    },
    {
     "data": {
      "image/png": "[encoded data removed]",
      "text/plain": [
       "<Figure size 640x480 with 1 Axes>"
      ]
     },
     "metadata": {},
     "output_type": "display_data"
    },
    {
     "data": {
      "image/png": "[encoded data removed]",
      "text/plain": [
       "<Figure size 640x480 with 1 Axes>"
      ]
     },
     "metadata": {},
     "output_type": "display_data"
    },
    {
     "data": {
      "image/png": "[encoded data removed]",
      "text/plain": [
       "<Figure size 640x480 with 1 Axes>"
      ]
     },
     "metadata": {},
     "output_type": "display_data"
    },
    {
     "data": {
      "image/png": "[encoded data removed]",
      "text/plain": [
       "<Figure size 640x480 with 1 Axes>"
      ]
     },
     "metadata": {},
     "output_type": "display_data"
    },
    {
     "data": {
      "image/png": "[encoded data removed]",
      "text/plain": [
       "<Figure size 640x480 with 1 Axes>"
      ]
     },
     "metadata": {},
     "output_type": "display_data"
    },
    {
     "data": {
      "image/png": "[encoded data removed]",
      "text/plain": [
       "<Figure size 640x480 with 1 Axes>"
      ]
     },
     "metadata": {},
     "output_type": "display_data"
    },
    {
     "data": {
      "image/png": "[encoded data removed]",
      "text/plain": [
       "<Figure size 640x480 with 1 Axes>"
      ]
     },
     "metadata": {},
     "output_type": "display_data"
    },
    {
     "data": {
      "image/png": "[encoded data removed]",
      "text/plain": [
       "<Figure size 640x480 with 1 Axes>"
      ]
     },
     "metadata": {},
     "output_type": "display_data"
    },
    {
     "data": {
      "image/png": "[encoded data removed]",
      "text/plain": [
       "<Figure size 640x480 with 1 Axes>"
      ]
     },
     "metadata": {},
     "output_type": "display_data"
    },
    {
     "data": {
      "image/png": "[encoded data removed]",
      "text/plain": [
       "<Figure size 640x480 with 1 Axes>"
      ]
     },
     "metadata": {},
     "output_type": "display_data"
    },
    {
     "data": {
      "image/png": "[encoded data removed]",
      "text/plain": [
       "<Figure size 640x480 with 1 Axes>"
      ]
     },
     "metadata": {},
     "output_type": "display_data"
    },
    {
     "data": {
      "image/png": "[encoded data removed]",
      "text/plain": [
       "<Figure size 640x480 with 1 Axes>"
      ]
     },
     "metadata": {},
     "output_type": "display_data"
    },
    {
     "data": {
      "image/png": "[encoded data removed]",
      "text/plain": [
       "<Figure size 640x480 with 1 Axes>"
      ]
     },
     "metadata": {},
     "output_type": "display_data"
    },
    {
     "data": {
      "image/png": "[encoded data removed]",
      "text/plain": [
       "<Figure size 640x480 with 1 Axes>"
      ]
     },
     "metadata": {},
     "output_type": "display_data"
    },
    {
     "data": {
      "image/png": "[encoded data removed]",
      "text/plain": [
       "<Figure size 640x480 with 1 Axes>"
      ]
     },
     "metadata": {},
     "output_type": "display_data"
    },
    {
     "data": {
      "image/png": "[encoded data removed]",
      "text/plain": [
       "<Figure size 640x480 with 1 Axes>"
      ]
     },
     "metadata": {},
     "output_type": "display_data"
    },
    {
     "data": {
      "image/png": "[encoded data removed]",
      "text/plain": [
       "<Figure size 640x480 with 1 Axes>"
      ]
     },
     "metadata": {},
     "output_type": "display_data"
    },
    {
     "data": {
      "image/png": "[encoded data removed]",
      "text/plain": [
       "<Figure size 640x480 with 1 Axes>"
      ]
     },
     "metadata": {},
     "output_type": "display_data"
    }
   ],
   "source": [
    "for i in balanced.snapshot.unique():\n",
    "    z = balanced.loc[balanced[\"snapshot\"] == i]\n",
    "    z = z.sort_values(\"time\")\n",
    "    x = np.arange(z[\"time\"].size)\n",
    "    y = z[\"time\"]\n",
    "    colors = []\n",
    "    for value in z[\"charge_off\"]: \n",
    "        if value == 1:\n",
    "            colors.append('r')\n",
    "        else:\n",
    "            colors.append('aliceblue')\n",
    "\n",
    "    plt.barh(x, y, color=colors)\n",
    "    plt.title(f\"Snapshot {i}\")\n",
    "    plt.show()"
   ]
  },
  {
   "cell_type": "code",
   "execution_count": null,
   "metadata": {},
   "outputs": [],
   "source": []
  }
 ],
 "metadata": {
  "kernelspec": {
   "display_name": "base",
   "language": "python",
   "name": "python3"
  },
  "language_info": {
   "codemirror_mode": {
    "name": "ipython",
    "version": 3
   },
   "file_extension": ".py",
   "mimetype": "text/x-python",
   "name": "python",
   "nbconvert_exporter": "python",
   "pygments_lexer": "ipython3",
   "version": "3.9.13"
  },
  "orig_nbformat": 4,
  "vscode": {
   "interpreter": {
    "hash": "034c544711677ba1767820006f6cbf0160dcbb265606bbc10838d50f88ca1e8b"
   }
  }
 },
 "nbformat": 4,
 "nbformat_minor": 2
}
